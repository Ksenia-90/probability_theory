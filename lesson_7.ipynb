{
  "nbformat": 4,
  "nbformat_minor": 0,
  "metadata": {
    "colab": {
      "name": "lesson_7.ipynb",
      "provenance": [],
      "collapsed_sections": [],
      "authorship_tag": "ABX9TyM4LXe5bt4vx4hicVstfiXR",
      "include_colab_link": true
    },
    "kernelspec": {
      "name": "python3",
      "display_name": "Python 3"
    },
    "language_info": {
      "name": "python"
    }
  },
  "cells": [
    {
      "cell_type": "markdown",
      "metadata": {
        "id": "view-in-github",
        "colab_type": "text"
      },
      "source": [
        "<a href=\"https://colab.research.google.com/github/Ksenia-90/probability_theory/blob/lesson_7/lesson_7.ipynb\" target=\"_parent\"><img src=\"https://colab.research.google.com/assets/colab-badge.svg\" alt=\"Open In Colab\"/></a>"
      ]
    },
    {
      "cell_type": "markdown",
      "metadata": {
        "id": "WPtOADCdWGJb"
      },
      "source": [
        "##**Урок 7. Многомерный статистический анализ. Линейная регрессия**"
      ]
    },
    {
      "cell_type": "code",
      "metadata": {
        "id": "b7eRsgdnZ8rc"
      },
      "source": [
        "import numpy as np\n",
        "import pandas as pd\n",
        "import matplotlib.pyplot as plt\n",
        "from scipy import stats\n",
        "%matplotlib inline\n"
      ],
      "execution_count": null,
      "outputs": []
    },
    {
      "cell_type": "markdown",
      "metadata": {
        "id": "Ap0CdqbqW20D"
      },
      "source": [
        "**Задача 1**\n",
        "\n",
        "Дана матрица объект-признак\n",
        "\n",
        "X = [[ 1.22401313, 2.30868478, 3.03636353, 2.69287214],\n",
        "[-0.18757272, 1.30337355, 5.12093014, 3.46363202],\n",
        "[-0.81094525, 1.82463398, 5.79686488, 1.86159445],\n",
        "[ 0.75129018, 2.67392052, 3.65529809, 1.66746094],\n",
        "[ 0.00972362, 1.97367255, 2.50594319, 1.69755173],\n",
        "[-0.62972637, 0.77750764, 2.84124027, 4.54410559],\n",
        "[ 2.29536229, 1.81206697, 1.95026215, 1.51874636],\n",
        "[ 0.0920418 , 2.26971361, 7.47708735, 2.61081203],\n",
        "[ 2.39252799, 3.17563985, 3.61420599, 5.10773362],\n",
        "[ 0.54983815, 2.87988651, 1.65752765, 1.59635987]]\n",
        "\n",
        "и значения целевой переменной\n",
        "\n",
        "y = [ 9.26193358, 9.700363 , 8.67214805, 8.74796974, 6.18689108,\n",
        "7.53312713, 7.57643777, 12.44965478, 14.29010746, 6.68361218]\n",
        "\n",
        "Подберите два признака (из четырёх) так, чтобы уровень линейной зависимости целевой переменной от значений этих признаков был максимальным. Другими словами, модель линейной регрессии на этих признаках должна давать наилучший результат.\n",
        "Является ли значимым получившееся уравнение регрессии?"
      ]
    },
    {
      "cell_type": "code",
      "metadata": {
        "id": "wXszYSyUhMyA"
      },
      "source": [
        "x = np.array([[ 1.22401313, 2.30868478, 3.03636353, 2.69287214],\n",
        "              [-0.18757272, 1.30337355, 5.12093014, 3.46363202],\n",
        "              [-0.81094525, 1.82463398, 5.79686488, 1.86159445],\n",
        "              [ 0.75129018, 2.67392052, 3.65529809, 1.66746094],\n",
        "              [ 0.00972362, 1.97367255, 2.50594319, 1.69755173],\n",
        "              [-0.62972637, 0.77750764, 2.84124027, 4.54410559],\n",
        "              [ 2.29536229, 1.81206697, 1.95026215, 1.51874636],\n",
        "              [ 0.0920418 , 2.26971361, 7.47708735, 2.61081203],\n",
        "              [ 2.39252799, 3.17563985, 3.61420599, 5.10773362],\n",
        "              [ 0.54983815, 2.87988651, 1.65752765, 1.59635987]])"
      ],
      "execution_count": null,
      "outputs": []
    },
    {
      "cell_type": "code",
      "metadata": {
        "colab": {
          "base_uri": "https://localhost:8080/"
        },
        "id": "QcPB4GZwh1db",
        "outputId": "52e9c560-72bd-4692-9244-2fa865c0e673"
      },
      "source": [
        "xt = x.transpose()\n",
        "xt"
      ],
      "execution_count": null,
      "outputs": [
        {
          "output_type": "execute_result",
          "data": {
            "text/plain": [
              "array([[ 1.22401313, -0.18757272, -0.81094525,  0.75129018,  0.00972362,\n",
              "        -0.62972637,  2.29536229,  0.0920418 ,  2.39252799,  0.54983815],\n",
              "       [ 2.30868478,  1.30337355,  1.82463398,  2.67392052,  1.97367255,\n",
              "         0.77750764,  1.81206697,  2.26971361,  3.17563985,  2.87988651],\n",
              "       [ 3.03636353,  5.12093014,  5.79686488,  3.65529809,  2.50594319,\n",
              "         2.84124027,  1.95026215,  7.47708735,  3.61420599,  1.65752765],\n",
              "       [ 2.69287214,  3.46363202,  1.86159445,  1.66746094,  1.69755173,\n",
              "         4.54410559,  1.51874636,  2.61081203,  5.10773362,  1.59635987]])"
            ]
          },
          "metadata": {},
          "execution_count": 3
        }
      ]
    },
    {
      "cell_type": "code",
      "metadata": {
        "id": "GVYKWUZ5hSNe"
      },
      "source": [
        "y = np.array([ 9.26193358, 9.700363 , 8.67214805, 8.74796974, 6.18689108, 7.53312713, 7.57643777, 12.44965478, 14.29010746, 6.68361218])"
      ],
      "execution_count": null,
      "outputs": []
    },
    {
      "cell_type": "code",
      "metadata": {
        "colab": {
          "base_uri": "https://localhost:8080/"
        },
        "id": "SHFWh_KynU-O",
        "outputId": "32ceaef3-e36f-4a5c-b1a4-31e2d8668481"
      },
      "source": [
        "b1 = (np.mean(xt[0] * xt[1]) - np.mean(xt[0]) * np.mean(xt[1])) / (np.mean(xt[0]**2) - np.mean(xt[0])**2)\n",
        "b0 = np.mean(xt[1]) - b1 * np.mean(xt[0])\n",
        "b0, b1\n"
      ],
      "execution_count": null,
      "outputs": [
        {
          "output_type": "execute_result",
          "data": {
            "text/plain": [
              "(1.8846286228272133, 0.37857974767354174)"
            ]
          },
          "metadata": {},
          "execution_count": 18
        }
      ]
    },
    {
      "cell_type": "markdown",
      "metadata": {
        "id": "-lu_PSP8rLdQ"
      },
      "source": [
        "Линейная регрессия:\n",
        "* $y = 1.89 + 0.38 * x$"
      ]
    },
    {
      "cell_type": "code",
      "metadata": {
        "colab": {
          "base_uri": "https://localhost:8080/"
        },
        "id": "XxgWqmzJvytP",
        "outputId": "5b5bda52-3f5e-40be-bd70-253cd1596d46"
      },
      "source": [
        "b1 = (np.mean(xt[0] * xt[2]) - np.mean(xt[0]) * np.mean(xt[2])) / (np.mean(xt[0]**2) - np.mean(xt[0])**2)\n",
        "b0 = np.mean(xt[2]) - b1 * np.mean(xt[0])\n",
        "b0, b1\n"
      ],
      "execution_count": null,
      "outputs": [
        {
          "output_type": "execute_result",
          "data": {
            "text/plain": [
              "(4.153396212265479, -0.6820017338122241)"
            ]
          },
          "metadata": {},
          "execution_count": 33
        }
      ]
    },
    {
      "cell_type": "code",
      "metadata": {
        "colab": {
          "base_uri": "https://localhost:8080/"
        },
        "id": "uIBBkFjHv6PC",
        "outputId": "7b61dd9c-e1e6-4e1a-a29f-5e349e7bcb00"
      },
      "source": [
        "b1 = (np.mean(xt[0] * xt[3]) - np.mean(xt[0]) * np.mean(xt[3])) / (np.mean(xt[0]**2) - np.mean(xt[0])**2)\n",
        "b0 = np.mean(xt[3]) - b1 * np.mean(xt[0])\n",
        "b0, b1\n"
      ],
      "execution_count": null,
      "outputs": [
        {
          "output_type": "execute_result",
          "data": {
            "text/plain": [
              "(2.6177477586242164, 0.10259135582210878)"
            ]
          },
          "metadata": {},
          "execution_count": 34
        }
      ]
    },
    {
      "cell_type": "code",
      "metadata": {
        "colab": {
          "base_uri": "https://localhost:8080/"
        },
        "id": "m8f2rAo3wCPS",
        "outputId": "94bdfc4a-4ae1-41bd-d656-36b6488d6e66"
      },
      "source": [
        "b1 = (np.mean(xt[1] * xt[2]) - np.mean(xt[1]) * np.mean(xt[2])) / (np.mean(xt[1]**2) - np.mean(xt[1])**2)\n",
        "b0 = np.mean(xt[2]) - b1 * np.mean(xt[1])\n",
        "b0, b1\n"
      ],
      "execution_count": null,
      "outputs": [
        {
          "output_type": "execute_result",
          "data": {
            "text/plain": [
              "(4.26652305108627, -0.23855818965598644)"
            ]
          },
          "metadata": {},
          "execution_count": 35
        }
      ]
    },
    {
      "cell_type": "code",
      "metadata": {
        "colab": {
          "base_uri": "https://localhost:8080/"
        },
        "id": "3Dom9RnHwKLV",
        "outputId": "781b80d3-c229-4e79-b4ee-324a1fcf6aca"
      },
      "source": [
        "b1 = (np.mean(xt[1] * xt[3]) - np.mean(xt[1]) * np.mean(xt[3])) / (np.mean(xt[1]**2) - np.mean(xt[1])**2)\n",
        "b0 = np.mean(xt[3]) - b1 * np.mean(xt[1])\n",
        "b0, b1\n"
      ],
      "execution_count": null,
      "outputs": [
        {
          "output_type": "execute_result",
          "data": {
            "text/plain": [
              "(3.2225315462592126, -0.2602229011243834)"
            ]
          },
          "metadata": {},
          "execution_count": 36
        }
      ]
    },
    {
      "cell_type": "code",
      "metadata": {
        "colab": {
          "base_uri": "https://localhost:8080/"
        },
        "id": "XHUk83NEwQF2",
        "outputId": "4a232742-b7a2-4974-9f48-cd4f640a5d70"
      },
      "source": [
        "b1 = (np.mean(xt[2] * xt[3]) - np.mean(xt[2]) * np.mean(xt[3])) / (np.mean(xt[2]**2) - np.mean(xt[2])**2)\n",
        "b0 = np.mean(xt[3]) - b1 * np.mean(xt[1])\n",
        "b0, b1\n"
      ],
      "execution_count": null,
      "outputs": [
        {
          "output_type": "execute_result",
          "data": {
            "text/plain": [
              "(2.4842813947262226, 0.09133985772682508)"
            ]
          },
          "metadata": {},
          "execution_count": 37
        }
      ]
    },
    {
      "cell_type": "markdown",
      "metadata": {
        "id": "WdmY7AeQIhuO"
      },
      "source": [
        "**Задача 2**\n",
        "\n",
        "Даны значения величины заработной платы заемщиков банка (salary) и значения их поведенческого кредитного скоринга (scoring):\n",
        "\n",
        "* salary = [35, 45, 190, 200, 40, 70, 54, 150, 120, 110]\n",
        "* scoring = [401, 574, 874, 919, 459, 739, 653, 902, 746, 832]\n",
        "\n",
        "Возьмём в качестве признака значение salary, а в качестве целевой переменной - scoring.\n",
        "\n",
        "* 1.Найдите коэффициенты линейной регрессии с помощью формул для парной регрессии, а затем с помощью метода наименьших квадратов.\n",
        "* 2.Постройте scatter plot по данным и отметьте на нём прямую линейной регрессии, полученную в п. 1.\n",
        "* 3 Посчитайте коэффициент детерминации.\n",
        "* 4 Оцените построенное уравнение регрессии с помощью F-критерия Фишера.\n",
        "* 5 (доп) Посчитать среднюю ошибку аппроксимации"
      ]
    },
    {
      "cell_type": "code",
      "metadata": {
        "id": "eDuqjODwJK_G"
      },
      "source": [
        "salary = np.array([35, 45, 190, 200, 40, 70, 54, 150, 120, 110])\n",
        "scoring = np.array([401, 574, 874, 919, 459, 739, 653, 902, 746, 832])"
      ],
      "execution_count": null,
      "outputs": []
    },
    {
      "cell_type": "markdown",
      "metadata": {
        "id": "vIlD0Ym-aGnY"
      },
      "source": [
        "**Найдите коэффициенты линейной регрессии с помощью формул для парной регрессии**"
      ]
    },
    {
      "cell_type": "code",
      "metadata": {
        "colab": {
          "base_uri": "https://localhost:8080/"
        },
        "id": "ZHuJZ6zuaFiq",
        "outputId": "99737258-6071-479f-b76c-95a26e6ceb19"
      },
      "source": [
        "b1 = (np.mean(salary * scoring ) - np.mean(salary) * np.mean(scoring)) / (np.mean(salary ** 2) - np.mean(salary) ** 2)\n",
        "print(f'Коэффицент b1 = {b1}')"
      ],
      "execution_count": null,
      "outputs": [
        {
          "output_type": "stream",
          "name": "stdout",
          "text": [
            "Коэффицент b1 = 2.620538882402765\n"
          ]
        }
      ]
    },
    {
      "cell_type": "code",
      "metadata": {
        "colab": {
          "base_uri": "https://localhost:8080/"
        },
        "id": "fjPre32baZa5",
        "outputId": "21b5eb59-5514-4b4c-d026-e31b451dc40b"
      },
      "source": [
        "b0 = np.mean(scoring) - b1 * np.mean(salary)\n",
        "print(f'Коэффицент b0 = {b0}')"
      ],
      "execution_count": null,
      "outputs": [
        {
          "output_type": "stream",
          "name": "stdout",
          "text": [
            "Коэффицент b0 = 444.1773573243596\n"
          ]
        }
      ]
    },
    {
      "cell_type": "markdown",
      "metadata": {
        "id": "nIQQ5ZP-aglN"
      },
      "source": [
        "Линейная регрессия:\n",
        "* $y = 444.18 + 2.62 * x$"
      ]
    },
    {
      "cell_type": "markdown",
      "metadata": {
        "id": "tXMDawdmayfF"
      },
      "source": [
        "**Найдите коэффициенты линейной регрессии с помощью метода наименьших квадратов**"
      ]
    },
    {
      "cell_type": "code",
      "metadata": {
        "colab": {
          "base_uri": "https://localhost:8080/"
        },
        "id": "bC2SMSpJbFHz",
        "outputId": "13ea56f2-15c7-43eb-f650-063d1e97ec19"
      },
      "source": [
        "x2 = pd.DataFrame(salary)\n",
        "y2 = pd.DataFrame(scoring)\n",
        "x2.shape"
      ],
      "execution_count": null,
      "outputs": [
        {
          "output_type": "execute_result",
          "data": {
            "text/plain": [
              "(10, 1)"
            ]
          },
          "metadata": {},
          "execution_count": 5
        }
      ]
    },
    {
      "cell_type": "code",
      "metadata": {
        "colab": {
          "base_uri": "https://localhost:8080/"
        },
        "id": "CTJIn4CHbL1p",
        "outputId": "c14ff094-1598-42ef-8f7e-96d3405fa0e8"
      },
      "source": [
        "# Добавляем столбец из 1, соответствующий b0\n",
        "first = np.ones((x2.shape[0], 1))\n",
        "x2 = np.hstack((first, x2))\n",
        "x2.shape"
      ],
      "execution_count": null,
      "outputs": [
        {
          "output_type": "execute_result",
          "data": {
            "text/plain": [
              "(10, 2)"
            ]
          },
          "metadata": {},
          "execution_count": 7
        }
      ]
    },
    {
      "cell_type": "code",
      "metadata": {
        "colab": {
          "base_uri": "https://localhost:8080/"
        },
        "id": "hqfGKraGbqqg",
        "outputId": "1d514e03-b0e2-4d06-cbc6-3e9c72448a76"
      },
      "source": [
        "# Посчитаем определитель матрицы\n",
        "XTX = x2.T.dot(x2)\n",
        "np.linalg.det(XTX)"
      ],
      "execution_count": null,
      "outputs": [
        {
          "output_type": "execute_result",
          "data": {
            "text/plain": [
              "349464.00000000023"
            ]
          },
          "metadata": {},
          "execution_count": 8
        }
      ]
    },
    {
      "cell_type": "code",
      "metadata": {
        "colab": {
          "base_uri": "https://localhost:8080/"
        },
        "id": "H8fbNzM9b6Pa",
        "outputId": "5d2be533-56db-4c20-a567-8d77f2bdcc97"
      },
      "source": [
        "XTX_ = np.linalg.inv(XTX)\n",
        "b = XTX_.dot(x2.T).dot(y2)\n",
        "print(b)\n"
      ],
      "execution_count": null,
      "outputs": [
        {
          "output_type": "stream",
          "name": "stdout",
          "text": [
            "[[444.17735732]\n",
            " [  2.62053888]]\n"
          ]
        }
      ]
    },
    {
      "cell_type": "markdown",
      "metadata": {
        "id": "yNtQvRe6cKch"
      },
      "source": [
        "Коэфициенты по обоим методам равны и следовательно уравнение линейной регрессии принимает вид:\n",
        "\n",
        "* $y=444.18+2.62∗x$"
      ]
    },
    {
      "cell_type": "markdown",
      "metadata": {
        "id": "5cXgtnDqcpmC"
      },
      "source": [
        "2. **Постройте scatter plot по данным и отметьте на нём прямую линейной регрессии, полученную в п. 1.**"
      ]
    },
    {
      "cell_type": "code",
      "metadata": {
        "colab": {
          "base_uri": "https://localhost:8080/",
          "height": 282
        },
        "id": "nbMLpDz7ctZh",
        "outputId": "308847d3-ee86-41f4-ca8f-7e7448a73160"
      },
      "source": [
        "ox = salary\n",
        "oy = b0 + b1 * ox\n",
        "\n",
        "plt.scatter(salary, scoring)\n",
        "plt.plot(ox, oy, color='green')"
      ],
      "execution_count": null,
      "outputs": [
        {
          "output_type": "execute_result",
          "data": {
            "text/plain": [
              "[<matplotlib.lines.Line2D at 0x7fe70f6db8d0>]"
            ]
          },
          "metadata": {},
          "execution_count": 10
        },
        {
          "output_type": "display_data",
          "data": {
            "image/png": "[encoded data removed]",
            "text/plain": [
              "<Figure size 432x288 with 1 Axes>"
            ]
          },
          "metadata": {
            "needs_background": "light"
          }
        }
      ]
    },
    {
      "cell_type": "markdown",
      "metadata": {
        "id": "l1ZEtqDndDEz"
      },
      "source": [
        "**3 Посчитайте коэффициент детерминации.**"
      ]
    },
    {
      "cell_type": "code",
      "metadata": {
        "colab": {
          "base_uri": "https://localhost:8080/"
        },
        "id": "FllnoA5odELT",
        "outputId": "eeaaeb56-cbeb-48d4-cd28-31559f7a2233"
      },
      "source": [
        "pred_scor = b0 + b1 * salary\n",
        "R = pred_scor.var() / scoring.var()\n",
        "print(f'Коэффициент детерминации: {R_1}')"
      ],
      "execution_count": null,
      "outputs": [
        {
          "output_type": "stream",
          "name": "stdout",
          "text": [
            "Коэффициент детерминации: 0.7876386635293678\n"
          ]
        }
      ]
    },
    {
      "cell_type": "markdown",
      "metadata": {
        "id": "kb53I9u9dhfF"
      },
      "source": [
        "**4.Оцените построенное уравнение регрессии с помощью F-критерия Фишера**"
      ]
    },
    {
      "cell_type": "markdown",
      "metadata": {
        "id": "d8OrT77WdzTX"
      },
      "source": [
        "* $R^2$ - коэффициент детерминации, \n",
        "* $n$ - число наблюдений,\n",
        "* $k$ - число факторов"
      ]
    },
    {
      "cell_type": "code",
      "metadata": {
        "colab": {
          "base_uri": "https://localhost:8080/"
        },
        "id": "5vi5wM1Qdg0H",
        "outputId": "6839cebc-fa17-40dc-d41e-1b5019ff1af8"
      },
      "source": [
        "k_1 = 1\n",
        "k_2 = salary.shape[0] - k_1 -1\n",
        "T_1 = (R / (1 - R)) * (k_2 / k_1)\n",
        "T_1"
      ],
      "execution_count": null,
      "outputs": [
        {
          "output_type": "execute_result",
          "data": {
            "text/plain": [
              "29.67164085966437"
            ]
          },
          "metadata": {},
          "execution_count": 18
        }
      ]
    },
    {
      "cell_type": "code",
      "metadata": {
        "colab": {
          "base_uri": "https://localhost:8080/"
        },
        "id": "OCPr33Tmeh4N",
        "outputId": "085d9ac3-9dd5-44ee-9c66-8ac8b4b7c729"
      },
      "source": [
        "salary.shape[0]"
      ],
      "execution_count": null,
      "outputs": [
        {
          "output_type": "execute_result",
          "data": {
            "text/plain": [
              "10"
            ]
          },
          "metadata": {},
          "execution_count": 16
        }
      ]
    },
    {
      "cell_type": "code",
      "metadata": {
        "colab": {
          "base_uri": "https://localhost:8080/"
        },
        "id": "d-UWuo3neZEs",
        "outputId": "922ddb5a-2c4b-4363-946a-26cac85a200b"
      },
      "source": [
        "alpha = 0.05\n",
        "\n",
        "F_ = stats.f.ppf(1 - alpha, k_1, k_2)\n",
        "F_"
      ],
      "execution_count": null,
      "outputs": [
        {
          "output_type": "execute_result",
          "data": {
            "text/plain": [
              "5.317655071578714"
            ]
          },
          "metadata": {},
          "execution_count": 15
        }
      ]
    },
    {
      "cell_type": "markdown",
      "metadata": {
        "id": "CQq8O8zVfAd9"
      },
      "source": [
        "Уравненеи регрессии значимо (29,67 > 5.32)"
      ]
    },
    {
      "cell_type": "markdown",
      "metadata": {
        "id": "OzaOiuSNevsy"
      },
      "source": [
        "5.**Посчитать среднюю ошибку аппроксимации**"
      ]
    },
    {
      "cell_type": "code",
      "metadata": {
        "colab": {
          "base_uri": "https://localhost:8080/"
        },
        "id": "WodYXyekezgN",
        "outputId": "8368c97f-0679-4a1c-845e-26e341bc9b56"
      },
      "source": [
        "def approximation_error(y_real, y_pred):\n",
        "    return np.abs((y_real - y_pred) / y_real).mean()\n",
        "\n",
        "A = approximation_error(scoring, pred_scor)\n",
        "print(f'Cредняя ошибка аппроксимации:{A}')"
      ],
      "execution_count": null,
      "outputs": [
        {
          "output_type": "stream",
          "name": "stdout",
          "text": [
            "Cредняя ошибка аппроксимации:0.11469251843561709\n"
          ]
        }
      ]
    }
  ]
}