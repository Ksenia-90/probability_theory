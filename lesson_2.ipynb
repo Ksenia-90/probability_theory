{
  "nbformat": 4,
  "nbformat_minor": 0,
  "metadata": {
    "colab": {
      "name": "lesson_2.ipynb",
      "provenance": [],
      "collapsed_sections": [],
      "authorship_tag": "ABX9TyPyngZ0sbQwhV4x8rZe+Af5",
      "include_colab_link": true
    },
    "kernelspec": {
      "name": "python3",
      "display_name": "Python 3"
    },
    "language_info": {
      "name": "python"
    }
  },
  "cells": [
    {
      "cell_type": "markdown",
      "metadata": {
        "id": "view-in-github",
        "colab_type": "text"
      },
      "source": [
        "<a href=\"https://colab.research.google.com/github/Ksenia-90/probability_theory/blob/lesson_2/lesson_2.ipynb\" target=\"_parent\"><img src=\"https://colab.research.google.com/assets/colab-badge.svg\" alt=\"Open In Colab\"/></a>"
      ]
    },
    {
      "cell_type": "markdown",
      "metadata": {
        "id": "YDerSuugxg8G"
      },
      "source": [
        "##**Урок 2. Дискретные случайные величины. Закон распределения вероятностей. Биномиальный закон распределения. Распределение Пуассона**"
      ]
    },
    {
      "cell_type": "code",
      "metadata": {
        "id": "_nxFBgb4huF4"
      },
      "source": [
        "import numpy as np"
      ],
      "execution_count": 2,
      "outputs": []
    },
    {
      "cell_type": "markdown",
      "metadata": {
        "id": "B23n5uF5yDJC"
      },
      "source": [
        "**Задача 1**\n",
        "\n",
        "**Контрольная работа состоит из пяти вопросов. На каждый вопрос приведено четыре варианта ответа, один из которых правильный. Составьте закон распределения числа правильных ответов при простом угадывании. Найдите M(X), D(X).**"
      ]
    },
    {
      "cell_type": "markdown",
      "metadata": {
        "id": "YXy6S3IUN_uc"
      },
      "source": [
        "* n = 5 \n",
        "* p = 1/4 = 0.25\n",
        "* m = 3/4 = 0.75"
      ]
    },
    {
      "cell_type": "markdown",
      "metadata": {
        "id": "kRqJVy8tzD3d"
      },
      "source": [
        "$$P(0)=C^0_5 * (0.25)^0 * (0.75)^5  = 0.237$$\n",
        "$$P(1)=C^1_5 * (0.25)^1 * (0.75)^4  = 0.396$$\n",
        "$$P(2)=C^2_5 * (0.25)^2 * (0.75)^3  = 0.264$$\n",
        "$$P(3)=C^3_5 * (0.25)^3 * (0.75)^2  = 0.0879$$\n",
        "$$P(4)=C^4_5 * (0.25)^4 * (0.75)^1  = 0.00147$$\n",
        "$$P(5)=C^5_5 * (0.25)^5 * (0.75)^0  = 0.000977$$\n"
      ]
    },
    {
      "cell_type": "markdown",
      "metadata": {
        "id": "i8Vf1kXvPgPy"
      },
      "source": [
        "Проверка:\n",
        "0.237 + 0.0396 + 0.264 + 0.0879 + 0.00147 + 0.00097 = 1"
      ]
    },
    {
      "cell_type": "markdown",
      "metadata": {
        "id": "EIH_fZ98QVj9"
      },
      "source": [
        "* M(X) = 5 * 0.25 = 1,25\n",
        "* D(x) = 5 * 0.25 * 0.75 = 0.9375"
      ]
    },
    {
      "cell_type": "markdown",
      "metadata": {
        "id": "uNlG7jqJyRC4"
      },
      "source": [
        "**Задача 2**\n",
        "\n",
        "**Вероятность поймать рыбу при одном забрасывании удочки равна 0.01. Какова вероятность того, что число пойманных рыб при 200 забросах удочки будет не менее 5 и не более 10?**\n",
        "\n"
      ]
    },
    {
      "cell_type": "code",
      "metadata": {
        "id": "tqyDvKG5dtcH"
      },
      "source": [
        "lambda_ = 2"
      ],
      "execution_count": 38,
      "outputs": []
    },
    {
      "cell_type": "code",
      "metadata": {
        "id": "5whPgrICcOz5"
      },
      "source": [
        "def goo (k, lambda_):\n",
        "  return (lambda_ **k) * (np.exp(-lambda_)) / np.math.factorial(k)\n"
      ],
      "execution_count": 39,
      "outputs": []
    },
    {
      "cell_type": "code",
      "metadata": {
        "colab": {
          "base_uri": "https://localhost:8080/"
        },
        "id": "eW_7OlejdVTq",
        "outputId": "45fb5e43-4537-44fb-f8c7-c49d15aab824"
      },
      "source": [
        "sum (goo (k=i, lambda_ = lambda_) for i in range (5,11))"
      ],
      "execution_count": 40,
      "outputs": [
        {
          "output_type": "execute_result",
          "data": {
            "text/plain": [
              "0.052644709119342686"
            ]
          },
          "metadata": {},
          "execution_count": 40
        }
      ]
    },
    {
      "cell_type": "markdown",
      "metadata": {
        "id": "m1oHL3etyZR3"
      },
      "source": [
        "**Задача 3**\n",
        "\n",
        "**В условиях предыдущей задачи сколько забросов удочки нужно сделать чтобы быть уверенным с вероятностью 0.9, что хотя бы 10 раз будет поймана рыба?**\n",
        "\n",
        "**Подсказка. Как посчитать P(X >= k) для величины X, имеющей биномиальное распределение? Здесь предстоит немножко покодить.**"
      ]
    },
    {
      "cell_type": "code",
      "metadata": {
        "colab": {
          "base_uri": "https://localhost:8080/"
        },
        "id": "MJEp9n1LNt9W",
        "outputId": "55dd6906-e1c6-441d-dc14-6947d1868d2d"
      },
      "source": [
        "def puasson(k, lambda_):\n",
        "    return (lambda_ ** k) * (np.exp(-lambda_)) / np.math.factorial(k)\n",
        "res = 0\n",
        "n = 0\n",
        "while (res <= 0.9):\n",
        "    res = 1 - sum(puasson(k=i, lambda_= n * 0.01) for i in range(0, 11))\n",
        "    n = n + 1\n",
        "\n",
        "print(f'{n} забросов удочки')"
      ],
      "execution_count": 5,
      "outputs": [
        {
          "output_type": "stream",
          "name": "stdout",
          "text": [
            "1542 забросов удочки\n"
          ]
        }
      ]
    }
  ]
}