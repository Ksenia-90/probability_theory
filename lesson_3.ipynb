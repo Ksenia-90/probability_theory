{
  "nbformat": 4,
  "nbformat_minor": 0,
  "metadata": {
    "colab": {
      "name": "lesson_3.ipynb",
      "provenance": [],
      "collapsed_sections": [],
      "authorship_tag": "ABX9TyM0UqZenTsCP8OC4kVVC1Ir",
      "include_colab_link": true
    },
    "kernelspec": {
      "name": "python3",
      "display_name": "Python 3"
    },
    "language_info": {
      "name": "python"
    }
  },
  "cells": [
    {
      "cell_type": "markdown",
      "metadata": {
        "id": "view-in-github",
        "colab_type": "text"
      },
      "source": [
        "<a href=\"https://colab.research.google.com/github/Ksenia-90/probability_theory/blob/lesson_3/lesson_3.ipynb\" target=\"_parent\"><img src=\"https://colab.research.google.com/assets/colab-badge.svg\" alt=\"Open In Colab\"/></a>"
      ]
    },
    {
      "cell_type": "markdown",
      "metadata": {
        "id": "YZTJRP97kDSy"
      },
      "source": [
        "##**Урок 3. Описательная статистика. Качественные и количественные характеристики популяции. Графическое представление данных**"
      ]
    },
    {
      "cell_type": "code",
      "metadata": {
        "id": "Q-Sedx3de8Cp"
      },
      "source": [
        "import numpy as np"
      ],
      "execution_count": 18,
      "outputs": []
    },
    {
      "cell_type": "code",
      "metadata": {
        "id": "-58odTbyfOB-"
      },
      "source": [
        "import pandas as pd"
      ],
      "execution_count": 19,
      "outputs": []
    },
    {
      "cell_type": "code",
      "metadata": {
        "id": "F25dE-PojJZg"
      },
      "source": [
        "from matplotlib import pyplot as plt"
      ],
      "execution_count": 20,
      "outputs": []
    },
    {
      "cell_type": "markdown",
      "metadata": {
        "id": "xPIfVgm3kO7b"
      },
      "source": [
        "**Задача 1**\n",
        "\n",
        "Даны значения зарплат из выборки выпускников:\n",
        "\n",
        "100, 80, 75, 77, 89, 33, 45, 25, 65, 17, 30, 24, 57, 55, 70, 75, 65, 84, 90, 150.\n",
        "\n",
        "Без использования статистических функций вроде mean, std, var, посчитать среднее арифметическое, среднее квадратичное отклонение, смещенную и несмещенную оценки дисперсий для данной выборки.\n",
        "\n",
        "Можно затем посчитать те же значения с использованием статистических функций, чтобы проверить себя."
      ]
    },
    {
      "cell_type": "code",
      "metadata": {
        "id": "Js-f2JBSeGZp"
      },
      "source": [
        "def mean_salary(salary):\n",
        "    if len(salary) > 0:\n",
        "        mean_salary_1 = salary.sum() / len(salary)\n",
        "        print(f'Среднее арифметическое {mean_salary_1}')\n",
        "        \n",
        "\n",
        "def std_salary(salary):\n",
        "    if len(salary) > 0:\n",
        "        std_salary_1 = np.sqrt(((salary - salary.mean()) ** 2).sum() / len(salary))\n",
        "        print(f'Среднее квадратичное отклонение {std_salary_1}')\n",
        "\n",
        "def variance_salary1(salary):\n",
        "    if len(salary) > 0:\n",
        "        variance_salary_1 = ((salary - salary.mean()) ** 2).sum() / len(salary)\n",
        "        print(f'Cмещенная оценка дисперсии  {variance_salary_1}')\n",
        "\n",
        "def not_variance_salary(salary):\n",
        "    if len(salary) > 0:\n",
        "        not_variance_salary_1 = ((salary - salary.mean()) ** 2).sum() / (len(salary) - 1)\n",
        "        print(f'Несмещенная оценка дисперсии  {variance_salary2_1}')"
      ],
      "execution_count": 36,
      "outputs": []
    },
    {
      "cell_type": "code",
      "metadata": {
        "colab": {
          "base_uri": "https://localhost:8080/"
        },
        "id": "Gh5MuArXegKW",
        "outputId": "b274efdc-61ca-4a97-94e8-05ea9bfd6c3f"
      },
      "source": [
        "salary = np.array([100, 80, 75, 77, 89, 33, 45, 25, 65, 17, 30, 24, 57, 55, 70, 75, 65, 84, 90, 150])\n",
        "mean_salary(salary)\n",
        "std_salary(salary)\n",
        "variance_salary1(salary)\n",
        "variance_salary2(salary)"
      ],
      "execution_count": 37,
      "outputs": [
        {
          "output_type": "stream",
          "name": "stdout",
          "text": [
            "Среднее арифметическое 65.3, hhhhhhh 65.3\n",
            "Среднее квадратичное отклонение 30.823854398825596\n",
            "Cмещенная оценка дисперсии  950.11\n",
            "Несмещенная оценка дисперсии  1000.1157894736842\n"
          ]
        }
      ]
    },
    {
      "cell_type": "markdown",
      "metadata": {
        "id": "b3vl6btcdoog"
      },
      "source": [
        "**Задача 2**\n",
        "\n",
        "Для выборки из задачи 1 найти первый и третий квартили, интерквартильное расстояние. Найти выборсы в выборке, используя для этого \"усы\" из boxplot. В этой задаче можно использовать статистические функции."
      ]
    },
    {
      "cell_type": "code",
      "metadata": {
        "colab": {
          "base_uri": "https://localhost:8080/"
        },
        "id": "WTn3pmQbfHGI",
        "outputId": "c723e443-9af4-44cb-f2e4-df2eddd69672"
      },
      "source": [
        "df_salary = pd.DataFrame(salary)\n",
        "q1 = df_salary[0].quantile(0.25)\n",
        "q3 = df_salary[0].quantile(0.75)\n",
        "iqr = q3 - q1\n",
        "\n",
        "print(f'Первый квартиль: {q1}')\n",
        "print(f'Трейтий квартиль: {q3}')\n",
        "print(f'Интерквартильное расстояние: {iqr}')"
      ],
      "execution_count": 23,
      "outputs": [
        {
          "output_type": "stream",
          "name": "stdout",
          "text": [
            "Первый квартиль: 42.0\n",
            "Трейтий квартиль: 81.0\n",
            "Интерквартильное расстояние: 39.0\n"
          ]
        }
      ]
    },
    {
      "cell_type": "code",
      "metadata": {
        "colab": {
          "base_uri": "https://localhost:8080/",
          "height": 282
        },
        "id": "MHN-jT97fXPU",
        "outputId": "ba0f9b3a-8ba1-47c8-9c1d-ddac6cef1eae"
      },
      "source": [
        "df_salary.boxplot()"
      ],
      "execution_count": 24,
      "outputs": [
        {
          "output_type": "execute_result",
          "data": {
            "text/plain": [
              "<matplotlib.axes._subplots.AxesSubplot at 0x7f67ba76b290>"
            ]
          },
          "metadata": {},
          "execution_count": 24
        },
        {
          "output_type": "display_data",
          "data": {
            "image/png": "[encoded data removed]",
            "text/plain": [
              "<Figure size 432x288 with 1 Axes>"
            ]
          },
          "metadata": {
            "needs_background": "light"
          }
        }
      ]
    },
    {
      "cell_type": "code",
      "metadata": {
        "colab": {
          "base_uri": "https://localhost:8080/"
        },
        "id": "pzDxA5N7gD9v",
        "outputId": "d5c78ffd-b2e7-42f5-9d66-5d66ad616895"
      },
      "source": [
        "boxplot_meaning = (q1 - 1.5 * iqr, q3 + 1.5 * iqr)\n",
        "boxplot_meaning"
      ],
      "execution_count": 25,
      "outputs": [
        {
          "output_type": "execute_result",
          "data": {
            "text/plain": [
              "(-16.5, 139.5)"
            ]
          },
          "metadata": {},
          "execution_count": 25
        }
      ]
    },
    {
      "cell_type": "markdown",
      "metadata": {
        "id": "eNtTXgAldrdr"
      },
      "source": [
        "**Задача 3**\n",
        "\n",
        "В университет на факультеты A и B поступило равное количество студентов, а на факультет C студентов поступило столько же, сколько на A и B вместе. Вероятность того, что студент факультета A сдаст первую сессию, равна 0.8. Для студента факультета B эта вероятность равна 0.7, а для студента факультета C - 0.9. Студент сдал первую сессию. Какова вероятность, что он учится: a) на факультете A? б) на факультете B? в) на факультете C?\n",
        "\n",
        "Замечание: да, эта задача не на тему описательных статистик, но тема важная, и её стоит иногда освежать в памяти."
      ]
    },
    {
      "cell_type": "markdown",
      "metadata": {
        "id": "kW92a_NOgpFT"
      },
      "source": [
        "* Вероятность, что студент учится на факультете А: $P(A) = 0.25$\n",
        "* Вероятность, что студент учится на факультете B: $P(B) = 0.25$\n",
        "* Вероятность, что студент учится на факультете C: $P(C) = 0.5$\n",
        "\n"
      ]
    },
    {
      "cell_type": "markdown",
      "metadata": {
        "id": "4AKrQ6j_gyIR"
      },
      "source": [
        "Найдем полную вероятность что сдадут все студенты:"
      ]
    },
    {
      "cell_type": "code",
      "metadata": {
        "colab": {
          "base_uri": "https://localhost:8080/"
        },
        "id": "0eZIRyPJg6Vz",
        "outputId": "b24be50d-c551-481e-fd46-a23a4aa46d9d"
      },
      "source": [
        "P = 0.25 * 0.8 + 0.25 * 0.7 + 0.5 * 0.9\n",
        "P"
      ],
      "execution_count": 26,
      "outputs": [
        {
          "output_type": "execute_result",
          "data": {
            "text/plain": [
              "0.825"
            ]
          },
          "metadata": {},
          "execution_count": 26
        }
      ]
    },
    {
      "cell_type": "code",
      "metadata": {
        "colab": {
          "base_uri": "https://localhost:8080/"
        },
        "id": "h9uZTI26hJux",
        "outputId": "f9e9c7bc-ca17-4b04-f7fb-4b645f7932e3"
      },
      "source": [
        "P_A = 0.8 * 0.25 / 0.825\n",
        "print(f'На факультете A: {P_A}')"
      ],
      "execution_count": 27,
      "outputs": [
        {
          "output_type": "stream",
          "name": "stdout",
          "text": [
            "На факультете A: 0.24242424242424246\n"
          ]
        }
      ]
    },
    {
      "cell_type": "code",
      "metadata": {
        "colab": {
          "base_uri": "https://localhost:8080/"
        },
        "id": "oDvbOPx3hWtL",
        "outputId": "79190691-5ca3-4910-c8fc-9da82a3624ff"
      },
      "source": [
        "P_B = 0.25 * 0.7 / 0.825\n",
        "print(f'На факультете B: {P_B}')"
      ],
      "execution_count": 28,
      "outputs": [
        {
          "output_type": "stream",
          "name": "stdout",
          "text": [
            "На факультете B: 0.21212121212121213\n"
          ]
        }
      ]
    },
    {
      "cell_type": "code",
      "metadata": {
        "colab": {
          "base_uri": "https://localhost:8080/"
        },
        "id": "Q6AE_Ischf4d",
        "outputId": "688e5fdd-e2b6-49a8-e3d9-7adf30406461"
      },
      "source": [
        "P_C = 0.5 * 0.9 / 0.825\n",
        "print(f'На факультете C: {P_C}')"
      ],
      "execution_count": 29,
      "outputs": [
        {
          "output_type": "stream",
          "name": "stdout",
          "text": [
            "На факультете C: 0.5454545454545455\n"
          ]
        }
      ]
    },
    {
      "cell_type": "markdown",
      "metadata": {
        "id": "ApGTez3NhrWU"
      },
      "source": [
        "Проверка"
      ]
    },
    {
      "cell_type": "code",
      "metadata": {
        "colab": {
          "base_uri": "https://localhost:8080/"
        },
        "id": "m3O-E8pHht0_",
        "outputId": "6a59a33e-e557-49fb-8497-f3b5ae51102c"
      },
      "source": [
        "examination = P_A + P_B + P_C\n",
        "examination"
      ],
      "execution_count": 30,
      "outputs": [
        {
          "output_type": "execute_result",
          "data": {
            "text/plain": [
              "1.0"
            ]
          },
          "metadata": {},
          "execution_count": 30
        }
      ]
    }
  ]
}