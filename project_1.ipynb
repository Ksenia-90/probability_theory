{
  "nbformat": 4,
  "nbformat_minor": 0,
  "metadata": {
    "colab": {
      "name": "project_1.ipynb",
      "provenance": [],
      "collapsed_sections": [],
      "mount_file_id": "1BP3E9l7TVriFmWLhneVRBUm_DWboS4_Y",
      "authorship_tag": "ABX9TyN0VLxkE8iP3QkdXbQrsvec",
      "include_colab_link": true
    },
    "kernelspec": {
      "name": "python3",
      "display_name": "Python 3"
    },
    "language_info": {
      "name": "python"
    }
  },
  "cells": [
    {
      "cell_type": "markdown",
      "metadata": {
        "id": "view-in-github",
        "colab_type": "text"
      },
      "source": [
        "<a href=\"https://colab.research.google.com/github/Ksenia-90/probability_theory/blob/lesson_8_project/project_1.ipynb\" target=\"_parent\"><img src=\"https://colab.research.google.com/assets/colab-badge.svg\" alt=\"Open In Colab\"/></a>"
      ]
    },
    {
      "cell_type": "markdown",
      "metadata": {
        "id": "cqo43UgmcYw2"
      },
      "source": [
        "#**Курсовая работа**"
      ]
    },
    {
      "cell_type": "markdown",
      "metadata": {
        "id": "8Wnb_W-ycsbm"
      },
      "source": [
        "##**Тема: \"Анализ средней продолжительности фильма в зависимости от жанра\"**"
      ]
    },
    {
      "cell_type": "markdown",
      "metadata": {
        "id": "_cl0OWFxdkLC"
      },
      "source": [
        "Данные для исследования и анализа взяты из открытого источника: \n",
        "* https://www.imdb.com/interfaces/ \n",
        "* https://datasets.imdbws.com/"
      ]
    },
    {
      "cell_type": "code",
      "metadata": {
        "id": "6V9gwG_feKLo"
      },
      "source": [
        "import pandas as pd\n",
        "import numpy as np\n",
        "import matplotlib.pyplot as plt\n",
        "import seaborn as sns\n",
        "from scipy import stats\n",
        "from sklearn import preprocessing\n",
        "plt.rc(\"font\", size=14)\n",
        "from sklearn.linear_model import LogisticRegression\n",
        "from sklearn.model_selection import train_test_split\n",
        "sns.set(style=\"white\")\n",
        "sns.set(style=\"whitegrid\", color_codes=True)\n",
        "\n",
        "%matplotlib inline"
      ],
      "execution_count": 196,
      "outputs": []
    },
    {
      "cell_type": "code",
      "metadata": {
        "id": "5j9Fyw7yydHq"
      },
      "source": [
        "def target_genres(data, target):\n",
        "    target_genres = []\n",
        "    for genre in data:\n",
        "        tmp_list = str(genre).lower().split(',') \n",
        "        for item in tmp_list:\n",
        "            if item in target:\n",
        "                target_genres.append(str(genre))\n",
        "    return target_genres"
      ],
      "execution_count": 197,
      "outputs": []
    },
    {
      "cell_type": "code",
      "metadata": {
        "id": "JvcYOxBPKz_6"
      },
      "source": [
        "def balanset_by_column(df, column_name, values):\n",
        "    min_count = len(df)\n",
        "    for i in values:\n",
        "        res = df[df[column_name] == i].count()[column_name]\n",
        "        if res < min_count:\n",
        "            min_count = res\n",
        "    return pd.concat(map(lambda value : df.query(column_name + \" == \" + str(value)).sample(n=min_count), values))"
      ],
      "execution_count": 198,
      "outputs": []
    },
    {
      "cell_type": "code",
      "metadata": {
        "colab": {
          "base_uri": "https://localhost:8080/"
        },
        "id": "A9cpmyZwh065",
        "outputId": "6d4f8b0c-42cf-4f48-c470-653b54ca9a41"
      },
      "source": [
        "from google.colab import drive\n",
        "drive.mount('/content/drive')"
      ],
      "execution_count": 199,
      "outputs": [
        {
          "output_type": "stream",
          "name": "stdout",
          "text": [
            "Drive already mounted at /content/drive; to attempt to forcibly remount, call drive.mount(\"/content/drive\", force_remount=True).\n"
          ]
        }
      ]
    },
    {
      "cell_type": "code",
      "metadata": {
        "colab": {
          "base_uri": "https://localhost:8080/"
        },
        "id": "oTj7msW_dLN2",
        "outputId": "8fc0961a-8bdb-45e8-c6e4-6e1c8066f4a4"
      },
      "source": [
        "titel = pd.read_csv('/content/drive/MyDrive/Colab Notebooks/title.basics.tsv.gz', sep = '\\t', encoding='utf-8' )"
      ],
      "execution_count": 200,
      "outputs": [
        {
          "output_type": "stream",
          "name": "stderr",
          "text": [
            "/usr/local/lib/python3.7/dist-packages/IPython/core/interactiveshell.py:2718: DtypeWarning: Columns (4,5) have mixed types.Specify dtype option on import or set low_memory=False.\n",
            "  interactivity=interactivity, compiler=compiler, result=result)\n"
          ]
        }
      ]
    },
    {
      "cell_type": "code",
      "metadata": {
        "colab": {
          "base_uri": "https://localhost:8080/",
          "height": 204
        },
        "id": "gziDjV2ryvHy",
        "outputId": "4c0f368a-2172-40c9-9521-f9ea8683adf9"
      },
      "source": [
        "titel.head()"
      ],
      "execution_count": 201,
      "outputs": [
        {
          "output_type": "execute_result",
          "data": {
            "text/html": [
              "<div>\n",
              "<style scoped>\n",
              "    .dataframe tbody tr th:only-of-type {\n",
              "        vertical-align: middle;\n",
              "    }\n",
              "\n",
              "    .dataframe tbody tr th {\n",
              "        vertical-align: top;\n",
              "    }\n",
              "\n",
              "    .dataframe thead th {\n",
              "        text-align: right;\n",
              "    }\n",
              "</style>\n",
              "<table border=\"1\" class=\"dataframe\">\n",
              "  <thead>\n",
              "    <tr style=\"text-align: right;\">\n",
              "      <th></th>\n",
              "      <th>tconst</th>\n",
              "      <th>titleType</th>\n",
              "      <th>primaryTitle</th>\n",
              "      <th>originalTitle</th>\n",
              "      <th>isAdult</th>\n",
              "      <th>startYear</th>\n",
              "      <th>endYear</th>\n",
              "      <th>runtimeMinutes</th>\n",
              "      <th>genres</th>\n",
              "    </tr>\n",
              "  </thead>\n",
              "  <tbody>\n",
              "    <tr>\n",
              "      <th>0</th>\n",
              "      <td>tt0000001</td>\n",
              "      <td>short</td>\n",
              "      <td>Carmencita</td>\n",
              "      <td>Carmencita</td>\n",
              "      <td>0</td>\n",
              "      <td>1894</td>\n",
              "      <td>\\N</td>\n",
              "      <td>1</td>\n",
              "      <td>Documentary,Short</td>\n",
              "    </tr>\n",
              "    <tr>\n",
              "      <th>1</th>\n",
              "      <td>tt0000002</td>\n",
              "      <td>short</td>\n",
              "      <td>Le clown et ses chiens</td>\n",
              "      <td>Le clown et ses chiens</td>\n",
              "      <td>0</td>\n",
              "      <td>1892</td>\n",
              "      <td>\\N</td>\n",
              "      <td>5</td>\n",
              "      <td>Animation,Short</td>\n",
              "    </tr>\n",
              "    <tr>\n",
              "      <th>2</th>\n",
              "      <td>tt0000003</td>\n",
              "      <td>short</td>\n",
              "      <td>Pauvre Pierrot</td>\n",
              "      <td>Pauvre Pierrot</td>\n",
              "      <td>0</td>\n",
              "      <td>1892</td>\n",
              "      <td>\\N</td>\n",
              "      <td>4</td>\n",
              "      <td>Animation,Comedy,Romance</td>\n",
              "    </tr>\n",
              "    <tr>\n",
              "      <th>3</th>\n",
              "      <td>tt0000004</td>\n",
              "      <td>short</td>\n",
              "      <td>Un bon bock</td>\n",
              "      <td>Un bon bock</td>\n",
              "      <td>0</td>\n",
              "      <td>1892</td>\n",
              "      <td>\\N</td>\n",
              "      <td>12</td>\n",
              "      <td>Animation,Short</td>\n",
              "    </tr>\n",
              "    <tr>\n",
              "      <th>4</th>\n",
              "      <td>tt0000005</td>\n",
              "      <td>short</td>\n",
              "      <td>Blacksmith Scene</td>\n",
              "      <td>Blacksmith Scene</td>\n",
              "      <td>0</td>\n",
              "      <td>1893</td>\n",
              "      <td>\\N</td>\n",
              "      <td>1</td>\n",
              "      <td>Comedy,Short</td>\n",
              "    </tr>\n",
              "  </tbody>\n",
              "</table>\n",
              "</div>"
            ],
            "text/plain": [
              "      tconst titleType  ... runtimeMinutes                    genres\n",
              "0  tt0000001     short  ...              1         Documentary,Short\n",
              "1  tt0000002     short  ...              5           Animation,Short\n",
              "2  tt0000003     short  ...              4  Animation,Comedy,Romance\n",
              "3  tt0000004     short  ...             12           Animation,Short\n",
              "4  tt0000005     short  ...              1              Comedy,Short\n",
              "\n",
              "[5 rows x 9 columns]"
            ]
          },
          "metadata": {},
          "execution_count": 201
        }
      ]
    },
    {
      "cell_type": "code",
      "metadata": {
        "colab": {
          "base_uri": "https://localhost:8080/"
        },
        "id": "bHdd2LlX3NiY",
        "outputId": "1c32d6b2-7907-44ad-9ca6-51bc894555dc"
      },
      "source": [
        "print(titel.shape)"
      ],
      "execution_count": 202,
      "outputs": [
        {
          "output_type": "stream",
          "name": "stdout",
          "text": [
            "(8300681, 9)\n"
          ]
        }
      ]
    },
    {
      "cell_type": "code",
      "metadata": {
        "colab": {
          "base_uri": "https://localhost:8080/"
        },
        "id": "_Jl8_Ew93f49",
        "outputId": "9f7a18f9-31ec-4f8e-9628-d80748b6a23e"
      },
      "source": [
        "print(list(titel.columns))"
      ],
      "execution_count": 203,
      "outputs": [
        {
          "output_type": "stream",
          "name": "stdout",
          "text": [
            "['tconst', 'titleType', 'primaryTitle', 'originalTitle', 'isAdult', 'startYear', 'endYear', 'runtimeMinutes', 'genres']\n"
          ]
        }
      ]
    },
    {
      "cell_type": "markdown",
      "metadata": {
        "id": "xcrrTTto2NyR"
      },
      "source": [
        "Выдвинем 2 гипотизы:\n",
        "* Гипотеза H0: средняя продолжительность фильма не зависит от жанра\n",
        "* Гипотеза H1: средняя продолжительность фильма зависит от жанра."
      ]
    },
    {
      "cell_type": "markdown",
      "metadata": {
        "id": "BWQGaD5m5RSc"
      },
      "source": [
        "Выбирем только категорию 'Movie'"
      ]
    },
    {
      "cell_type": "code",
      "metadata": {
        "colab": {
          "base_uri": "https://localhost:8080/"
        },
        "id": "aUPvLktF6HpZ",
        "outputId": "362a8ef9-d873-448d-9658-241ae7c6139d"
      },
      "source": [
        "title_types = titel.titleType.unique()\n",
        "print(title_types)"
      ],
      "execution_count": 204,
      "outputs": [
        {
          "output_type": "stream",
          "name": "stdout",
          "text": [
            "['short' 'movie' 'tvEpisode' 'tvSeries' 'tvShort' 'tvMovie' 'tvMiniSeries'\n",
            " 'tvSpecial' 'video' 'videoGame' 'radioEpisode' 'tvPilot']\n"
          ]
        }
      ]
    },
    {
      "cell_type": "code",
      "metadata": {
        "colab": {
          "base_uri": "https://localhost:8080/",
          "height": 221
        },
        "id": "kCRhr5qC6YDS",
        "outputId": "9df21f12-8a73-48ef-f94f-29f9b89550d2"
      },
      "source": [
        "movies = titel[titel.titleType == 'movie']\n",
        "print(movies.shape)\n",
        "movies.head()\n"
      ],
      "execution_count": 205,
      "outputs": [
        {
          "output_type": "stream",
          "name": "stdout",
          "text": [
            "(589259, 9)\n"
          ]
        },
        {
          "output_type": "execute_result",
          "data": {
            "text/html": [
              "<div>\n",
              "<style scoped>\n",
              "    .dataframe tbody tr th:only-of-type {\n",
              "        vertical-align: middle;\n",
              "    }\n",
              "\n",
              "    .dataframe tbody tr th {\n",
              "        vertical-align: top;\n",
              "    }\n",
              "\n",
              "    .dataframe thead th {\n",
              "        text-align: right;\n",
              "    }\n",
              "</style>\n",
              "<table border=\"1\" class=\"dataframe\">\n",
              "  <thead>\n",
              "    <tr style=\"text-align: right;\">\n",
              "      <th></th>\n",
              "      <th>tconst</th>\n",
              "      <th>titleType</th>\n",
              "      <th>primaryTitle</th>\n",
              "      <th>originalTitle</th>\n",
              "      <th>isAdult</th>\n",
              "      <th>startYear</th>\n",
              "      <th>endYear</th>\n",
              "      <th>runtimeMinutes</th>\n",
              "      <th>genres</th>\n",
              "    </tr>\n",
              "  </thead>\n",
              "  <tbody>\n",
              "    <tr>\n",
              "      <th>498</th>\n",
              "      <td>tt0000502</td>\n",
              "      <td>movie</td>\n",
              "      <td>Bohemios</td>\n",
              "      <td>Bohemios</td>\n",
              "      <td>0</td>\n",
              "      <td>1905</td>\n",
              "      <td>\\N</td>\n",
              "      <td>100</td>\n",
              "      <td>\\N</td>\n",
              "    </tr>\n",
              "    <tr>\n",
              "      <th>570</th>\n",
              "      <td>tt0000574</td>\n",
              "      <td>movie</td>\n",
              "      <td>The Story of the Kelly Gang</td>\n",
              "      <td>The Story of the Kelly Gang</td>\n",
              "      <td>0</td>\n",
              "      <td>1906</td>\n",
              "      <td>\\N</td>\n",
              "      <td>70</td>\n",
              "      <td>Action,Adventure,Biography</td>\n",
              "    </tr>\n",
              "    <tr>\n",
              "      <th>587</th>\n",
              "      <td>tt0000591</td>\n",
              "      <td>movie</td>\n",
              "      <td>The Prodigal Son</td>\n",
              "      <td>L'enfant prodigue</td>\n",
              "      <td>0</td>\n",
              "      <td>1907</td>\n",
              "      <td>\\N</td>\n",
              "      <td>90</td>\n",
              "      <td>Drama</td>\n",
              "    </tr>\n",
              "    <tr>\n",
              "      <th>610</th>\n",
              "      <td>tt0000615</td>\n",
              "      <td>movie</td>\n",
              "      <td>Robbery Under Arms</td>\n",
              "      <td>Robbery Under Arms</td>\n",
              "      <td>0</td>\n",
              "      <td>1907</td>\n",
              "      <td>\\N</td>\n",
              "      <td>\\N</td>\n",
              "      <td>Drama</td>\n",
              "    </tr>\n",
              "    <tr>\n",
              "      <th>625</th>\n",
              "      <td>tt0000630</td>\n",
              "      <td>movie</td>\n",
              "      <td>Hamlet</td>\n",
              "      <td>Amleto</td>\n",
              "      <td>0</td>\n",
              "      <td>1908</td>\n",
              "      <td>\\N</td>\n",
              "      <td>\\N</td>\n",
              "      <td>Drama</td>\n",
              "    </tr>\n",
              "  </tbody>\n",
              "</table>\n",
              "</div>"
            ],
            "text/plain": [
              "        tconst titleType  ... runtimeMinutes                      genres\n",
              "498  tt0000502     movie  ...            100                          \\N\n",
              "570  tt0000574     movie  ...             70  Action,Adventure,Biography\n",
              "587  tt0000591     movie  ...             90                       Drama\n",
              "610  tt0000615     movie  ...             \\N                       Drama\n",
              "625  tt0000630     movie  ...             \\N                       Drama\n",
              "\n",
              "[5 rows x 9 columns]"
            ]
          },
          "metadata": {},
          "execution_count": 205
        }
      ]
    },
    {
      "cell_type": "code",
      "metadata": {
        "id": "1bxoNPokBzhh"
      },
      "source": [
        "#удалим записи которые содержат NaN\n",
        "movies = movies.dropna()\n",
        "movies = movies[movies.runtimeMinutes != '\\\\N']\n",
        "movies['runtimeMinutes'] = movies['runtimeMinutes'].apply(lambda x: int(x))\n",
        "movies = movies[movies.genres != '\\\\N']"
      ],
      "execution_count": 206,
      "outputs": []
    },
    {
      "cell_type": "code",
      "metadata": {
        "id": "EN0ad0dpVrHL"
      },
      "source": [
        "#удаляем колонки котрые в данном расчете для нас не значимы.\n",
        "movies.drop(movies.columns [[3,4, 5, 6]], axis = 1, inplace = True)"
      ],
      "execution_count": 207,
      "outputs": []
    },
    {
      "cell_type": "code",
      "metadata": {
        "colab": {
          "base_uri": "https://localhost:8080/",
          "height": 204
        },
        "id": "J0kWGpzJgbF9",
        "outputId": "fe547bd5-65aa-4627-b69d-f98ac686902e"
      },
      "source": [
        "# выберем только те фильмы, продолжительность которых от 90 до 240 минут.\n",
        "movies = movies[(movies.runtimeMinutes > 89) & (movies.runtimeMinutes < 241)]\n",
        "movies.head()"
      ],
      "execution_count": 208,
      "outputs": [
        {
          "output_type": "execute_result",
          "data": {
            "text/html": [
              "<div>\n",
              "<style scoped>\n",
              "    .dataframe tbody tr th:only-of-type {\n",
              "        vertical-align: middle;\n",
              "    }\n",
              "\n",
              "    .dataframe tbody tr th {\n",
              "        vertical-align: top;\n",
              "    }\n",
              "\n",
              "    .dataframe thead th {\n",
              "        text-align: right;\n",
              "    }\n",
              "</style>\n",
              "<table border=\"1\" class=\"dataframe\">\n",
              "  <thead>\n",
              "    <tr style=\"text-align: right;\">\n",
              "      <th></th>\n",
              "      <th>tconst</th>\n",
              "      <th>titleType</th>\n",
              "      <th>primaryTitle</th>\n",
              "      <th>runtimeMinutes</th>\n",
              "      <th>genres</th>\n",
              "    </tr>\n",
              "  </thead>\n",
              "  <tbody>\n",
              "    <tr>\n",
              "      <th>587</th>\n",
              "      <td>tt0000591</td>\n",
              "      <td>movie</td>\n",
              "      <td>The Prodigal Son</td>\n",
              "      <td>90</td>\n",
              "      <td>Drama</td>\n",
              "    </tr>\n",
              "    <tr>\n",
              "      <th>672</th>\n",
              "      <td>tt0000679</td>\n",
              "      <td>movie</td>\n",
              "      <td>The Fairylogue and Radio-Plays</td>\n",
              "      <td>120</td>\n",
              "      <td>Adventure,Fantasy</td>\n",
              "    </tr>\n",
              "    <tr>\n",
              "      <th>2076</th>\n",
              "      <td>tt0002101</td>\n",
              "      <td>movie</td>\n",
              "      <td>Cleopatra</td>\n",
              "      <td>100</td>\n",
              "      <td>Drama,History</td>\n",
              "    </tr>\n",
              "    <tr>\n",
              "      <th>2418</th>\n",
              "      <td>tt0002445</td>\n",
              "      <td>movie</td>\n",
              "      <td>Quo Vadis?</td>\n",
              "      <td>120</td>\n",
              "      <td>Drama,History</td>\n",
              "    </tr>\n",
              "    <tr>\n",
              "      <th>2425</th>\n",
              "      <td>tt0002452</td>\n",
              "      <td>movie</td>\n",
              "      <td>The Independence of Romania</td>\n",
              "      <td>120</td>\n",
              "      <td>History,War</td>\n",
              "    </tr>\n",
              "  </tbody>\n",
              "</table>\n",
              "</div>"
            ],
            "text/plain": [
              "         tconst titleType  ... runtimeMinutes             genres\n",
              "587   tt0000591     movie  ...             90              Drama\n",
              "672   tt0000679     movie  ...            120  Adventure,Fantasy\n",
              "2076  tt0002101     movie  ...            100      Drama,History\n",
              "2418  tt0002445     movie  ...            120      Drama,History\n",
              "2425  tt0002452     movie  ...            120        History,War\n",
              "\n",
              "[5 rows x 5 columns]"
            ]
          },
          "metadata": {},
          "execution_count": 208
        }
      ]
    },
    {
      "cell_type": "code",
      "metadata": {
        "colab": {
          "base_uri": "https://localhost:8080/"
        },
        "id": "7xWVRgLChG-S",
        "outputId": "23d386c0-6bdc-4ce7-a341-f13f0ad43e85"
      },
      "source": [
        "genres = tuple(movies.genres.unique())\n",
        "print(genres[:25])"
      ],
      "execution_count": 209,
      "outputs": [
        {
          "output_type": "stream",
          "name": "stdout",
          "text": [
            "('Drama', 'Adventure,Fantasy', 'Drama,History', 'History,War', 'Crime,Drama,Mystery', 'Biography,Drama,History', 'Adventure,Drama,History', 'Crime,Drama', 'Action', 'Action,Adventure,Biography', 'Action,Adventure,Drama', 'Drama,Western', 'Drama,History,War', 'Drama,Sci-Fi', 'Crime,Drama,Horror', 'Documentary,War', 'Comedy', 'Action,Adventure,Sci-Fi', 'Documentary', 'Drama,History,Romance', 'Action,Drama,War', 'Adventure', 'Mystery', 'History', 'Adventure,Fantasy,Sci-Fi')\n"
          ]
        }
      ]
    },
    {
      "cell_type": "code",
      "metadata": {
        "id": "3AGK8KygJftD"
      },
      "source": [
        "columns = ['tconst', 'primaryTitle', 'runtimeMinutes', 'genres']\n",
        "\n",
        "fantasy_genres = target_genres(data=genres, target=('fantasy'))\n",
        "fantasy_movies = movies[movies.genres.isin(fantasy_genres)].loc[:, columns].reset_index(drop=True)\n",
        "\n",
        "horror_genres = target_genres(data=genres, target=('horror'))\n",
        "horror_movies = movies[movies.genres.isin(horror_genres)].loc[:, columns].reset_index(drop=True)\n",
        "\n",
        "action_genres = target_genres(data=genres, target=('action'))\n",
        "action_movies = movies[movies.genres.isin(action_genres)].loc[:, columns].reset_index(drop=True)"
      ],
      "execution_count": 210,
      "outputs": []
    },
    {
      "cell_type": "code",
      "metadata": {
        "id": "AsNdku63KJCo"
      },
      "source": [
        "fantasy = tuple(set(fantasy_movies.tconst) - set(horror_movies.tconst) - set(action_movies.tconst))\n",
        "horror = tuple(set(horror_movies.tconst) - set(fantasy_movies.tconst) - set(action_movies.tconst))\n",
        "action = tuple(set(action_movies.tconst) - set(fantasy_movies.tconst) - set(horror_movies.tconst))"
      ],
      "execution_count": 211,
      "outputs": []
    },
    {
      "cell_type": "markdown",
      "metadata": {
        "id": "JgqhXrk_YnA3"
      },
      "source": [
        "Очистим жанры выбрав один тип"
      ]
    },
    {
      "cell_type": "code",
      "metadata": {
        "id": "dSpg2sXTKfMv"
      },
      "source": [
        "fantasy_only = fantasy_movies[fantasy_movies.tconst.isin(fantasy)].reset_index(drop=True)\n",
        "fantasy_only['genres'] = 'fantasy'\n",
        "\n",
        "horror_only = horror_movies[horror_movies.tconst.isin(horror)].reset_index(drop=True)\n",
        "horror_only['genres'] = 'horror'\n",
        "\n",
        "action_only = action_movies[action_movies.tconst.isin(action)].reset_index(drop=True)\n",
        "action_only['genres'] = 'action'"
      ],
      "execution_count": 212,
      "outputs": []
    },
    {
      "cell_type": "code",
      "metadata": {
        "colab": {
          "base_uri": "https://localhost:8080/"
        },
        "id": "GXf8OOzmLkS9",
        "outputId": "8104487c-51ad-4c7f-d512-d9e8938340c8"
      },
      "source": [
        "print(f'fantasy_only  =  {fantasy_only.shape[0]}')\n",
        "print(f'horror_only =  {horror_only.shape[0]}')\n",
        "print(f'action_only  = {action_only.shape[0]}')"
      ],
      "execution_count": 213,
      "outputs": [
        {
          "output_type": "stream",
          "name": "stdout",
          "text": [
            "fantasy_only  =  3815\n",
            "horror_only =  8392\n",
            "action_only  = 18776\n"
          ]
        }
      ]
    },
    {
      "cell_type": "markdown",
      "metadata": {
        "id": "RDFvw8VsQZmg"
      },
      "source": [
        "Возьмем из каждой группы по 3000 наблюдений."
      ]
    },
    {
      "cell_type": "code",
      "metadata": {
        "id": "YdS97Qr4QYi3"
      },
      "source": [
        "n_sample = 3000\n",
        "\n",
        "y_fantasy = fantasy_only.sample(n=n_sample, random_state=42).runtimeMinutes.values\n",
        "y_horror= horror_only.sample(n=n_sample, random_state=42).runtimeMinutes.values\n",
        "y_action = action_only.sample(n=n_sample, random_state=42).runtimeMinutes.values"
      ],
      "execution_count": 214,
      "outputs": []
    },
    {
      "cell_type": "code",
      "metadata": {
        "colab": {
          "base_uri": "https://localhost:8080/"
        },
        "id": "B_EK9aD1Tbdq",
        "outputId": "ed30b3dd-f645-4310-e831-c3aecad30d17"
      },
      "source": [
        "y_fantasy_mean = y_fantasy.mean()\n",
        "y_horror_mean = y_horror.mean()\n",
        "y_action_mean = y_action.mean()\n",
        "print(f'Cреднее значение:') \n",
        "print(f'y_fantasy_mean = {np.round(y_fantasy_mean, 3)}')\n",
        "print(f'y_horror_mean =  {np.round(y_horror_mean, 3)}')\n",
        "print(f'y_action_mean   =  {np.round(y_action_mean, 3)}')"
      ],
      "execution_count": 215,
      "outputs": [
        {
          "output_type": "stream",
          "name": "stdout",
          "text": [
            "Cреднее значение:\n",
            "y_fantasy_mean = 106.495\n",
            "y_horror_mean =  100.802\n",
            "y_action_mean   =  111.868\n"
          ]
        }
      ]
    },
    {
      "cell_type": "code",
      "metadata": {
        "colab": {
          "base_uri": "https://localhost:8080/"
        },
        "id": "i9BTIAwzWZIS",
        "outputId": "6429a9a6-6698-4ecc-e0e7-9261378ac5bb"
      },
      "source": [
        "films = np.concatenate([y_fantasy, y_horror, y_action])\n",
        "films_mean = np.mean(films)\n",
        "print(f'Cреднее значение общее {np.round(films_mean, 3)}')"
      ],
      "execution_count": 216,
      "outputs": [
        {
          "output_type": "stream",
          "name": "stdout",
          "text": [
            "Cреднее значение общее 106.388\n"
          ]
        }
      ]
    },
    {
      "cell_type": "code",
      "metadata": {
        "colab": {
          "base_uri": "https://localhost:8080/"
        },
        "id": "mUkJrzkraawn",
        "outputId": "f6d258c1-dc1e-498d-f017-350752e92758"
      },
      "source": [
        "n_1 = len(y_fantasy)\n",
        "n_2 = len(y_horror)\n",
        "n_3 = len(y_action)\n",
        "\n",
        "n = n_1 + n_2 + n_3\n",
        "k = 3\n",
        "\n",
        "print(f'Общее значение: {n}')"
      ],
      "execution_count": 217,
      "outputs": [
        {
          "output_type": "stream",
          "name": "stdout",
          "text": [
            "Общее значение: 9000\n"
          ]
        }
      ]
    },
    {
      "cell_type": "code",
      "metadata": {
        "colab": {
          "base_uri": "https://localhost:8080/"
        },
        "id": "SZTRpfn0sw9d",
        "outputId": "2d63b4fa-4be9-472d-ff1b-5426f388d4b2"
      },
      "source": [
        "S2_b = n_1 * (y_fantasy_mean - films_mean) ** 2 + n_2 * (y_horror_mean - films_mean) ** 2 + n_3 * (y_action_mean - films_mean) ** 2\n",
        "print(f'S2_b = {np.round(S2_b, 3)}')"
      ],
      "execution_count": 218,
      "outputs": [
        {
          "output_type": "stream",
          "name": "stdout",
          "text": [
            "S2_b = 183758.08\n"
          ]
        }
      ]
    },
    {
      "cell_type": "code",
      "metadata": {
        "colab": {
          "base_uri": "https://localhost:8080/"
        },
        "id": "HU_VAF4PtWtZ",
        "outputId": "24a5fb88-09b3-40e0-b833-d38bf69e5877"
      },
      "source": [
        "S2_w = ((y_fantasy - y_fantasy_mean)**2).sum() + ((y_horror - y_horror_mean) ** 2).sum() + ((y_action - y_action_mean) ** 2).sum()\n",
        "print(f'S2_w = {np.round(S2_w, 3)}')"
      ],
      "execution_count": 219,
      "outputs": [
        {
          "output_type": "stream",
          "name": "stdout",
          "text": [
            "S2_w = 3319831.918\n"
          ]
        }
      ]
    },
    {
      "cell_type": "code",
      "metadata": {
        "colab": {
          "base_uri": "https://localhost:8080/"
        },
        "id": "wAP6LlGjtw8q",
        "outputId": "39c2abd5-a5ce-4a3c-c267-e73801a3294d"
      },
      "source": [
        "S2_b + S2_w, ((films - films_mean) ** 2).sum()"
      ],
      "execution_count": 220,
      "outputs": [
        {
          "output_type": "execute_result",
          "data": {
            "text/plain": [
              "(3503589.9982222226, 3503589.998222222)"
            ]
          },
          "metadata": {},
          "execution_count": 220
        }
      ]
    },
    {
      "cell_type": "code",
      "metadata": {
        "colab": {
          "base_uri": "https://localhost:8080/"
        },
        "id": "JeudzP2MuYeB",
        "outputId": "01630e0a-948d-4cf0-e88d-1ad6ded88500"
      },
      "source": [
        "k = 3\n",
        "n = n_1 + n_2 + n_3\n",
        "k_1 = k-1\n",
        "k_2 = n - k\n",
        "k_1, k_2, n"
      ],
      "execution_count": 221,
      "outputs": [
        {
          "output_type": "execute_result",
          "data": {
            "text/plain": [
              "(2, 8997, 9000)"
            ]
          },
          "metadata": {},
          "execution_count": 221
        }
      ]
    },
    {
      "cell_type": "code",
      "metadata": {
        "colab": {
          "base_uri": "https://localhost:8080/"
        },
        "id": "xuz-xk8eucFj",
        "outputId": "4a2cef72-cb0c-421b-f735-c4a827ec711d"
      },
      "source": [
        "sigma2_b = S2_b / (k - 1)\n",
        "sigma2_w = S2_w / (n - k)\n",
        "\n",
        "sigma2_b, sigma2_w"
      ],
      "execution_count": 222,
      "outputs": [
        {
          "output_type": "execute_result",
          "data": {
            "text/plain": [
              "(91879.04011111129, 368.99321084806047)"
            ]
          },
          "metadata": {},
          "execution_count": 222
        }
      ]
    },
    {
      "cell_type": "code",
      "metadata": {
        "colab": {
          "base_uri": "https://localhost:8080/"
        },
        "id": "1FqpfHbAuhUT",
        "outputId": "bb62f3ef-2bb2-48ae-c2d1-647b07d82a10"
      },
      "source": [
        "T = sigma2_b / sigma2_w\n",
        "T"
      ],
      "execution_count": 223,
      "outputs": [
        {
          "output_type": "execute_result",
          "data": {
            "text/plain": [
              "248.99926993221595"
            ]
          },
          "metadata": {},
          "execution_count": 223
        }
      ]
    },
    {
      "cell_type": "code",
      "metadata": {
        "colab": {
          "base_uri": "https://localhost:8080/"
        },
        "id": "nMiDNuV1ukNr",
        "outputId": "71ea915f-a896-4ee7-87b6-810735e277bc"
      },
      "source": [
        "alpha = 0.05\n",
        "F_crit = stats.f.ppf(1 - alpha, (k - 1), (n - k))\n",
        "F_crit"
      ],
      "execution_count": 224,
      "outputs": [
        {
          "output_type": "execute_result",
          "data": {
            "text/plain": [
              "2.9967299843896065"
            ]
          },
          "metadata": {},
          "execution_count": 224
        }
      ]
    },
    {
      "cell_type": "code",
      "metadata": {
        "colab": {
          "base_uri": "https://localhost:8080/"
        },
        "id": "Q6uaUzxFumt2",
        "outputId": "411ccff8-6d94-43b0-81b4-8b7f8ca6fc56"
      },
      "source": [
        "p = 1 - stats.f.cdf(T, k_1,k_2)\n",
        "p"
      ],
      "execution_count": 225,
      "outputs": [
        {
          "output_type": "execute_result",
          "data": {
            "text/plain": [
              "1.1102230246251565e-16"
            ]
          },
          "metadata": {},
          "execution_count": 225
        }
      ]
    },
    {
      "cell_type": "markdown",
      "metadata": {
        "id": "Q44nDl0YvMog"
      },
      "source": [
        "**Вывод:Согласно проведенному анализу мы принимаем гипотизу Н1: средняя продолжительность фильма зависит от жанра, для фильмов во времееной категории от 90-240 мин. и жанров фантаза, ужасы, боевик.**"
      ]
    },
    {
      "cell_type": "markdown",
      "metadata": {
        "id": "18ykerZUwcRe"
      },
      "source": [
        "#**Проведем анализ с помощью логистической регресси.**\n",
        "Создадим очишенный датасет в котором содержатся только фильмы 2 жанров (horror и action) с продолжительностью от 90 до 240 минут."
      ]
    },
    {
      "cell_type": "code",
      "metadata": {
        "id": "0BYaotVP0mgm"
      },
      "source": [
        "movies_df = pd.concat([horror_only, action_only])"
      ],
      "execution_count": 240,
      "outputs": []
    },
    {
      "cell_type": "code",
      "metadata": {
        "colab": {
          "base_uri": "https://localhost:8080/",
          "height": 204
        },
        "id": "OM0dUnFE1DLA",
        "outputId": "47fcea6c-4d0d-4f31-b760-c2afcabb9f65"
      },
      "source": [
        "movies_df.head()"
      ],
      "execution_count": 241,
      "outputs": [
        {
          "output_type": "execute_result",
          "data": {
            "text/html": [
              "<div>\n",
              "<style scoped>\n",
              "    .dataframe tbody tr th:only-of-type {\n",
              "        vertical-align: middle;\n",
              "    }\n",
              "\n",
              "    .dataframe tbody tr th {\n",
              "        vertical-align: top;\n",
              "    }\n",
              "\n",
              "    .dataframe thead th {\n",
              "        text-align: right;\n",
              "    }\n",
              "</style>\n",
              "<table border=\"1\" class=\"dataframe\">\n",
              "  <thead>\n",
              "    <tr style=\"text-align: right;\">\n",
              "      <th></th>\n",
              "      <th>tconst</th>\n",
              "      <th>primaryTitle</th>\n",
              "      <th>runtimeMinutes</th>\n",
              "      <th>genres</th>\n",
              "    </tr>\n",
              "  </thead>\n",
              "  <tbody>\n",
              "    <tr>\n",
              "      <th>0</th>\n",
              "      <td>tt0005529</td>\n",
              "      <td>Blind Justice</td>\n",
              "      <td>100</td>\n",
              "      <td>horror</td>\n",
              "    </tr>\n",
              "    <tr>\n",
              "      <th>1</th>\n",
              "      <td>tt0010307</td>\n",
              "      <td>J'accuse!</td>\n",
              "      <td>166</td>\n",
              "      <td>horror</td>\n",
              "    </tr>\n",
              "    <tr>\n",
              "      <th>2</th>\n",
              "      <td>tt0010502</td>\n",
              "      <td>Nachtgestalten</td>\n",
              "      <td>106</td>\n",
              "      <td>horror</td>\n",
              "    </tr>\n",
              "    <tr>\n",
              "      <th>3</th>\n",
              "      <td>tt0010559</td>\n",
              "      <td>Die Pest in Florenz</td>\n",
              "      <td>92</td>\n",
              "      <td>horror</td>\n",
              "    </tr>\n",
              "    <tr>\n",
              "      <th>4</th>\n",
              "      <td>tt0011318</td>\n",
              "      <td>Der Hund von Baskerville - 6. Teil: Das Haus o...</td>\n",
              "      <td>157</td>\n",
              "      <td>horror</td>\n",
              "    </tr>\n",
              "  </tbody>\n",
              "</table>\n",
              "</div>"
            ],
            "text/plain": [
              "      tconst  ...  genres\n",
              "0  tt0005529  ...  horror\n",
              "1  tt0010307  ...  horror\n",
              "2  tt0010502  ...  horror\n",
              "3  tt0010559  ...  horror\n",
              "4  tt0011318  ...  horror\n",
              "\n",
              "[5 rows x 4 columns]"
            ]
          },
          "metadata": {},
          "execution_count": 241
        }
      ]
    },
    {
      "cell_type": "code",
      "metadata": {
        "id": "HhVj1yHE2Ein"
      },
      "source": [
        "movies_df['genres'] = movies_df['genres'].replace({'horror': 1, 'action': 0})"
      ],
      "execution_count": 242,
      "outputs": []
    },
    {
      "cell_type": "code",
      "metadata": {
        "colab": {
          "base_uri": "https://localhost:8080/",
          "height": 302
        },
        "id": "FeloBk6RRC0T",
        "outputId": "da593db6-aa46-472e-e833-6e38983255ec"
      },
      "source": [
        "sns.countplot (x='genres', data = movies_df, palette = 'hls')\n",
        "plt.show()\n",
        "plt.savefig('count-plot')"
      ],
      "execution_count": 243,
      "outputs": [
        {
          "output_type": "display_data",
          "data": {
            "image/png": "[encoded data removed]",
            "text/plain": [
              "<Figure size 432x288 with 1 Axes>"
            ]
          },
          "metadata": {
            "needs_background": "light"
          }
        },
        {
          "output_type": "display_data",
          "data": {
            "text/plain": [
              "<Figure size 432x288 with 0 Axes>"
            ]
          },
          "metadata": {}
        }
      ]
    },
    {
      "cell_type": "code",
      "metadata": {
        "colab": {
          "base_uri": "https://localhost:8080/"
        },
        "id": "096hIhJuSrpx",
        "outputId": "0985b2b5-5559-4b10-d726-9948cee66b13"
      },
      "source": [
        "count_action = len(movies_df[movies_df['genres']==1])\n",
        "count_horror = len(movies_df[movies_df['genres']==0])\n",
        "pct_action = count_action/(count_action+count_horror)\n",
        "print(\"percentage action\", pct_action*100)\n",
        "pct_horror = count_horror/(count_action+count_horror)\n",
        "print(\"percentage horror\", pct_horror*100)"
      ],
      "execution_count": 244,
      "outputs": [
        {
          "output_type": "stream",
          "name": "stdout",
          "text": [
            "percentage action 30.889281507656065\n",
            "percentage horror 69.11071849234393\n"
          ]
        }
      ]
    },
    {
      "cell_type": "code",
      "metadata": {
        "id": "4eGpc1N3iSQ6"
      },
      "source": [
        "movies_df.drop(movies_df.columns [[0,1]], axis = 1, inplace = True)"
      ],
      "execution_count": 245,
      "outputs": []
    },
    {
      "cell_type": "code",
      "metadata": {
        "colab": {
          "base_uri": "https://localhost:8080/"
        },
        "id": "ccoNcF2aZ1sA",
        "outputId": "7421b396-9049-4dd3-bd03-9253be07a908"
      },
      "source": [
        "y = movies_df['genres']\n",
        "X = movies_df.drop('genres', axis=1)\n",
        "X_train, X_test, y_train, y_test = train_test_split(X, y, shuffle=True, test_size=0.3, random_state=21)\n",
        "X_train.shape, X_test.shape, y_train.shape, y_test.shape"
      ],
      "execution_count": 246,
      "outputs": [
        {
          "output_type": "execute_result",
          "data": {
            "text/plain": [
              "((19017, 1), (8151, 1), (19017,), (8151,))"
            ]
          },
          "metadata": {},
          "execution_count": 246
        }
      ]
    },
    {
      "cell_type": "code",
      "metadata": {
        "id": "odTFXBNxy9Xw"
      },
      "source": [
        "df_balanc = pd.concat([X_train, y_train], axis=1)\n",
        "df_balanc.head()\n",
        "\n",
        "df_balanced = balanset_by_column(df_balanc, 'genres', [1,0])"
      ],
      "execution_count": 247,
      "outputs": []
    },
    {
      "cell_type": "code",
      "metadata": {
        "id": "MU0zFZdFKoXp",
        "outputId": "bfadd4c7-7122-4f9a-ffb3-8d6b3015c173",
        "colab": {
          "base_uri": "https://localhost:8080/"
        }
      },
      "source": [
        "df_balanced[df_balanced['genres'] == 1].count()['genres']"
      ],
      "execution_count": 248,
      "outputs": [
        {
          "output_type": "execute_result",
          "data": {
            "text/plain": [
              "5836"
            ]
          },
          "metadata": {},
          "execution_count": 248
        }
      ]
    },
    {
      "cell_type": "code",
      "metadata": {
        "id": "WE_3YriMKqvB",
        "outputId": "45257b15-8cb1-47a4-ec9d-ae713f6744c5",
        "colab": {
          "base_uri": "https://localhost:8080/"
        }
      },
      "source": [
        "df_balanced[df_balanced['genres'] == 0].count()['genres']"
      ],
      "execution_count": 249,
      "outputs": [
        {
          "output_type": "execute_result",
          "data": {
            "text/plain": [
              "5836"
            ]
          },
          "metadata": {},
          "execution_count": 249
        }
      ]
    },
    {
      "cell_type": "code",
      "metadata": {
        "colab": {
          "base_uri": "https://localhost:8080/"
        },
        "id": "qYuhKFoBkFEo",
        "outputId": "c7368eaa-6f90-461e-cd6c-e03dac0fef4d"
      },
      "source": [
        "import statsmodels.api as sm\n",
        "logit_model=sm.Logit(y,X)\n",
        "result=logit_model.fit()\n",
        "print(result.summary2())"
      ],
      "execution_count": 250,
      "outputs": [
        {
          "output_type": "stream",
          "name": "stdout",
          "text": [
            "Optimization terminated successfully.\n",
            "         Current function value: 0.602352\n",
            "         Iterations 4\n",
            "                         Results: Logit\n",
            "=================================================================\n",
            "Model:              Logit            Pseudo R-squared: 0.026     \n",
            "Dependent Variable: genres           AIC:              32731.4251\n",
            "Date:               2021-10-08 18:40 BIC:              32739.6349\n",
            "No. Observations:   27168            Log-Likelihood:   -16365.   \n",
            "Df Model:           0                LL-Null:          -16796.   \n",
            "Df Residuals:       27167            LLR p-value:      nan       \n",
            "Converged:          1.0000           Scale:            1.0000    \n",
            "No. Iterations:     4.0000                                       \n",
            "-----------------------------------------------------------------\n",
            "                  Coef.  Std.Err.    z     P>|z|   [0.025  0.975]\n",
            "-----------------------------------------------------------------\n",
            "runtimeMinutes   -0.0081   0.0001 -66.3495 0.0000 -0.0084 -0.0079\n",
            "=================================================================\n",
            "\n"
          ]
        }
      ]
    },
    {
      "cell_type": "code",
      "metadata": {
        "id": "QC63-PvTp5gA",
        "colab": {
          "base_uri": "https://localhost:8080/"
        },
        "outputId": "c97b731e-7169-4b1a-cb06-2874ec9abc38"
      },
      "source": [
        "from sklearn.linear_model import LogisticRegression\n",
        "from sklearn import metrics\n",
        "\n",
        "X_train, X_test, y_train, y_test = train_test_split(X, y, test_size=0.3, random_state=0)\n",
        "logreg = LogisticRegression()\n",
        "logreg.fit(X_train, y_train)"
      ],
      "execution_count": 251,
      "outputs": [
        {
          "output_type": "execute_result",
          "data": {
            "text/plain": [
              "LogisticRegression(C=1.0, class_weight=None, dual=False, fit_intercept=True,\n",
              "                   intercept_scaling=1, l1_ratio=None, max_iter=100,\n",
              "                   multi_class='auto', n_jobs=None, penalty='l2',\n",
              "                   random_state=None, solver='lbfgs', tol=0.0001, verbose=0,\n",
              "                   warm_start=False)"
            ]
          },
          "metadata": {},
          "execution_count": 251
        }
      ]
    },
    {
      "cell_type": "code",
      "metadata": {
        "id": "4oAbbRfkqaCW",
        "colab": {
          "base_uri": "https://localhost:8080/"
        },
        "outputId": "28d8c4fa-d18d-4a62-8a3b-c01a736bb61e"
      },
      "source": [
        "y_pred = logreg.predict(X_test)\n",
        "print('Accuracy of logistic regression classifier on test set: {:.2f}'.format(logreg.score(X_test, y_test)))"
      ],
      "execution_count": 252,
      "outputs": [
        {
          "output_type": "stream",
          "name": "stdout",
          "text": [
            "Accuracy of logistic regression classifier on test set: 0.69\n"
          ]
        }
      ]
    },
    {
      "cell_type": "code",
      "metadata": {
        "id": "MU5yvmeOuAFg",
        "colab": {
          "base_uri": "https://localhost:8080/"
        },
        "outputId": "a9328b01-a709-4fa8-9764-330afb39eff2"
      },
      "source": [
        "metrics.f1_score(y_test, y_pred, average='weighted', labels=np.unique(y_pred))"
      ],
      "execution_count": 255,
      "outputs": [
        {
          "output_type": "execute_result",
          "data": {
            "text/plain": [
              "0.8178390137781002"
            ]
          },
          "metadata": {},
          "execution_count": 255
        }
      ]
    }
  ]
}