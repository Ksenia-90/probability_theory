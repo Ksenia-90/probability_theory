{
  "nbformat": 4,
  "nbformat_minor": 0,
  "metadata": {
    "colab": {
      "name": "project_1.ipynb",
      "provenance": [],
      "collapsed_sections": [],
      "mount_file_id": "1BP3E9l7TVriFmWLhneVRBUm_DWboS4_Y",
      "authorship_tag": "ABX9TyPnEh5bnse/YkWas/WJDdOf",
      "include_colab_link": true
    },
    "kernelspec": {
      "name": "python3",
      "display_name": "Python 3"
    },
    "language_info": {
      "name": "python"
    }
  },
  "cells": [
    {
      "cell_type": "markdown",
      "metadata": {
        "id": "view-in-github",
        "colab_type": "text"
      },
      "source": [
        "<a href=\"https://colab.research.google.com/github/Ksenia-90/probability_theory/blob/lesson_8_project/project_1.ipynb\" target=\"_parent\"><img src=\"https://colab.research.google.com/assets/colab-badge.svg\" alt=\"Open In Colab\"/></a>"
      ]
    },
    {
      "cell_type": "markdown",
      "metadata": {
        "id": "cqo43UgmcYw2"
      },
      "source": [
        "#**Курсовая работа**"
      ]
    },
    {
      "cell_type": "markdown",
      "metadata": {
        "id": "8Wnb_W-ycsbm"
      },
      "source": [
        "##**Тема: \"Анализ средней продолжительности фильма в зависимости от жанра\"**"
      ]
    },
    {
      "cell_type": "markdown",
      "metadata": {
        "id": "_cl0OWFxdkLC"
      },
      "source": [
        "Данные для исследования и анализа взяты из открытого источника: \n",
        "* https://www.imdb.com/interfaces/ \n",
        "* https://datasets.imdbws.com/"
      ]
    },
    {
      "cell_type": "code",
      "metadata": {
        "id": "6V9gwG_feKLo"
      },
      "source": [
        "import pandas as pd\n",
        "import numpy as np\n",
        "import matplotlib.pyplot as plt\n",
        "import seaborn as sns\n",
        "from scipy import stats\n",
        "from sklearn import preprocessing\n",
        "plt.rc(\"font\", size=14)\n",
        "from sklearn.linear_model import LogisticRegression\n",
        "from sklearn.model_selection import train_test_split\n",
        "sns.set(style=\"white\")\n",
        "sns.set(style=\"whitegrid\", color_codes=True)\n",
        "\n",
        "%matplotlib inline"
      ],
      "execution_count": null,
      "outputs": []
    },
    {
      "cell_type": "code",
      "metadata": {
        "colab": {
          "base_uri": "https://localhost:8080/"
        },
        "id": "A9cpmyZwh065",
        "outputId": "98fa2a8a-a467-4d4b-e1ac-325ed71b604f"
      },
      "source": [
        "from google.colab import drive\n",
        "drive.mount('/content/drive')"
      ],
      "execution_count": null,
      "outputs": [
        {
          "output_type": "stream",
          "name": "stdout",
          "text": [
            "Drive already mounted at /content/drive; to attempt to forcibly remount, call drive.mount(\"/content/drive\", force_remount=True).\n"
          ]
        }
      ]
    },
    {
      "cell_type": "code",
      "metadata": {
        "colab": {
          "base_uri": "https://localhost:8080/"
        },
        "id": "oTj7msW_dLN2",
        "outputId": "7abf99b6-ada1-42e0-8715-cf3e82ecf9f6"
      },
      "source": [
        "titel = pd.read_csv('/content/drive/MyDrive/Colab Notebooks/title.basics.tsv.gz', sep = '\\t', encoding='utf-8' )"
      ],
      "execution_count": null,
      "outputs": [
        {
          "output_type": "stream",
          "name": "stderr",
          "text": [
            "/usr/local/lib/python3.7/dist-packages/IPython/core/interactiveshell.py:2718: DtypeWarning: Columns (4,5) have mixed types.Specify dtype option on import or set low_memory=False.\n",
            "  interactivity=interactivity, compiler=compiler, result=result)\n"
          ]
        }
      ]
    },
    {
      "cell_type": "code",
      "metadata": {
        "colab": {
          "base_uri": "https://localhost:8080/",
          "height": 204
        },
        "id": "gziDjV2ryvHy",
        "outputId": "eaf826b1-3558-473c-ce0d-6b526c8410d9"
      },
      "source": [
        "titel.head()"
      ],
      "execution_count": null,
      "outputs": [
        {
          "output_type": "execute_result",
          "data": {
            "text/html": [
              "<div>\n",
              "<style scoped>\n",
              "    .dataframe tbody tr th:only-of-type {\n",
              "        vertical-align: middle;\n",
              "    }\n",
              "\n",
              "    .dataframe tbody tr th {\n",
              "        vertical-align: top;\n",
              "    }\n",
              "\n",
              "    .dataframe thead th {\n",
              "        text-align: right;\n",
              "    }\n",
              "</style>\n",
              "<table border=\"1\" class=\"dataframe\">\n",
              "  <thead>\n",
              "    <tr style=\"text-align: right;\">\n",
              "      <th></th>\n",
              "      <th>tconst</th>\n",
              "      <th>titleType</th>\n",
              "      <th>primaryTitle</th>\n",
              "      <th>originalTitle</th>\n",
              "      <th>isAdult</th>\n",
              "      <th>startYear</th>\n",
              "      <th>endYear</th>\n",
              "      <th>runtimeMinutes</th>\n",
              "      <th>genres</th>\n",
              "    </tr>\n",
              "  </thead>\n",
              "  <tbody>\n",
              "    <tr>\n",
              "      <th>0</th>\n",
              "      <td>tt0000001</td>\n",
              "      <td>short</td>\n",
              "      <td>Carmencita</td>\n",
              "      <td>Carmencita</td>\n",
              "      <td>0</td>\n",
              "      <td>1894</td>\n",
              "      <td>\\N</td>\n",
              "      <td>1</td>\n",
              "      <td>Documentary,Short</td>\n",
              "    </tr>\n",
              "    <tr>\n",
              "      <th>1</th>\n",
              "      <td>tt0000002</td>\n",
              "      <td>short</td>\n",
              "      <td>Le clown et ses chiens</td>\n",
              "      <td>Le clown et ses chiens</td>\n",
              "      <td>0</td>\n",
              "      <td>1892</td>\n",
              "      <td>\\N</td>\n",
              "      <td>5</td>\n",
              "      <td>Animation,Short</td>\n",
              "    </tr>\n",
              "    <tr>\n",
              "      <th>2</th>\n",
              "      <td>tt0000003</td>\n",
              "      <td>short</td>\n",
              "      <td>Pauvre Pierrot</td>\n",
              "      <td>Pauvre Pierrot</td>\n",
              "      <td>0</td>\n",
              "      <td>1892</td>\n",
              "      <td>\\N</td>\n",
              "      <td>4</td>\n",
              "      <td>Animation,Comedy,Romance</td>\n",
              "    </tr>\n",
              "    <tr>\n",
              "      <th>3</th>\n",
              "      <td>tt0000004</td>\n",
              "      <td>short</td>\n",
              "      <td>Un bon bock</td>\n",
              "      <td>Un bon bock</td>\n",
              "      <td>0</td>\n",
              "      <td>1892</td>\n",
              "      <td>\\N</td>\n",
              "      <td>12</td>\n",
              "      <td>Animation,Short</td>\n",
              "    </tr>\n",
              "    <tr>\n",
              "      <th>4</th>\n",
              "      <td>tt0000005</td>\n",
              "      <td>short</td>\n",
              "      <td>Blacksmith Scene</td>\n",
              "      <td>Blacksmith Scene</td>\n",
              "      <td>0</td>\n",
              "      <td>1893</td>\n",
              "      <td>\\N</td>\n",
              "      <td>1</td>\n",
              "      <td>Comedy,Short</td>\n",
              "    </tr>\n",
              "  </tbody>\n",
              "</table>\n",
              "</div>"
            ],
            "text/plain": [
              "      tconst titleType  ... runtimeMinutes                    genres\n",
              "0  tt0000001     short  ...              1         Documentary,Short\n",
              "1  tt0000002     short  ...              5           Animation,Short\n",
              "2  tt0000003     short  ...              4  Animation,Comedy,Romance\n",
              "3  tt0000004     short  ...             12           Animation,Short\n",
              "4  tt0000005     short  ...              1              Comedy,Short\n",
              "\n",
              "[5 rows x 9 columns]"
            ]
          },
          "metadata": {},
          "execution_count": 58
        }
      ]
    },
    {
      "cell_type": "code",
      "metadata": {
        "colab": {
          "base_uri": "https://localhost:8080/"
        },
        "id": "bHdd2LlX3NiY",
        "outputId": "a03cd178-b659-44a7-9592-3e0dbaba5edb"
      },
      "source": [
        "print(titel.shape)"
      ],
      "execution_count": null,
      "outputs": [
        {
          "output_type": "stream",
          "name": "stdout",
          "text": [
            "(8300681, 9)\n"
          ]
        }
      ]
    },
    {
      "cell_type": "code",
      "metadata": {
        "colab": {
          "base_uri": "https://localhost:8080/"
        },
        "id": "_Jl8_Ew93f49",
        "outputId": "1c841a56-5e16-422e-8b64-ba9cb93b164d"
      },
      "source": [
        "print(list(titel.columns))"
      ],
      "execution_count": null,
      "outputs": [
        {
          "output_type": "stream",
          "name": "stdout",
          "text": [
            "['tconst', 'titleType', 'primaryTitle', 'originalTitle', 'isAdult', 'startYear', 'endYear', 'runtimeMinutes', 'genres']\n"
          ]
        }
      ]
    },
    {
      "cell_type": "markdown",
      "metadata": {
        "id": "xcrrTTto2NyR"
      },
      "source": [
        "Выдвинем 2 гипотизы:\n",
        "* Гипотеза H0: средняя продолжительность фильма не зависит от жанра\n",
        "* Гипотеза H1: средняя продолжительность фильма зависит от жанра."
      ]
    },
    {
      "cell_type": "markdown",
      "metadata": {
        "id": "BWQGaD5m5RSc"
      },
      "source": [
        "Выбирем только категорию 'Movie'"
      ]
    },
    {
      "cell_type": "code",
      "metadata": {
        "colab": {
          "base_uri": "https://localhost:8080/"
        },
        "id": "aUPvLktF6HpZ",
        "outputId": "1fc75099-42e1-4736-e69a-483dc07e67ff"
      },
      "source": [
        "title_types = titel.titleType.unique()\n",
        "print(title_types)"
      ],
      "execution_count": null,
      "outputs": [
        {
          "output_type": "stream",
          "name": "stdout",
          "text": [
            "['short' 'movie' 'tvEpisode' 'tvSeries' 'tvShort' 'tvMovie' 'tvMiniSeries'\n",
            " 'tvSpecial' 'video' 'videoGame' 'radioEpisode' 'tvPilot']\n"
          ]
        }
      ]
    },
    {
      "cell_type": "code",
      "metadata": {
        "colab": {
          "base_uri": "https://localhost:8080/",
          "height": 204
        },
        "id": "kCRhr5qC6YDS",
        "outputId": "a7f4f35e-b887-4213-9af4-057e0d7bc4be"
      },
      "source": [
        "movies= titel[titel.titleType == 'movie']\n",
        "movies.head()"
      ],
      "execution_count": null,
      "outputs": [
        {
          "output_type": "execute_result",
          "data": {
            "text/html": [
              "<div>\n",
              "<style scoped>\n",
              "    .dataframe tbody tr th:only-of-type {\n",
              "        vertical-align: middle;\n",
              "    }\n",
              "\n",
              "    .dataframe tbody tr th {\n",
              "        vertical-align: top;\n",
              "    }\n",
              "\n",
              "    .dataframe thead th {\n",
              "        text-align: right;\n",
              "    }\n",
              "</style>\n",
              "<table border=\"1\" class=\"dataframe\">\n",
              "  <thead>\n",
              "    <tr style=\"text-align: right;\">\n",
              "      <th></th>\n",
              "      <th>tconst</th>\n",
              "      <th>titleType</th>\n",
              "      <th>primaryTitle</th>\n",
              "      <th>originalTitle</th>\n",
              "      <th>isAdult</th>\n",
              "      <th>startYear</th>\n",
              "      <th>endYear</th>\n",
              "      <th>runtimeMinutes</th>\n",
              "      <th>genres</th>\n",
              "    </tr>\n",
              "  </thead>\n",
              "  <tbody>\n",
              "    <tr>\n",
              "      <th>498</th>\n",
              "      <td>tt0000502</td>\n",
              "      <td>movie</td>\n",
              "      <td>Bohemios</td>\n",
              "      <td>Bohemios</td>\n",
              "      <td>0</td>\n",
              "      <td>1905</td>\n",
              "      <td>\\N</td>\n",
              "      <td>100</td>\n",
              "      <td>\\N</td>\n",
              "    </tr>\n",
              "    <tr>\n",
              "      <th>570</th>\n",
              "      <td>tt0000574</td>\n",
              "      <td>movie</td>\n",
              "      <td>The Story of the Kelly Gang</td>\n",
              "      <td>The Story of the Kelly Gang</td>\n",
              "      <td>0</td>\n",
              "      <td>1906</td>\n",
              "      <td>\\N</td>\n",
              "      <td>70</td>\n",
              "      <td>Action,Adventure,Biography</td>\n",
              "    </tr>\n",
              "    <tr>\n",
              "      <th>587</th>\n",
              "      <td>tt0000591</td>\n",
              "      <td>movie</td>\n",
              "      <td>The Prodigal Son</td>\n",
              "      <td>L'enfant prodigue</td>\n",
              "      <td>0</td>\n",
              "      <td>1907</td>\n",
              "      <td>\\N</td>\n",
              "      <td>90</td>\n",
              "      <td>Drama</td>\n",
              "    </tr>\n",
              "    <tr>\n",
              "      <th>610</th>\n",
              "      <td>tt0000615</td>\n",
              "      <td>movie</td>\n",
              "      <td>Robbery Under Arms</td>\n",
              "      <td>Robbery Under Arms</td>\n",
              "      <td>0</td>\n",
              "      <td>1907</td>\n",
              "      <td>\\N</td>\n",
              "      <td>\\N</td>\n",
              "      <td>Drama</td>\n",
              "    </tr>\n",
              "    <tr>\n",
              "      <th>625</th>\n",
              "      <td>tt0000630</td>\n",
              "      <td>movie</td>\n",
              "      <td>Hamlet</td>\n",
              "      <td>Amleto</td>\n",
              "      <td>0</td>\n",
              "      <td>1908</td>\n",
              "      <td>\\N</td>\n",
              "      <td>\\N</td>\n",
              "      <td>Drama</td>\n",
              "    </tr>\n",
              "  </tbody>\n",
              "</table>\n",
              "</div>"
            ],
            "text/plain": [
              "        tconst titleType  ... runtimeMinutes                      genres\n",
              "498  tt0000502     movie  ...            100                          \\N\n",
              "570  tt0000574     movie  ...             70  Action,Adventure,Biography\n",
              "587  tt0000591     movie  ...             90                       Drama\n",
              "610  tt0000615     movie  ...             \\N                       Drama\n",
              "625  tt0000630     movie  ...             \\N                       Drama\n",
              "\n",
              "[5 rows x 9 columns]"
            ]
          },
          "metadata": {},
          "execution_count": 62
        }
      ]
    },
    {
      "cell_type": "code",
      "metadata": {
        "id": "1bxoNPokBzhh"
      },
      "source": [
        "#удалим записи которые содержат NaN\n",
        "movies = movies.dropna()\n",
        "movies = movies[movies.runtimeMinutes != '\\\\N']\n",
        "movies['runtimeMinutes'] = movies['runtimeMinutes'].apply(lambda x: int(x))\n",
        "movies = movies[movies.genres != '\\\\N']"
      ],
      "execution_count": null,
      "outputs": []
    },
    {
      "cell_type": "code",
      "metadata": {
        "id": "EN0ad0dpVrHL"
      },
      "source": [
        "#удаляем колонки котрые в данном проекте для нас не значимы.\n",
        "movies.drop(movies.columns [[3,4, 5, 6]], axis = 1, inplace = True)"
      ],
      "execution_count": null,
      "outputs": []
    },
    {
      "cell_type": "code",
      "metadata": {
        "colab": {
          "base_uri": "https://localhost:8080/",
          "height": 204
        },
        "id": "Jq69EE2GTOZ4",
        "outputId": "92d9bb13-499b-4f8a-a468-08fdf0b3fcb2"
      },
      "source": [
        "movies.head()"
      ],
      "execution_count": null,
      "outputs": [
        {
          "output_type": "execute_result",
          "data": {
            "text/html": [
              "<div>\n",
              "<style scoped>\n",
              "    .dataframe tbody tr th:only-of-type {\n",
              "        vertical-align: middle;\n",
              "    }\n",
              "\n",
              "    .dataframe tbody tr th {\n",
              "        vertical-align: top;\n",
              "    }\n",
              "\n",
              "    .dataframe thead th {\n",
              "        text-align: right;\n",
              "    }\n",
              "</style>\n",
              "<table border=\"1\" class=\"dataframe\">\n",
              "  <thead>\n",
              "    <tr style=\"text-align: right;\">\n",
              "      <th></th>\n",
              "      <th>tconst</th>\n",
              "      <th>titleType</th>\n",
              "      <th>primaryTitle</th>\n",
              "      <th>runtimeMinutes</th>\n",
              "      <th>genres</th>\n",
              "    </tr>\n",
              "  </thead>\n",
              "  <tbody>\n",
              "    <tr>\n",
              "      <th>570</th>\n",
              "      <td>tt0000574</td>\n",
              "      <td>movie</td>\n",
              "      <td>The Story of the Kelly Gang</td>\n",
              "      <td>70</td>\n",
              "      <td>Action,Adventure,Biography</td>\n",
              "    </tr>\n",
              "    <tr>\n",
              "      <th>587</th>\n",
              "      <td>tt0000591</td>\n",
              "      <td>movie</td>\n",
              "      <td>The Prodigal Son</td>\n",
              "      <td>90</td>\n",
              "      <td>Drama</td>\n",
              "    </tr>\n",
              "    <tr>\n",
              "      <th>672</th>\n",
              "      <td>tt0000679</td>\n",
              "      <td>movie</td>\n",
              "      <td>The Fairylogue and Radio-Plays</td>\n",
              "      <td>120</td>\n",
              "      <td>Adventure,Fantasy</td>\n",
              "    </tr>\n",
              "    <tr>\n",
              "      <th>1172</th>\n",
              "      <td>tt0001184</td>\n",
              "      <td>movie</td>\n",
              "      <td>Don Juan de Serrallonga</td>\n",
              "      <td>58</td>\n",
              "      <td>Adventure,Drama</td>\n",
              "    </tr>\n",
              "    <tr>\n",
              "      <th>1246</th>\n",
              "      <td>tt0001258</td>\n",
              "      <td>movie</td>\n",
              "      <td>The White Slave Trade</td>\n",
              "      <td>45</td>\n",
              "      <td>Drama</td>\n",
              "    </tr>\n",
              "  </tbody>\n",
              "</table>\n",
              "</div>"
            ],
            "text/plain": [
              "         tconst titleType  ... runtimeMinutes                      genres\n",
              "570   tt0000574     movie  ...             70  Action,Adventure,Biography\n",
              "587   tt0000591     movie  ...             90                       Drama\n",
              "672   tt0000679     movie  ...            120           Adventure,Fantasy\n",
              "1172  tt0001184     movie  ...             58             Adventure,Drama\n",
              "1246  tt0001258     movie  ...             45                       Drama\n",
              "\n",
              "[5 rows x 5 columns]"
            ]
          },
          "metadata": {},
          "execution_count": 65
        }
      ]
    },
    {
      "cell_type": "code",
      "metadata": {
        "colab": {
          "base_uri": "https://localhost:8080/",
          "height": 204
        },
        "id": "J0kWGpzJgbF9",
        "outputId": "399e3e51-9ad6-4f1d-d876-09c60a313ec9"
      },
      "source": [
        "# выберем только те фильмы, продолжительность которых от 90 до 240 минут.\n",
        "movies = movies[(movies.runtimeMinutes > 89) & (movies.runtimeMinutes < 241)]\n",
        "movies.head()"
      ],
      "execution_count": null,
      "outputs": [
        {
          "output_type": "execute_result",
          "data": {
            "text/html": [
              "<div>\n",
              "<style scoped>\n",
              "    .dataframe tbody tr th:only-of-type {\n",
              "        vertical-align: middle;\n",
              "    }\n",
              "\n",
              "    .dataframe tbody tr th {\n",
              "        vertical-align: top;\n",
              "    }\n",
              "\n",
              "    .dataframe thead th {\n",
              "        text-align: right;\n",
              "    }\n",
              "</style>\n",
              "<table border=\"1\" class=\"dataframe\">\n",
              "  <thead>\n",
              "    <tr style=\"text-align: right;\">\n",
              "      <th></th>\n",
              "      <th>tconst</th>\n",
              "      <th>titleType</th>\n",
              "      <th>primaryTitle</th>\n",
              "      <th>runtimeMinutes</th>\n",
              "      <th>genres</th>\n",
              "    </tr>\n",
              "  </thead>\n",
              "  <tbody>\n",
              "    <tr>\n",
              "      <th>587</th>\n",
              "      <td>tt0000591</td>\n",
              "      <td>movie</td>\n",
              "      <td>The Prodigal Son</td>\n",
              "      <td>90</td>\n",
              "      <td>Drama</td>\n",
              "    </tr>\n",
              "    <tr>\n",
              "      <th>672</th>\n",
              "      <td>tt0000679</td>\n",
              "      <td>movie</td>\n",
              "      <td>The Fairylogue and Radio-Plays</td>\n",
              "      <td>120</td>\n",
              "      <td>Adventure,Fantasy</td>\n",
              "    </tr>\n",
              "    <tr>\n",
              "      <th>2076</th>\n",
              "      <td>tt0002101</td>\n",
              "      <td>movie</td>\n",
              "      <td>Cleopatra</td>\n",
              "      <td>100</td>\n",
              "      <td>Drama,History</td>\n",
              "    </tr>\n",
              "    <tr>\n",
              "      <th>2418</th>\n",
              "      <td>tt0002445</td>\n",
              "      <td>movie</td>\n",
              "      <td>Quo Vadis?</td>\n",
              "      <td>120</td>\n",
              "      <td>Drama,History</td>\n",
              "    </tr>\n",
              "    <tr>\n",
              "      <th>2425</th>\n",
              "      <td>tt0002452</td>\n",
              "      <td>movie</td>\n",
              "      <td>The Independence of Romania</td>\n",
              "      <td>120</td>\n",
              "      <td>History,War</td>\n",
              "    </tr>\n",
              "  </tbody>\n",
              "</table>\n",
              "</div>"
            ],
            "text/plain": [
              "         tconst titleType  ... runtimeMinutes             genres\n",
              "587   tt0000591     movie  ...             90              Drama\n",
              "672   tt0000679     movie  ...            120  Adventure,Fantasy\n",
              "2076  tt0002101     movie  ...            100      Drama,History\n",
              "2418  tt0002445     movie  ...            120      Drama,History\n",
              "2425  tt0002452     movie  ...            120        History,War\n",
              "\n",
              "[5 rows x 5 columns]"
            ]
          },
          "metadata": {},
          "execution_count": 66
        }
      ]
    },
    {
      "cell_type": "code",
      "metadata": {
        "colab": {
          "base_uri": "https://localhost:8080/"
        },
        "id": "7xWVRgLChG-S",
        "outputId": "76428564-555e-44d6-d7d9-d2a3cb076ce7"
      },
      "source": [
        "genres = tuple(movies.genres.unique())\n",
        "print(genres[:25])"
      ],
      "execution_count": null,
      "outputs": [
        {
          "output_type": "stream",
          "name": "stdout",
          "text": [
            "('Drama', 'Adventure,Fantasy', 'Drama,History', 'History,War', 'Crime,Drama,Mystery', 'Biography,Drama,History', 'Adventure,Drama,History', 'Crime,Drama', 'Action', 'Action,Adventure,Biography', 'Action,Adventure,Drama', 'Drama,Western', 'Drama,History,War', 'Drama,Sci-Fi', 'Crime,Drama,Horror', 'Documentary,War', 'Comedy', 'Action,Adventure,Sci-Fi', 'Documentary', 'Drama,History,Romance', 'Action,Drama,War', 'Adventure', 'Mystery', 'History', 'Adventure,Fantasy,Sci-Fi')\n"
          ]
        }
      ]
    },
    {
      "cell_type": "code",
      "metadata": {
        "id": "7OEiKNVvJVMi"
      },
      "source": [
        "def get_target_genres(data, target):\n",
        "    target_genres = []\n",
        "    for genre in data:\n",
        "        tmp_list = str(genre).lower().split(',') \n",
        "        for item in tmp_list:\n",
        "            if item in target:\n",
        "                target_genres.append(str(genre))\n",
        "    return target_genres"
      ],
      "execution_count": null,
      "outputs": []
    },
    {
      "cell_type": "code",
      "metadata": {
        "id": "3AGK8KygJftD"
      },
      "source": [
        "columns = ['tconst', 'primaryTitle', 'runtimeMinutes', 'genres']\n",
        "\n",
        "fantasy_genres = get_target_genres(data=genres, target=('fantasy'))\n",
        "fantasy_movies = movies[movies.genres.isin(fantasy_genres)].loc[:, columns].reset_index(drop=True)\n",
        "\n",
        "horror_genres = get_target_genres(data=genres, target=('horror'))\n",
        "horror_movies = movies[movies.genres.isin(horror_genres)].loc[:, columns].reset_index(drop=True)\n",
        "\n",
        "action_genres = get_target_genres(data=genres, target=('action'))\n",
        "action_movies = movies[movies.genres.isin(action_genres)].loc[:, columns].reset_index(drop=True)"
      ],
      "execution_count": null,
      "outputs": []
    },
    {
      "cell_type": "code",
      "metadata": {
        "id": "AsNdku63KJCo"
      },
      "source": [
        "fantasy = tuple(set(fantasy_movies.tconst) - set(horror_movies.tconst) - set(action_movies.tconst))\n",
        "horror = tuple(set(horror_movies.tconst) - set(fantasy_movies.tconst) - set(action_movies.tconst))\n",
        "action = tuple(set(action_movies.tconst) - set(fantasy_movies.tconst) - set(horror_movies.tconst))"
      ],
      "execution_count": null,
      "outputs": []
    },
    {
      "cell_type": "markdown",
      "metadata": {
        "id": "JgqhXrk_YnA3"
      },
      "source": [
        "Очистим жанры выбрав один тип"
      ]
    },
    {
      "cell_type": "code",
      "metadata": {
        "id": "dSpg2sXTKfMv"
      },
      "source": [
        "fantasy_only = fantasy_movies[fantasy_movies.tconst.isin(fantasy)].reset_index(drop=True)\n",
        "fantasy_only['genres'] = 'fantasy'\n",
        "\n",
        "horror_only = horror_movies[horror_movies.tconst.isin(horror)].reset_index(drop=True)\n",
        "horror_only['genres'] = 'horror'\n",
        "\n",
        "action_only = action_movies[action_movies.tconst.isin(action)].reset_index(drop=True)\n",
        "action_only['genres'] = 'action'"
      ],
      "execution_count": null,
      "outputs": []
    },
    {
      "cell_type": "code",
      "metadata": {
        "colab": {
          "base_uri": "https://localhost:8080/"
        },
        "id": "GXf8OOzmLkS9",
        "outputId": "13278f6e-f1c7-42bf-dfb4-df34590898bd"
      },
      "source": [
        "print(f'Fantasy only: {fantasy_only.shape[0]} movies')\n",
        "print(f'Horror only: {horror_only.shape[0]} movies')\n",
        "print(f'Action only: {action_only.shape[0]} movies')"
      ],
      "execution_count": null,
      "outputs": [
        {
          "output_type": "stream",
          "name": "stdout",
          "text": [
            "Fantasy only: 3815 movies\n",
            "Horror only: 8392 movies\n",
            "Action only: 18776 movies\n"
          ]
        }
      ]
    },
    {
      "cell_type": "code",
      "metadata": {
        "colab": {
          "base_uri": "https://localhost:8080/",
          "height": 204
        },
        "id": "6FSaURN20MMp",
        "outputId": "2c42c68e-74a2-4af9-cd10-8ecbb3d0bf1d"
      },
      "source": [
        "horror_only.head()"
      ],
      "execution_count": null,
      "outputs": [
        {
          "output_type": "execute_result",
          "data": {
            "text/html": [
              "<div>\n",
              "<style scoped>\n",
              "    .dataframe tbody tr th:only-of-type {\n",
              "        vertical-align: middle;\n",
              "    }\n",
              "\n",
              "    .dataframe tbody tr th {\n",
              "        vertical-align: top;\n",
              "    }\n",
              "\n",
              "    .dataframe thead th {\n",
              "        text-align: right;\n",
              "    }\n",
              "</style>\n",
              "<table border=\"1\" class=\"dataframe\">\n",
              "  <thead>\n",
              "    <tr style=\"text-align: right;\">\n",
              "      <th></th>\n",
              "      <th>tconst</th>\n",
              "      <th>primaryTitle</th>\n",
              "      <th>runtimeMinutes</th>\n",
              "      <th>genres</th>\n",
              "    </tr>\n",
              "  </thead>\n",
              "  <tbody>\n",
              "    <tr>\n",
              "      <th>0</th>\n",
              "      <td>tt0005529</td>\n",
              "      <td>Blind Justice</td>\n",
              "      <td>100</td>\n",
              "      <td>horror</td>\n",
              "    </tr>\n",
              "    <tr>\n",
              "      <th>1</th>\n",
              "      <td>tt0010307</td>\n",
              "      <td>J'accuse!</td>\n",
              "      <td>166</td>\n",
              "      <td>horror</td>\n",
              "    </tr>\n",
              "    <tr>\n",
              "      <th>2</th>\n",
              "      <td>tt0010502</td>\n",
              "      <td>Nachtgestalten</td>\n",
              "      <td>106</td>\n",
              "      <td>horror</td>\n",
              "    </tr>\n",
              "    <tr>\n",
              "      <th>3</th>\n",
              "      <td>tt0010559</td>\n",
              "      <td>Die Pest in Florenz</td>\n",
              "      <td>92</td>\n",
              "      <td>horror</td>\n",
              "    </tr>\n",
              "    <tr>\n",
              "      <th>4</th>\n",
              "      <td>tt0011318</td>\n",
              "      <td>Der Hund von Baskerville - 6. Teil: Das Haus o...</td>\n",
              "      <td>157</td>\n",
              "      <td>horror</td>\n",
              "    </tr>\n",
              "  </tbody>\n",
              "</table>\n",
              "</div>"
            ],
            "text/plain": [
              "      tconst  ...  genres\n",
              "0  tt0005529  ...  horror\n",
              "1  tt0010307  ...  horror\n",
              "2  tt0010502  ...  horror\n",
              "3  tt0010559  ...  horror\n",
              "4  tt0011318  ...  horror\n",
              "\n",
              "[5 rows x 4 columns]"
            ]
          },
          "metadata": {},
          "execution_count": 73
        }
      ]
    },
    {
      "cell_type": "markdown",
      "metadata": {
        "id": "RDFvw8VsQZmg"
      },
      "source": [
        "Возьмем из каждой группы по 3000 наблюдений."
      ]
    },
    {
      "cell_type": "code",
      "metadata": {
        "id": "YdS97Qr4QYi3"
      },
      "source": [
        "n_sample = 3000\n",
        "\n",
        "y_fantasy = fantasy_only.sample(n=n_sample, random_state=42).runtimeMinutes.values\n",
        "y_horror= horror_only.sample(n=n_sample, random_state=42).runtimeMinutes.values\n",
        "y_action = action_only.sample(n=n_sample, random_state=42).runtimeMinutes.values"
      ],
      "execution_count": null,
      "outputs": []
    },
    {
      "cell_type": "code",
      "metadata": {
        "colab": {
          "base_uri": "https://localhost:8080/"
        },
        "id": "B_EK9aD1Tbdq",
        "outputId": "40929633-d9d8-4f4c-b16c-98970c44cd83"
      },
      "source": [
        "y_fantasy_mean = y_fantasy.mean()\n",
        "y_horror_mean = y_horror.mean()\n",
        "y_action_mean = y_action.mean()\n",
        "print(f'Cреднее значение:') \n",
        "print(f'y_fantasy_mean = {np.round(y_fantasy_mean, 3)}')\n",
        "print(f'y_horror_mean =  {np.round(y_horror_mean, 3)}')\n",
        "print(f'y_action_mean   =  {np.round(y_action_mean, 3)}')"
      ],
      "execution_count": null,
      "outputs": [
        {
          "output_type": "stream",
          "name": "stdout",
          "text": [
            "Cреднее значение:\n",
            "y_fantasy_mean = 106.495\n",
            "y_horror_mean =  100.802\n",
            "y_action_mean   =  111.868\n"
          ]
        }
      ]
    },
    {
      "cell_type": "code",
      "metadata": {
        "colab": {
          "base_uri": "https://localhost:8080/"
        },
        "id": "i9BTIAwzWZIS",
        "outputId": "cc4645ad-ca83-49fe-feac-cf18b5677e05"
      },
      "source": [
        "films = np.concatenate([y_fantasy, y_horror, y_action])\n",
        "films_mean = np.mean(films)\n",
        "print(f'Cреднее значение общее {np.round(films_mean, 3)}')"
      ],
      "execution_count": null,
      "outputs": [
        {
          "output_type": "stream",
          "name": "stdout",
          "text": [
            "Cреднее значение общее 106.388\n"
          ]
        }
      ]
    },
    {
      "cell_type": "code",
      "metadata": {
        "colab": {
          "base_uri": "https://localhost:8080/"
        },
        "id": "mUkJrzkraawn",
        "outputId": "53c8e442-feae-43f7-93f4-d521106fb29a"
      },
      "source": [
        "n_1 = len(y_fantasy)\n",
        "n_2 = len(y_horror)\n",
        "n_3 = len(y_action)\n",
        "\n",
        "n = n_1 + n_2 + n_3\n",
        "k = 3\n",
        "\n",
        "print(f'Общее значение: {n}')"
      ],
      "execution_count": null,
      "outputs": [
        {
          "output_type": "stream",
          "name": "stdout",
          "text": [
            "Общее значение: 9000\n"
          ]
        }
      ]
    },
    {
      "cell_type": "code",
      "metadata": {
        "colab": {
          "base_uri": "https://localhost:8080/"
        },
        "id": "SZTRpfn0sw9d",
        "outputId": "4ead175f-0622-48d5-f614-e531d6459624"
      },
      "source": [
        "S2_b = n_1 * (y_fantasy_mean - films_mean) ** 2 + n_2 * (y_horror_mean - films_mean) ** 2 + n_3 * (y_action_mean - films_mean) ** 2\n",
        "print(f'S2_b = {np.round(S2_b, 3)}')"
      ],
      "execution_count": null,
      "outputs": [
        {
          "output_type": "stream",
          "name": "stdout",
          "text": [
            "S2_b = 183758.08\n"
          ]
        }
      ]
    },
    {
      "cell_type": "code",
      "metadata": {
        "colab": {
          "base_uri": "https://localhost:8080/"
        },
        "id": "HU_VAF4PtWtZ",
        "outputId": "323924e3-d1d4-4975-8f1c-1796567be96b"
      },
      "source": [
        "S2_w = ((y_fantasy - y_fantasy_mean)**2).sum() + ((y_horror - y_horror_mean) ** 2).sum() + ((y_action - y_action_mean) ** 2).sum()\n",
        "print(f'S2_w = {np.round(S2_w, 3)}')"
      ],
      "execution_count": null,
      "outputs": [
        {
          "output_type": "stream",
          "name": "stdout",
          "text": [
            "S2_w = 3319831.918\n"
          ]
        }
      ]
    },
    {
      "cell_type": "code",
      "metadata": {
        "colab": {
          "base_uri": "https://localhost:8080/"
        },
        "id": "wAP6LlGjtw8q",
        "outputId": "675e1d1d-57de-4065-fd7d-39cd586fa286"
      },
      "source": [
        "S2_b + S2_w, ((films - films_mean) ** 2).sum()"
      ],
      "execution_count": null,
      "outputs": [
        {
          "output_type": "execute_result",
          "data": {
            "text/plain": [
              "(3503589.9982222226, 3503589.998222222)"
            ]
          },
          "metadata": {},
          "execution_count": 80
        }
      ]
    },
    {
      "cell_type": "code",
      "metadata": {
        "colab": {
          "base_uri": "https://localhost:8080/"
        },
        "id": "JeudzP2MuYeB",
        "outputId": "623b50b2-971c-4947-df7a-ddc127f16a62"
      },
      "source": [
        "k = 3\n",
        "n = n_1 + n_2 + n_3\n",
        "k_1 = k-1\n",
        "k_2 = n - k\n",
        "k_1, k_2, n"
      ],
      "execution_count": null,
      "outputs": [
        {
          "output_type": "execute_result",
          "data": {
            "text/plain": [
              "(2, 8997, 9000)"
            ]
          },
          "metadata": {},
          "execution_count": 81
        }
      ]
    },
    {
      "cell_type": "code",
      "metadata": {
        "colab": {
          "base_uri": "https://localhost:8080/"
        },
        "id": "xuz-xk8eucFj",
        "outputId": "cca9952e-1f92-4bdb-9f1a-01704ce6a112"
      },
      "source": [
        "sigma2_b = S2_b / (k - 1)\n",
        "sigma2_w = S2_w / (n - k)\n",
        "\n",
        "sigma2_b, sigma2_w"
      ],
      "execution_count": null,
      "outputs": [
        {
          "output_type": "execute_result",
          "data": {
            "text/plain": [
              "(91879.04011111129, 368.99321084806047)"
            ]
          },
          "metadata": {},
          "execution_count": 82
        }
      ]
    },
    {
      "cell_type": "code",
      "metadata": {
        "colab": {
          "base_uri": "https://localhost:8080/"
        },
        "id": "1FqpfHbAuhUT",
        "outputId": "b45612b0-a9fb-479a-9027-9285fdec1b13"
      },
      "source": [
        "T = sigma2_b / sigma2_w\n",
        "T"
      ],
      "execution_count": null,
      "outputs": [
        {
          "output_type": "execute_result",
          "data": {
            "text/plain": [
              "248.99926993221595"
            ]
          },
          "metadata": {},
          "execution_count": 83
        }
      ]
    },
    {
      "cell_type": "code",
      "metadata": {
        "colab": {
          "base_uri": "https://localhost:8080/"
        },
        "id": "nMiDNuV1ukNr",
        "outputId": "71e274bf-65bc-4f60-f9e0-c2cecc570e4e"
      },
      "source": [
        "alpha = 0.05\n",
        "F_crit = stats.f.ppf(1 - alpha, (k - 1), (n - k))\n",
        "F_crit"
      ],
      "execution_count": null,
      "outputs": [
        {
          "output_type": "execute_result",
          "data": {
            "text/plain": [
              "2.9967299843896065"
            ]
          },
          "metadata": {},
          "execution_count": 84
        }
      ]
    },
    {
      "cell_type": "code",
      "metadata": {
        "colab": {
          "base_uri": "https://localhost:8080/"
        },
        "id": "Q6uaUzxFumt2",
        "outputId": "e0cf7601-78d2-429a-d6df-6e3b6a072584"
      },
      "source": [
        "p = 1 - stats.f.cdf(T, k_1,k_2)\n",
        "p"
      ],
      "execution_count": null,
      "outputs": [
        {
          "output_type": "execute_result",
          "data": {
            "text/plain": [
              "1.1102230246251565e-16"
            ]
          },
          "metadata": {},
          "execution_count": 85
        }
      ]
    },
    {
      "cell_type": "markdown",
      "metadata": {
        "id": "Q44nDl0YvMog"
      },
      "source": [
        "**Вывод:Согласно проведенному анализу мы принимаем гипотизу Н1: средняя продолжительность фильма зависит от жанра, для фильмов во времееной категории от 90-240 мин. и жанров фантаза, ужасы, боевик.**"
      ]
    },
    {
      "cell_type": "markdown",
      "metadata": {
        "id": "18ykerZUwcRe"
      },
      "source": [
        "#**Проведем анализ с помощью логистической регресси.**\n",
        "Создадим очишенный датасет в котором содержатся только фильмы 2 жанров (horror и action) с продолжительностью от 90 до 240 минут."
      ]
    },
    {
      "cell_type": "code",
      "metadata": {
        "id": "0BYaotVP0mgm"
      },
      "source": [
        "movies_df = pd.concat([horror_only, action_only])"
      ],
      "execution_count": null,
      "outputs": []
    },
    {
      "cell_type": "code",
      "metadata": {
        "colab": {
          "base_uri": "https://localhost:8080/",
          "height": 204
        },
        "id": "OM0dUnFE1DLA",
        "outputId": "2560ab7e-9e1d-4473-a6eb-69c95ca62cc0"
      },
      "source": [
        "movies_df.head()"
      ],
      "execution_count": null,
      "outputs": [
        {
          "output_type": "execute_result",
          "data": {
            "text/html": [
              "<div>\n",
              "<style scoped>\n",
              "    .dataframe tbody tr th:only-of-type {\n",
              "        vertical-align: middle;\n",
              "    }\n",
              "\n",
              "    .dataframe tbody tr th {\n",
              "        vertical-align: top;\n",
              "    }\n",
              "\n",
              "    .dataframe thead th {\n",
              "        text-align: right;\n",
              "    }\n",
              "</style>\n",
              "<table border=\"1\" class=\"dataframe\">\n",
              "  <thead>\n",
              "    <tr style=\"text-align: right;\">\n",
              "      <th></th>\n",
              "      <th>tconst</th>\n",
              "      <th>primaryTitle</th>\n",
              "      <th>runtimeMinutes</th>\n",
              "      <th>genres</th>\n",
              "    </tr>\n",
              "  </thead>\n",
              "  <tbody>\n",
              "    <tr>\n",
              "      <th>0</th>\n",
              "      <td>tt0005529</td>\n",
              "      <td>Blind Justice</td>\n",
              "      <td>100</td>\n",
              "      <td>horror</td>\n",
              "    </tr>\n",
              "    <tr>\n",
              "      <th>1</th>\n",
              "      <td>tt0010307</td>\n",
              "      <td>J'accuse!</td>\n",
              "      <td>166</td>\n",
              "      <td>horror</td>\n",
              "    </tr>\n",
              "    <tr>\n",
              "      <th>2</th>\n",
              "      <td>tt0010502</td>\n",
              "      <td>Nachtgestalten</td>\n",
              "      <td>106</td>\n",
              "      <td>horror</td>\n",
              "    </tr>\n",
              "    <tr>\n",
              "      <th>3</th>\n",
              "      <td>tt0010559</td>\n",
              "      <td>Die Pest in Florenz</td>\n",
              "      <td>92</td>\n",
              "      <td>horror</td>\n",
              "    </tr>\n",
              "    <tr>\n",
              "      <th>4</th>\n",
              "      <td>tt0011318</td>\n",
              "      <td>Der Hund von Baskerville - 6. Teil: Das Haus o...</td>\n",
              "      <td>157</td>\n",
              "      <td>horror</td>\n",
              "    </tr>\n",
              "  </tbody>\n",
              "</table>\n",
              "</div>"
            ],
            "text/plain": [
              "      tconst  ...  genres\n",
              "0  tt0005529  ...  horror\n",
              "1  tt0010307  ...  horror\n",
              "2  tt0010502  ...  horror\n",
              "3  tt0010559  ...  horror\n",
              "4  tt0011318  ...  horror\n",
              "\n",
              "[5 rows x 4 columns]"
            ]
          },
          "metadata": {},
          "execution_count": 87
        }
      ]
    },
    {
      "cell_type": "code",
      "metadata": {
        "id": "HhVj1yHE2Ein"
      },
      "source": [
        "movies_df['genres'] = movies_df['genres'].replace({'horror': 0, 'action': 1})"
      ],
      "execution_count": null,
      "outputs": []
    },
    {
      "cell_type": "code",
      "metadata": {
        "colab": {
          "base_uri": "https://localhost:8080/"
        },
        "id": "slTc9Qdz4PAB",
        "outputId": "34f26ded-2ecf-40b6-b6fa-fa8d2394087b"
      },
      "source": [
        "runtimeMinutes = tuple(movies_df.runtimeMinutes.unique())\n",
        "print(runtimeMinutes[:200])"
      ],
      "execution_count": null,
      "outputs": [
        {
          "output_type": "stream",
          "name": "stdout",
          "text": [
            "(100, 166, 106, 92, 157, 107, 90, 94, 105, 128, 133, 93, 110, 108, 98, 224, 104, 99, 97, 113, 91, 103, 165, 117, 129, 115, 95, 101, 96, 109, 134, 119, 112, 120, 102, 140, 122, 137, 121, 118, 130, 183, 127, 160, 116, 146, 111, 126, 114, 156, 144, 125, 124, 141, 135, 180, 123, 161, 177, 172, 131, 147, 151, 142, 175, 169, 168, 148, 132, 136, 143, 139, 145, 158, 167, 170, 163, 153, 159, 162, 155, 150, 154, 138, 240, 186, 195, 199, 210, 174, 178, 222, 152, 198, 203, 192, 149, 173, 171, 220, 223, 200, 230, 185, 215, 213, 217, 226, 194, 216, 225, 227, 231, 228, 229, 236, 219, 212, 211, 205, 237, 196, 197, 218, 201, 221, 207, 239, 208, 164, 204, 184, 176, 181, 189, 193, 179, 187, 214, 190, 188, 202, 182, 232)\n"
          ]
        }
      ]
    },
    {
      "cell_type": "code",
      "metadata": {
        "colab": {
          "base_uri": "https://localhost:8080/",
          "height": 302
        },
        "id": "FeloBk6RRC0T",
        "outputId": "d191f7ea-7dbe-4ccf-a07b-0eb5a3aab0bb"
      },
      "source": [
        "sns.countplot (x='genres', data = movies_df, palette = 'hls')\n",
        "plt.show()\n",
        "plt.savefig('count-plot')"
      ],
      "execution_count": null,
      "outputs": [
        {
          "output_type": "display_data",
          "data": {
            "image/png": "[encoded data removed]",
            "text/plain": [
              "<Figure size 432x288 with 1 Axes>"
            ]
          },
          "metadata": {
            "needs_background": "light"
          }
        },
        {
          "output_type": "display_data",
          "data": {
            "text/plain": [
              "<Figure size 432x288 with 0 Axes>"
            ]
          },
          "metadata": {}
        }
      ]
    },
    {
      "cell_type": "code",
      "metadata": {
        "colab": {
          "base_uri": "https://localhost:8080/"
        },
        "id": "096hIhJuSrpx",
        "outputId": "b06fc172-9864-4c4a-b6e0-fb618804835c"
      },
      "source": [
        "count_action = len(movies_df[movies_df['genres']==1])\n",
        "count_horror = len(movies_df[movies_df['genres']==0])\n",
        "pct_action = count_action/(count_action+count_horror)\n",
        "print(\"percentage action\", pct_action*100)\n",
        "pct_horror = count_horror/(count_action+count_horror)\n",
        "print(\"percentage horror\", pct_horror*100)"
      ],
      "execution_count": null,
      "outputs": [
        {
          "output_type": "stream",
          "name": "stdout",
          "text": [
            "percentage action 69.11071849234393\n",
            "percentage horror 30.889281507656065\n"
          ]
        }
      ]
    },
    {
      "cell_type": "code",
      "metadata": {
        "colab": {
          "base_uri": "https://localhost:8080/"
        },
        "id": "4aGB2Uy6b-Zb",
        "outputId": "be080246-24e4-4088-f4de-9324e3aff7d4"
      },
      "source": [
        "movies_df.dtypes"
      ],
      "execution_count": null,
      "outputs": [
        {
          "output_type": "execute_result",
          "data": {
            "text/plain": [
              "tconst            object\n",
              "primaryTitle      object\n",
              "runtimeMinutes     int64\n",
              "genres             int64\n",
              "dtype: object"
            ]
          },
          "metadata": {},
          "execution_count": 92
        }
      ]
    },
    {
      "cell_type": "code",
      "metadata": {
        "id": "4eGpc1N3iSQ6"
      },
      "source": [
        "movies_df.drop(movies_df.columns [[0,1]], axis = 1, inplace = True)"
      ],
      "execution_count": null,
      "outputs": []
    },
    {
      "cell_type": "code",
      "metadata": {
        "colab": {
          "base_uri": "https://localhost:8080/"
        },
        "id": "ccoNcF2aZ1sA",
        "outputId": "058f7f9c-4cb6-4865-a32a-7bac58507063"
      },
      "source": [
        "y = movies_df['genres']\n",
        "X = movies_df.drop('genres', axis=1)\n",
        "X_train, X_test, y_train, y_test = train_test_split(X, y, shuffle=True, test_size=0.3, random_state=21)\n",
        "X_train.shape, X_test.shape, y_train.shape, y_test.shape"
      ],
      "execution_count": null,
      "outputs": [
        {
          "output_type": "execute_result",
          "data": {
            "text/plain": [
              "((19017, 1), (8151, 1), (19017,), (8151,))"
            ]
          },
          "metadata": {},
          "execution_count": 94
        }
      ]
    },
    {
      "cell_type": "code",
      "metadata": {
        "id": "odTFXBNxy9Xw"
      },
      "source": [
        "df_balanc = pd.concat([X_train, y_train], axis=1)"
      ],
      "execution_count": null,
      "outputs": []
    },
    {
      "cell_type": "code",
      "metadata": {
        "colab": {
          "base_uri": "https://localhost:8080/"
        },
        "id": "qYuhKFoBkFEo",
        "outputId": "ffe9bc4e-1330-4c67-b524-d307ddddc403"
      },
      "source": [
        "import statsmodels.api as sm\n",
        "logit_model=sm.Logit(y,X)\n",
        "result=logit_model.fit()\n",
        "print(result.summary2())"
      ],
      "execution_count": null,
      "outputs": [
        {
          "output_type": "stream",
          "name": "stdout",
          "text": [
            "Optimization terminated successfully.\n",
            "         Current function value: 0.602352\n",
            "         Iterations 4\n",
            "                         Results: Logit\n",
            "=================================================================\n",
            "Model:              Logit            Pseudo R-squared: 0.026     \n",
            "Dependent Variable: genres           AIC:              32731.4251\n",
            "Date:               2021-10-08 09:04 BIC:              32739.6349\n",
            "No. Observations:   27168            Log-Likelihood:   -16365.   \n",
            "Df Model:           0                LL-Null:          -16796.   \n",
            "Df Residuals:       27167            LLR p-value:      nan       \n",
            "Converged:          1.0000           Scale:            1.0000    \n",
            "No. Iterations:     4.0000                                       \n",
            "------------------------------------------------------------------\n",
            "                 Coef.   Std.Err.     z     P>|z|   [0.025  0.975]\n",
            "------------------------------------------------------------------\n",
            "runtimeMinutes   0.0081    0.0001  66.3495  0.0000  0.0079  0.0084\n",
            "=================================================================\n",
            "\n"
          ]
        }
      ]
    },
    {
      "cell_type": "code",
      "metadata": {
        "id": "QC63-PvTp5gA",
        "colab": {
          "base_uri": "https://localhost:8080/"
        },
        "outputId": "a281e172-c507-4ebb-d14f-f68cc4f85ddc"
      },
      "source": [
        "from sklearn.linear_model import LogisticRegression\n",
        "from sklearn import metrics\n",
        "\n",
        "X_train, X_test, y_train, y_test = train_test_split(X, y, test_size=0.3, random_state=0)\n",
        "logreg = LogisticRegression()\n",
        "logreg.fit(X_train, y_train)"
      ],
      "execution_count": null,
      "outputs": [
        {
          "output_type": "execute_result",
          "data": {
            "text/plain": [
              "LogisticRegression(C=1.0, class_weight=None, dual=False, fit_intercept=True,\n",
              "                   intercept_scaling=1, l1_ratio=None, max_iter=100,\n",
              "                   multi_class='auto', n_jobs=None, penalty='l2',\n",
              "                   random_state=None, solver='lbfgs', tol=0.0001, verbose=0,\n",
              "                   warm_start=False)"
            ]
          },
          "metadata": {},
          "execution_count": 97
        }
      ]
    },
    {
      "cell_type": "code",
      "metadata": {
        "id": "4oAbbRfkqaCW",
        "colab": {
          "base_uri": "https://localhost:8080/"
        },
        "outputId": "d1c35dc5-04d6-4827-a622-33796a1de321"
      },
      "source": [
        "y_pred = logreg.predict(X_test)\n",
        "print('Accuracy of logistic regression classifier on test set: {:.2f}'.format(logreg.score(X_test, y_test)))"
      ],
      "execution_count": null,
      "outputs": [
        {
          "output_type": "stream",
          "name": "stdout",
          "text": [
            "Accuracy of logistic regression classifier on test set: 0.69\n"
          ]
        }
      ]
    },
    {
      "cell_type": "code",
      "metadata": {
        "id": "TuTZ08TUqpeI",
        "colab": {
          "base_uri": "https://localhost:8080/"
        },
        "outputId": "8f47201a-fa23-407e-f998-78e34ee41bf7"
      },
      "source": [
        "from sklearn.metrics import confusion_matrix\n",
        "confusion_matrix = confusion_matrix(y_test, y_pred)\n",
        "print(confusion_matrix)"
      ],
      "execution_count": null,
      "outputs": [
        {
          "output_type": "stream",
          "name": "stdout",
          "text": [
            "[[   0 2512]\n",
            " [   0 5639]]\n"
          ]
        }
      ]
    },
    {
      "cell_type": "code",
      "metadata": {
        "id": "MU5yvmeOuAFg",
        "colab": {
          "base_uri": "https://localhost:8080/"
        },
        "outputId": "cfb7b7f8-ac08-463d-d973-12b4b321f07b"
      },
      "source": [
        "metrics.f1_score(y_test, y_pred, average='weighted', labels=np.unique(y_pred))"
      ],
      "execution_count": null,
      "outputs": [
        {
          "output_type": "execute_result",
          "data": {
            "text/plain": [
              "0.8178390137781002"
            ]
          },
          "metadata": {},
          "execution_count": 100
        }
      ]
    }
  ]
}