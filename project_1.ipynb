{
  "nbformat": 4,
  "nbformat_minor": 0,
  "metadata": {
    "colab": {
      "name": "project_1.ipynb",
      "provenance": [],
      "collapsed_sections": [],
      "mount_file_id": "1BP3E9l7TVriFmWLhneVRBUm_DWboS4_Y",
      "authorship_tag": "ABX9TyMFpugpw0At678FIjm8qfij",
      "include_colab_link": true
    },
    "kernelspec": {
      "name": "python3",
      "display_name": "Python 3"
    },
    "language_info": {
      "name": "python"
    }
  },
  "cells": [
    {
      "cell_type": "markdown",
      "metadata": {
        "id": "view-in-github",
        "colab_type": "text"
      },
      "source": [
        "<a href=\"https://colab.research.google.com/github/Ksenia-90/probability_theory/blob/lesson_8_project/project_1.ipynb\" target=\"_parent\"><img src=\"https://colab.research.google.com/assets/colab-badge.svg\" alt=\"Open In Colab\"/></a>"
      ]
    },
    {
      "cell_type": "markdown",
      "metadata": {
        "id": "cqo43UgmcYw2"
      },
      "source": [
        "#**Курсовая работа**"
      ]
    },
    {
      "cell_type": "markdown",
      "metadata": {
        "id": "8Wnb_W-ycsbm"
      },
      "source": [
        "##**Тема: \"Анализ средней продолжительности фильма в зависимости от жанра\"**"
      ]
    },
    {
      "cell_type": "markdown",
      "metadata": {
        "id": "_cl0OWFxdkLC"
      },
      "source": [
        "Данные для исследования и анализа взяты из открытого источника: \n",
        "* https://www.imdb.com/interfaces/ \n",
        "* https://datasets.imdbws.com/"
      ]
    },
    {
      "cell_type": "code",
      "metadata": {
        "id": "6V9gwG_feKLo"
      },
      "source": [
        "import pandas as pd\n",
        "import numpy as np\n",
        "import matplotlib.pyplot as plt\n",
        "import seaborn as sns\n",
        "from scipy import stats\n",
        "from sklearn import preprocessing\n",
        "plt.rc(\"font\", size=14)\n",
        "from sklearn.linear_model import LogisticRegression\n",
        "from sklearn.model_selection import train_test_split\n",
        "sns.set(style=\"white\")\n",
        "sns.set(style=\"whitegrid\", color_codes=True)\n",
        "\n",
        "%matplotlib inline"
      ],
      "execution_count": 1,
      "outputs": []
    },
    {
      "cell_type": "code",
      "metadata": {
        "id": "5j9Fyw7yydHq"
      },
      "source": [
        "def target_genres(data, target):\n",
        "    target_genres = []\n",
        "    for genre in data:\n",
        "        tmp_list = str(genre).lower().split(',') \n",
        "        for item in tmp_list:\n",
        "            if item in target:\n",
        "                target_genres.append(str(genre))\n",
        "    return target_genres"
      ],
      "execution_count": 2,
      "outputs": []
    },
    {
      "cell_type": "code",
      "metadata": {
        "id": "JvcYOxBPKz_6"
      },
      "source": [
        "def balanset_by_column(df, column_name, values):\n",
        "    min_count = len(df)\n",
        "    for i in values:\n",
        "        res = df[df[column_name] == i].count()[column_name]\n",
        "        if res < min_count:\n",
        "            min_count = res\n",
        "    return pd.concat(map(lambda value : df.query(column_name + \" == \" + str(value)).sample(n=min_count), values))"
      ],
      "execution_count": 3,
      "outputs": []
    },
    {
      "cell_type": "code",
      "metadata": {
        "colab": {
          "base_uri": "https://localhost:8080/"
        },
        "id": "A9cpmyZwh065",
        "outputId": "1ef45163-898e-472a-9278-3fc40726600a"
      },
      "source": [
        "from google.colab import drive\n",
        "drive.mount('/content/drive')"
      ],
      "execution_count": 4,
      "outputs": [
        {
          "output_type": "stream",
          "name": "stdout",
          "text": [
            "Drive already mounted at /content/drive; to attempt to forcibly remount, call drive.mount(\"/content/drive\", force_remount=True).\n"
          ]
        }
      ]
    },
    {
      "cell_type": "code",
      "metadata": {
        "colab": {
          "base_uri": "https://localhost:8080/"
        },
        "id": "oTj7msW_dLN2",
        "outputId": "41bb6420-072c-4c58-fe48-e1432e5a2f78"
      },
      "source": [
        "titel = pd.read_csv('/content/drive/MyDrive/Colab Notebooks/title.basics.tsv.gz', sep = '\\t', encoding='utf-8' )"
      ],
      "execution_count": 5,
      "outputs": [
        {
          "output_type": "stream",
          "name": "stderr",
          "text": [
            "/usr/local/lib/python3.7/dist-packages/IPython/core/interactiveshell.py:2718: DtypeWarning: Columns (4,5) have mixed types.Specify dtype option on import or set low_memory=False.\n",
            "  interactivity=interactivity, compiler=compiler, result=result)\n"
          ]
        }
      ]
    },
    {
      "cell_type": "code",
      "metadata": {
        "colab": {
          "base_uri": "https://localhost:8080/",
          "height": 204
        },
        "id": "gziDjV2ryvHy",
        "outputId": "b4f51362-5528-4ae2-a441-e472f310ff9d"
      },
      "source": [
        "titel.head()"
      ],
      "execution_count": 6,
      "outputs": [
        {
          "output_type": "execute_result",
          "data": {
            "text/html": [
              "<div>\n",
              "<style scoped>\n",
              "    .dataframe tbody tr th:only-of-type {\n",
              "        vertical-align: middle;\n",
              "    }\n",
              "\n",
              "    .dataframe tbody tr th {\n",
              "        vertical-align: top;\n",
              "    }\n",
              "\n",
              "    .dataframe thead th {\n",
              "        text-align: right;\n",
              "    }\n",
              "</style>\n",
              "<table border=\"1\" class=\"dataframe\">\n",
              "  <thead>\n",
              "    <tr style=\"text-align: right;\">\n",
              "      <th></th>\n",
              "      <th>tconst</th>\n",
              "      <th>titleType</th>\n",
              "      <th>primaryTitle</th>\n",
              "      <th>originalTitle</th>\n",
              "      <th>isAdult</th>\n",
              "      <th>startYear</th>\n",
              "      <th>endYear</th>\n",
              "      <th>runtimeMinutes</th>\n",
              "      <th>genres</th>\n",
              "    </tr>\n",
              "  </thead>\n",
              "  <tbody>\n",
              "    <tr>\n",
              "      <th>0</th>\n",
              "      <td>tt0000001</td>\n",
              "      <td>short</td>\n",
              "      <td>Carmencita</td>\n",
              "      <td>Carmencita</td>\n",
              "      <td>0</td>\n",
              "      <td>1894</td>\n",
              "      <td>\\N</td>\n",
              "      <td>1</td>\n",
              "      <td>Documentary,Short</td>\n",
              "    </tr>\n",
              "    <tr>\n",
              "      <th>1</th>\n",
              "      <td>tt0000002</td>\n",
              "      <td>short</td>\n",
              "      <td>Le clown et ses chiens</td>\n",
              "      <td>Le clown et ses chiens</td>\n",
              "      <td>0</td>\n",
              "      <td>1892</td>\n",
              "      <td>\\N</td>\n",
              "      <td>5</td>\n",
              "      <td>Animation,Short</td>\n",
              "    </tr>\n",
              "    <tr>\n",
              "      <th>2</th>\n",
              "      <td>tt0000003</td>\n",
              "      <td>short</td>\n",
              "      <td>Pauvre Pierrot</td>\n",
              "      <td>Pauvre Pierrot</td>\n",
              "      <td>0</td>\n",
              "      <td>1892</td>\n",
              "      <td>\\N</td>\n",
              "      <td>4</td>\n",
              "      <td>Animation,Comedy,Romance</td>\n",
              "    </tr>\n",
              "    <tr>\n",
              "      <th>3</th>\n",
              "      <td>tt0000004</td>\n",
              "      <td>short</td>\n",
              "      <td>Un bon bock</td>\n",
              "      <td>Un bon bock</td>\n",
              "      <td>0</td>\n",
              "      <td>1892</td>\n",
              "      <td>\\N</td>\n",
              "      <td>12</td>\n",
              "      <td>Animation,Short</td>\n",
              "    </tr>\n",
              "    <tr>\n",
              "      <th>4</th>\n",
              "      <td>tt0000005</td>\n",
              "      <td>short</td>\n",
              "      <td>Blacksmith Scene</td>\n",
              "      <td>Blacksmith Scene</td>\n",
              "      <td>0</td>\n",
              "      <td>1893</td>\n",
              "      <td>\\N</td>\n",
              "      <td>1</td>\n",
              "      <td>Comedy,Short</td>\n",
              "    </tr>\n",
              "  </tbody>\n",
              "</table>\n",
              "</div>"
            ],
            "text/plain": [
              "      tconst titleType  ... runtimeMinutes                    genres\n",
              "0  tt0000001     short  ...              1         Documentary,Short\n",
              "1  tt0000002     short  ...              5           Animation,Short\n",
              "2  tt0000003     short  ...              4  Animation,Comedy,Romance\n",
              "3  tt0000004     short  ...             12           Animation,Short\n",
              "4  tt0000005     short  ...              1              Comedy,Short\n",
              "\n",
              "[5 rows x 9 columns]"
            ]
          },
          "metadata": {},
          "execution_count": 6
        }
      ]
    },
    {
      "cell_type": "code",
      "metadata": {
        "colab": {
          "base_uri": "https://localhost:8080/"
        },
        "id": "bHdd2LlX3NiY",
        "outputId": "a53729f7-3752-4ed5-da92-6c7eefadad67"
      },
      "source": [
        "print(titel.shape)"
      ],
      "execution_count": 7,
      "outputs": [
        {
          "output_type": "stream",
          "name": "stdout",
          "text": [
            "(8300681, 9)\n"
          ]
        }
      ]
    },
    {
      "cell_type": "code",
      "metadata": {
        "colab": {
          "base_uri": "https://localhost:8080/"
        },
        "id": "_Jl8_Ew93f49",
        "outputId": "a6ed3892-9820-4f42-d6bc-66b22d5effba"
      },
      "source": [
        "print(list(titel.columns))"
      ],
      "execution_count": 8,
      "outputs": [
        {
          "output_type": "stream",
          "name": "stdout",
          "text": [
            "['tconst', 'titleType', 'primaryTitle', 'originalTitle', 'isAdult', 'startYear', 'endYear', 'runtimeMinutes', 'genres']\n"
          ]
        }
      ]
    },
    {
      "cell_type": "markdown",
      "metadata": {
        "id": "xcrrTTto2NyR"
      },
      "source": [
        "Выдвинем 2 гипотизы:\n",
        "* Гипотеза H0: средняя продолжительность фильма не зависит от жанра\n",
        "* Гипотеза H1: средняя продолжительность фильма зависит от жанра."
      ]
    },
    {
      "cell_type": "markdown",
      "metadata": {
        "id": "BWQGaD5m5RSc"
      },
      "source": [
        "Выбирем только категорию 'Movie'"
      ]
    },
    {
      "cell_type": "code",
      "metadata": {
        "colab": {
          "base_uri": "https://localhost:8080/"
        },
        "id": "aUPvLktF6HpZ",
        "outputId": "f25c1e69-b131-4d14-87e8-98965240afdb"
      },
      "source": [
        "title_types = titel.titleType.unique()\n",
        "print(title_types)"
      ],
      "execution_count": 9,
      "outputs": [
        {
          "output_type": "stream",
          "name": "stdout",
          "text": [
            "['short' 'movie' 'tvEpisode' 'tvSeries' 'tvShort' 'tvMovie' 'tvMiniSeries'\n",
            " 'tvSpecial' 'video' 'videoGame' 'radioEpisode' 'tvPilot']\n"
          ]
        }
      ]
    },
    {
      "cell_type": "code",
      "metadata": {
        "colab": {
          "base_uri": "https://localhost:8080/",
          "height": 221
        },
        "id": "kCRhr5qC6YDS",
        "outputId": "6476e5b3-d0b1-4603-f752-d24104dd9e0e"
      },
      "source": [
        "movies = titel[titel.titleType == 'movie']\n",
        "print(movies.shape)\n",
        "movies.head()\n"
      ],
      "execution_count": 10,
      "outputs": [
        {
          "output_type": "stream",
          "name": "stdout",
          "text": [
            "(589259, 9)\n"
          ]
        },
        {
          "output_type": "execute_result",
          "data": {
            "text/html": [
              "<div>\n",
              "<style scoped>\n",
              "    .dataframe tbody tr th:only-of-type {\n",
              "        vertical-align: middle;\n",
              "    }\n",
              "\n",
              "    .dataframe tbody tr th {\n",
              "        vertical-align: top;\n",
              "    }\n",
              "\n",
              "    .dataframe thead th {\n",
              "        text-align: right;\n",
              "    }\n",
              "</style>\n",
              "<table border=\"1\" class=\"dataframe\">\n",
              "  <thead>\n",
              "    <tr style=\"text-align: right;\">\n",
              "      <th></th>\n",
              "      <th>tconst</th>\n",
              "      <th>titleType</th>\n",
              "      <th>primaryTitle</th>\n",
              "      <th>originalTitle</th>\n",
              "      <th>isAdult</th>\n",
              "      <th>startYear</th>\n",
              "      <th>endYear</th>\n",
              "      <th>runtimeMinutes</th>\n",
              "      <th>genres</th>\n",
              "    </tr>\n",
              "  </thead>\n",
              "  <tbody>\n",
              "    <tr>\n",
              "      <th>498</th>\n",
              "      <td>tt0000502</td>\n",
              "      <td>movie</td>\n",
              "      <td>Bohemios</td>\n",
              "      <td>Bohemios</td>\n",
              "      <td>0</td>\n",
              "      <td>1905</td>\n",
              "      <td>\\N</td>\n",
              "      <td>100</td>\n",
              "      <td>\\N</td>\n",
              "    </tr>\n",
              "    <tr>\n",
              "      <th>570</th>\n",
              "      <td>tt0000574</td>\n",
              "      <td>movie</td>\n",
              "      <td>The Story of the Kelly Gang</td>\n",
              "      <td>The Story of the Kelly Gang</td>\n",
              "      <td>0</td>\n",
              "      <td>1906</td>\n",
              "      <td>\\N</td>\n",
              "      <td>70</td>\n",
              "      <td>Action,Adventure,Biography</td>\n",
              "    </tr>\n",
              "    <tr>\n",
              "      <th>587</th>\n",
              "      <td>tt0000591</td>\n",
              "      <td>movie</td>\n",
              "      <td>The Prodigal Son</td>\n",
              "      <td>L'enfant prodigue</td>\n",
              "      <td>0</td>\n",
              "      <td>1907</td>\n",
              "      <td>\\N</td>\n",
              "      <td>90</td>\n",
              "      <td>Drama</td>\n",
              "    </tr>\n",
              "    <tr>\n",
              "      <th>610</th>\n",
              "      <td>tt0000615</td>\n",
              "      <td>movie</td>\n",
              "      <td>Robbery Under Arms</td>\n",
              "      <td>Robbery Under Arms</td>\n",
              "      <td>0</td>\n",
              "      <td>1907</td>\n",
              "      <td>\\N</td>\n",
              "      <td>\\N</td>\n",
              "      <td>Drama</td>\n",
              "    </tr>\n",
              "    <tr>\n",
              "      <th>625</th>\n",
              "      <td>tt0000630</td>\n",
              "      <td>movie</td>\n",
              "      <td>Hamlet</td>\n",
              "      <td>Amleto</td>\n",
              "      <td>0</td>\n",
              "      <td>1908</td>\n",
              "      <td>\\N</td>\n",
              "      <td>\\N</td>\n",
              "      <td>Drama</td>\n",
              "    </tr>\n",
              "  </tbody>\n",
              "</table>\n",
              "</div>"
            ],
            "text/plain": [
              "        tconst titleType  ... runtimeMinutes                      genres\n",
              "498  tt0000502     movie  ...            100                          \\N\n",
              "570  tt0000574     movie  ...             70  Action,Adventure,Biography\n",
              "587  tt0000591     movie  ...             90                       Drama\n",
              "610  tt0000615     movie  ...             \\N                       Drama\n",
              "625  tt0000630     movie  ...             \\N                       Drama\n",
              "\n",
              "[5 rows x 9 columns]"
            ]
          },
          "metadata": {},
          "execution_count": 10
        }
      ]
    },
    {
      "cell_type": "code",
      "metadata": {
        "id": "1bxoNPokBzhh"
      },
      "source": [
        "#удалим записи которые содержат NaN\n",
        "movies = movies.dropna()\n",
        "movies = movies[movies.runtimeMinutes != '\\\\N']\n",
        "movies['runtimeMinutes'] = movies['runtimeMinutes'].apply(lambda x: int(x))\n",
        "movies = movies[movies.genres != '\\\\N']"
      ],
      "execution_count": 11,
      "outputs": []
    },
    {
      "cell_type": "code",
      "metadata": {
        "id": "EN0ad0dpVrHL"
      },
      "source": [
        "#удаляем колонки котрые в данном расчете для нас не значимы.\n",
        "movies.drop(movies.columns [[3,4, 5, 6]], axis = 1, inplace = True)"
      ],
      "execution_count": 12,
      "outputs": []
    },
    {
      "cell_type": "code",
      "metadata": {
        "id": "mg1Onhv3OyPl"
      },
      "source": [
        ""
      ],
      "execution_count": 12,
      "outputs": []
    },
    {
      "cell_type": "code",
      "metadata": {
        "colab": {
          "base_uri": "https://localhost:8080/",
          "height": 204
        },
        "id": "J0kWGpzJgbF9",
        "outputId": "205a5812-ee6f-4e69-821a-c639b445e4b0"
      },
      "source": [
        "# выберем только те фильмы, продолжительность которых от 90 до 240 минут.\n",
        "movies = movies[(movies.runtimeMinutes > 89) & (movies.runtimeMinutes < 241)]\n",
        "movies.head()"
      ],
      "execution_count": 13,
      "outputs": [
        {
          "output_type": "execute_result",
          "data": {
            "text/html": [
              "<div>\n",
              "<style scoped>\n",
              "    .dataframe tbody tr th:only-of-type {\n",
              "        vertical-align: middle;\n",
              "    }\n",
              "\n",
              "    .dataframe tbody tr th {\n",
              "        vertical-align: top;\n",
              "    }\n",
              "\n",
              "    .dataframe thead th {\n",
              "        text-align: right;\n",
              "    }\n",
              "</style>\n",
              "<table border=\"1\" class=\"dataframe\">\n",
              "  <thead>\n",
              "    <tr style=\"text-align: right;\">\n",
              "      <th></th>\n",
              "      <th>tconst</th>\n",
              "      <th>titleType</th>\n",
              "      <th>primaryTitle</th>\n",
              "      <th>runtimeMinutes</th>\n",
              "      <th>genres</th>\n",
              "    </tr>\n",
              "  </thead>\n",
              "  <tbody>\n",
              "    <tr>\n",
              "      <th>587</th>\n",
              "      <td>tt0000591</td>\n",
              "      <td>movie</td>\n",
              "      <td>The Prodigal Son</td>\n",
              "      <td>90</td>\n",
              "      <td>Drama</td>\n",
              "    </tr>\n",
              "    <tr>\n",
              "      <th>672</th>\n",
              "      <td>tt0000679</td>\n",
              "      <td>movie</td>\n",
              "      <td>The Fairylogue and Radio-Plays</td>\n",
              "      <td>120</td>\n",
              "      <td>Adventure,Fantasy</td>\n",
              "    </tr>\n",
              "    <tr>\n",
              "      <th>2076</th>\n",
              "      <td>tt0002101</td>\n",
              "      <td>movie</td>\n",
              "      <td>Cleopatra</td>\n",
              "      <td>100</td>\n",
              "      <td>Drama,History</td>\n",
              "    </tr>\n",
              "    <tr>\n",
              "      <th>2418</th>\n",
              "      <td>tt0002445</td>\n",
              "      <td>movie</td>\n",
              "      <td>Quo Vadis?</td>\n",
              "      <td>120</td>\n",
              "      <td>Drama,History</td>\n",
              "    </tr>\n",
              "    <tr>\n",
              "      <th>2425</th>\n",
              "      <td>tt0002452</td>\n",
              "      <td>movie</td>\n",
              "      <td>The Independence of Romania</td>\n",
              "      <td>120</td>\n",
              "      <td>History,War</td>\n",
              "    </tr>\n",
              "  </tbody>\n",
              "</table>\n",
              "</div>"
            ],
            "text/plain": [
              "         tconst titleType  ... runtimeMinutes             genres\n",
              "587   tt0000591     movie  ...             90              Drama\n",
              "672   tt0000679     movie  ...            120  Adventure,Fantasy\n",
              "2076  tt0002101     movie  ...            100      Drama,History\n",
              "2418  tt0002445     movie  ...            120      Drama,History\n",
              "2425  tt0002452     movie  ...            120        History,War\n",
              "\n",
              "[5 rows x 5 columns]"
            ]
          },
          "metadata": {},
          "execution_count": 13
        }
      ]
    },
    {
      "cell_type": "code",
      "metadata": {
        "colab": {
          "base_uri": "https://localhost:8080/"
        },
        "id": "7xWVRgLChG-S",
        "outputId": "17df594f-1cce-4d42-dffa-358db9a2ca6d"
      },
      "source": [
        "genres = tuple(movies.genres.unique())\n",
        "print(genres[:25])"
      ],
      "execution_count": 14,
      "outputs": [
        {
          "output_type": "stream",
          "name": "stdout",
          "text": [
            "('Drama', 'Adventure,Fantasy', 'Drama,History', 'History,War', 'Crime,Drama,Mystery', 'Biography,Drama,History', 'Adventure,Drama,History', 'Crime,Drama', 'Action', 'Action,Adventure,Biography', 'Action,Adventure,Drama', 'Drama,Western', 'Drama,History,War', 'Drama,Sci-Fi', 'Crime,Drama,Horror', 'Documentary,War', 'Comedy', 'Action,Adventure,Sci-Fi', 'Documentary', 'Drama,History,Romance', 'Action,Drama,War', 'Adventure', 'Mystery', 'History', 'Adventure,Fantasy,Sci-Fi')\n"
          ]
        }
      ]
    },
    {
      "cell_type": "code",
      "metadata": {
        "id": "3AGK8KygJftD"
      },
      "source": [
        "columns = ['tconst', 'primaryTitle', 'runtimeMinutes', 'genres']\n",
        "\n",
        "fantasy_genres = target_genres(data=genres, target=('fantasy'))\n",
        "fantasy_movies = movies[movies.genres.isin(fantasy_genres)].loc[:, columns].reset_index(drop=True)\n",
        "\n",
        "horror_genres = target_genres(data=genres, target=('horror'))\n",
        "horror_movies = movies[movies.genres.isin(horror_genres)].loc[:, columns].reset_index(drop=True)\n",
        "\n",
        "action_genres = target_genres(data=genres, target=('action'))\n",
        "action_movies = movies[movies.genres.isin(action_genres)].loc[:, columns].reset_index(drop=True)"
      ],
      "execution_count": 15,
      "outputs": []
    },
    {
      "cell_type": "code",
      "metadata": {
        "id": "AsNdku63KJCo"
      },
      "source": [
        "fantasy = tuple(set(fantasy_movies.tconst) - set(horror_movies.tconst) - set(action_movies.tconst))\n",
        "horror = tuple(set(horror_movies.tconst) - set(fantasy_movies.tconst) - set(action_movies.tconst))\n",
        "action = tuple(set(action_movies.tconst) - set(fantasy_movies.tconst) - set(horror_movies.tconst))"
      ],
      "execution_count": 16,
      "outputs": []
    },
    {
      "cell_type": "markdown",
      "metadata": {
        "id": "JgqhXrk_YnA3"
      },
      "source": [
        "Очистим жанры выбрав один тип"
      ]
    },
    {
      "cell_type": "code",
      "metadata": {
        "id": "dSpg2sXTKfMv"
      },
      "source": [
        "fantasy_only = fantasy_movies[fantasy_movies.tconst.isin(fantasy)].reset_index(drop=True)\n",
        "fantasy_only['genres'] = 'fantasy'\n",
        "\n",
        "horror_only = horror_movies[horror_movies.tconst.isin(horror)].reset_index(drop=True)\n",
        "horror_only['genres'] = 'horror'\n",
        "\n",
        "action_only = action_movies[action_movies.tconst.isin(action)].reset_index(drop=True)\n",
        "action_only['genres'] = 'action'"
      ],
      "execution_count": 17,
      "outputs": []
    },
    {
      "cell_type": "code",
      "metadata": {
        "colab": {
          "base_uri": "https://localhost:8080/"
        },
        "id": "GXf8OOzmLkS9",
        "outputId": "67ab8c3a-4978-4868-d0c9-9706eb257a4a"
      },
      "source": [
        "print(f'fantasy_only  =  {fantasy_only.shape[0]}')\n",
        "print(f'horror_only =  {horror_only.shape[0]}')\n",
        "print(f'action_only  = {action_only.shape[0]}')"
      ],
      "execution_count": 18,
      "outputs": [
        {
          "output_type": "stream",
          "name": "stdout",
          "text": [
            "fantasy_only  =  3815\n",
            "horror_only =  8392\n",
            "action_only  = 18776\n"
          ]
        }
      ]
    },
    {
      "cell_type": "markdown",
      "metadata": {
        "id": "RDFvw8VsQZmg"
      },
      "source": [
        "Возьмем из каждой группы по 3000 наблюдений."
      ]
    },
    {
      "cell_type": "code",
      "metadata": {
        "id": "YdS97Qr4QYi3"
      },
      "source": [
        "n_sample = 3000\n",
        "\n",
        "y_fantasy = fantasy_only.sample(n=n_sample, random_state=42).runtimeMinutes.values\n",
        "y_horror= horror_only.sample(n=n_sample, random_state=42).runtimeMinutes.values\n",
        "y_action = action_only.sample(n=n_sample, random_state=42).runtimeMinutes.values"
      ],
      "execution_count": 19,
      "outputs": []
    },
    {
      "cell_type": "code",
      "metadata": {
        "colab": {
          "base_uri": "https://localhost:8080/"
        },
        "id": "B_EK9aD1Tbdq",
        "outputId": "62133156-228c-4af0-9e7e-87d0f005e8c3"
      },
      "source": [
        "y_fantasy_mean = y_fantasy.mean()\n",
        "y_horror_mean = y_horror.mean()\n",
        "y_action_mean = y_action.mean()\n",
        "print(f'Cреднее значение:') \n",
        "print(f'y_fantasy_mean = {np.round(y_fantasy_mean, 3)}')\n",
        "print(f'y_horror_mean =  {np.round(y_horror_mean, 3)}')\n",
        "print(f'y_action_mean   =  {np.round(y_action_mean, 3)}')"
      ],
      "execution_count": 20,
      "outputs": [
        {
          "output_type": "stream",
          "name": "stdout",
          "text": [
            "Cреднее значение:\n",
            "y_fantasy_mean = 106.495\n",
            "y_horror_mean =  100.802\n",
            "y_action_mean   =  111.868\n"
          ]
        }
      ]
    },
    {
      "cell_type": "code",
      "metadata": {
        "colab": {
          "base_uri": "https://localhost:8080/"
        },
        "id": "i9BTIAwzWZIS",
        "outputId": "66799079-681d-47b2-9758-b35c1075684e"
      },
      "source": [
        "films = np.concatenate([y_fantasy, y_horror, y_action])\n",
        "films_mean = np.mean(films)\n",
        "print(f'Cреднее значение общее {np.round(films_mean, 3)}')"
      ],
      "execution_count": 21,
      "outputs": [
        {
          "output_type": "stream",
          "name": "stdout",
          "text": [
            "Cреднее значение общее 106.388\n"
          ]
        }
      ]
    },
    {
      "cell_type": "code",
      "metadata": {
        "colab": {
          "base_uri": "https://localhost:8080/"
        },
        "id": "mUkJrzkraawn",
        "outputId": "a76dc439-bdde-42ab-9dc8-dbe809dd56ae"
      },
      "source": [
        "n_1 = len(y_fantasy)\n",
        "n_2 = len(y_horror)\n",
        "n_3 = len(y_action)\n",
        "\n",
        "n = n_1 + n_2 + n_3\n",
        "k = 3\n",
        "\n",
        "print(f'Общее значение: {n}')"
      ],
      "execution_count": 22,
      "outputs": [
        {
          "output_type": "stream",
          "name": "stdout",
          "text": [
            "Общее значение: 9000\n"
          ]
        }
      ]
    },
    {
      "cell_type": "code",
      "metadata": {
        "colab": {
          "base_uri": "https://localhost:8080/"
        },
        "id": "SZTRpfn0sw9d",
        "outputId": "c3cc4cc1-84b4-4036-9093-f6ea2fe01b6f"
      },
      "source": [
        "S2_b = n_1 * (y_fantasy_mean - films_mean) ** 2 + n_2 * (y_horror_mean - films_mean) ** 2 + n_3 * (y_action_mean - films_mean) ** 2\n",
        "print(f'S2_b = {np.round(S2_b, 3)}')"
      ],
      "execution_count": 23,
      "outputs": [
        {
          "output_type": "stream",
          "name": "stdout",
          "text": [
            "S2_b = 183758.08\n"
          ]
        }
      ]
    },
    {
      "cell_type": "code",
      "metadata": {
        "colab": {
          "base_uri": "https://localhost:8080/"
        },
        "id": "HU_VAF4PtWtZ",
        "outputId": "f91aad0a-661a-4bbe-ca0c-874c44459e99"
      },
      "source": [
        "S2_w = ((y_fantasy - y_fantasy_mean)**2).sum() + ((y_horror - y_horror_mean) ** 2).sum() + ((y_action - y_action_mean) ** 2).sum()\n",
        "print(f'S2_w = {np.round(S2_w, 3)}')"
      ],
      "execution_count": 24,
      "outputs": [
        {
          "output_type": "stream",
          "name": "stdout",
          "text": [
            "S2_w = 3319831.918\n"
          ]
        }
      ]
    },
    {
      "cell_type": "code",
      "metadata": {
        "colab": {
          "base_uri": "https://localhost:8080/"
        },
        "id": "wAP6LlGjtw8q",
        "outputId": "2885a099-a3ff-49df-cce9-3a3e2ecbdec9"
      },
      "source": [
        "S2_b + S2_w, ((films - films_mean) ** 2).sum()"
      ],
      "execution_count": 25,
      "outputs": [
        {
          "output_type": "execute_result",
          "data": {
            "text/plain": [
              "(3503589.9982222226, 3503589.998222222)"
            ]
          },
          "metadata": {},
          "execution_count": 25
        }
      ]
    },
    {
      "cell_type": "code",
      "metadata": {
        "colab": {
          "base_uri": "https://localhost:8080/"
        },
        "id": "JeudzP2MuYeB",
        "outputId": "7cb5bb74-cf3e-4647-81ad-11ea969059a8"
      },
      "source": [
        "k = 3\n",
        "n = n_1 + n_2 + n_3\n",
        "k_1 = k-1\n",
        "k_2 = n - k\n",
        "k_1, k_2, n"
      ],
      "execution_count": 26,
      "outputs": [
        {
          "output_type": "execute_result",
          "data": {
            "text/plain": [
              "(2, 8997, 9000)"
            ]
          },
          "metadata": {},
          "execution_count": 26
        }
      ]
    },
    {
      "cell_type": "code",
      "metadata": {
        "colab": {
          "base_uri": "https://localhost:8080/"
        },
        "id": "xuz-xk8eucFj",
        "outputId": "29119678-d24b-49a3-d66c-dbc3d7bab0a6"
      },
      "source": [
        "sigma2_b = S2_b / (k - 1)\n",
        "sigma2_w = S2_w / (n - k)\n",
        "\n",
        "sigma2_b, sigma2_w"
      ],
      "execution_count": 27,
      "outputs": [
        {
          "output_type": "execute_result",
          "data": {
            "text/plain": [
              "(91879.04011111129, 368.99321084806047)"
            ]
          },
          "metadata": {},
          "execution_count": 27
        }
      ]
    },
    {
      "cell_type": "code",
      "metadata": {
        "colab": {
          "base_uri": "https://localhost:8080/"
        },
        "id": "1FqpfHbAuhUT",
        "outputId": "f1c1da3c-4f6f-4f9d-b52e-e78f109a555f"
      },
      "source": [
        "T = sigma2_b / sigma2_w\n",
        "T"
      ],
      "execution_count": 28,
      "outputs": [
        {
          "output_type": "execute_result",
          "data": {
            "text/plain": [
              "248.99926993221595"
            ]
          },
          "metadata": {},
          "execution_count": 28
        }
      ]
    },
    {
      "cell_type": "code",
      "metadata": {
        "colab": {
          "base_uri": "https://localhost:8080/"
        },
        "id": "nMiDNuV1ukNr",
        "outputId": "7a868eec-aead-46f8-e10c-387b791ea10f"
      },
      "source": [
        "alpha = 0.05\n",
        "F_crit = stats.f.ppf(1 - alpha, (k - 1), (n - k))\n",
        "F_crit"
      ],
      "execution_count": 29,
      "outputs": [
        {
          "output_type": "execute_result",
          "data": {
            "text/plain": [
              "2.9967299843896065"
            ]
          },
          "metadata": {},
          "execution_count": 29
        }
      ]
    },
    {
      "cell_type": "code",
      "metadata": {
        "colab": {
          "base_uri": "https://localhost:8080/"
        },
        "id": "Q6uaUzxFumt2",
        "outputId": "1e09ce34-0df5-4c29-e38b-433d12c723eb"
      },
      "source": [
        "p = 1 - stats.f.cdf(T, k_1,k_2)\n",
        "p"
      ],
      "execution_count": 30,
      "outputs": [
        {
          "output_type": "execute_result",
          "data": {
            "text/plain": [
              "1.1102230246251565e-16"
            ]
          },
          "metadata": {},
          "execution_count": 30
        }
      ]
    },
    {
      "cell_type": "markdown",
      "metadata": {
        "id": "Q44nDl0YvMog"
      },
      "source": [
        "**Вывод:Согласно проведенному анализу мы принимаем гипотизу Н1: средняя продолжительность фильма зависит от жанра, для фильмов во времееной категории от 90-240 мин. и жанров фантаза, ужасы, боевик.**"
      ]
    },
    {
      "cell_type": "markdown",
      "metadata": {
        "id": "18ykerZUwcRe"
      },
      "source": [
        "#**Проведем анализ с помощью логистической регресси.**\n",
        "Создадим очишенный датасет в котором содержатся только фильмы 2 жанров (horror и action) с продолжительностью от 90 до 240 минут."
      ]
    },
    {
      "cell_type": "code",
      "metadata": {
        "id": "0BYaotVP0mgm"
      },
      "source": [
        "movies_df = pd.concat([horror_only, action_only])"
      ],
      "execution_count": 31,
      "outputs": []
    },
    {
      "cell_type": "code",
      "metadata": {
        "colab": {
          "base_uri": "https://localhost:8080/",
          "height": 204
        },
        "id": "OM0dUnFE1DLA",
        "outputId": "392fb78d-6144-45ee-cb46-c07b0ecef1d0"
      },
      "source": [
        "movies_df.head()"
      ],
      "execution_count": 32,
      "outputs": [
        {
          "output_type": "execute_result",
          "data": {
            "text/html": [
              "<div>\n",
              "<style scoped>\n",
              "    .dataframe tbody tr th:only-of-type {\n",
              "        vertical-align: middle;\n",
              "    }\n",
              "\n",
              "    .dataframe tbody tr th {\n",
              "        vertical-align: top;\n",
              "    }\n",
              "\n",
              "    .dataframe thead th {\n",
              "        text-align: right;\n",
              "    }\n",
              "</style>\n",
              "<table border=\"1\" class=\"dataframe\">\n",
              "  <thead>\n",
              "    <tr style=\"text-align: right;\">\n",
              "      <th></th>\n",
              "      <th>tconst</th>\n",
              "      <th>primaryTitle</th>\n",
              "      <th>runtimeMinutes</th>\n",
              "      <th>genres</th>\n",
              "    </tr>\n",
              "  </thead>\n",
              "  <tbody>\n",
              "    <tr>\n",
              "      <th>0</th>\n",
              "      <td>tt0005529</td>\n",
              "      <td>Blind Justice</td>\n",
              "      <td>100</td>\n",
              "      <td>horror</td>\n",
              "    </tr>\n",
              "    <tr>\n",
              "      <th>1</th>\n",
              "      <td>tt0010307</td>\n",
              "      <td>J'accuse!</td>\n",
              "      <td>166</td>\n",
              "      <td>horror</td>\n",
              "    </tr>\n",
              "    <tr>\n",
              "      <th>2</th>\n",
              "      <td>tt0010502</td>\n",
              "      <td>Nachtgestalten</td>\n",
              "      <td>106</td>\n",
              "      <td>horror</td>\n",
              "    </tr>\n",
              "    <tr>\n",
              "      <th>3</th>\n",
              "      <td>tt0010559</td>\n",
              "      <td>Die Pest in Florenz</td>\n",
              "      <td>92</td>\n",
              "      <td>horror</td>\n",
              "    </tr>\n",
              "    <tr>\n",
              "      <th>4</th>\n",
              "      <td>tt0011318</td>\n",
              "      <td>Der Hund von Baskerville - 6. Teil: Das Haus o...</td>\n",
              "      <td>157</td>\n",
              "      <td>horror</td>\n",
              "    </tr>\n",
              "  </tbody>\n",
              "</table>\n",
              "</div>"
            ],
            "text/plain": [
              "      tconst  ...  genres\n",
              "0  tt0005529  ...  horror\n",
              "1  tt0010307  ...  horror\n",
              "2  tt0010502  ...  horror\n",
              "3  tt0010559  ...  horror\n",
              "4  tt0011318  ...  horror\n",
              "\n",
              "[5 rows x 4 columns]"
            ]
          },
          "metadata": {},
          "execution_count": 32
        }
      ]
    },
    {
      "cell_type": "code",
      "metadata": {
        "id": "HhVj1yHE2Ein"
      },
      "source": [
        "movies_df['genres'] = movies_df['genres'].replace({'horror': 1, 'action': 0})"
      ],
      "execution_count": 33,
      "outputs": []
    },
    {
      "cell_type": "code",
      "metadata": {
        "colab": {
          "base_uri": "https://localhost:8080/",
          "height": 302
        },
        "id": "FeloBk6RRC0T",
        "outputId": "a4b80c3d-fa7a-4233-9a0e-0100d14cea27"
      },
      "source": [
        "sns.countplot (x='genres', data = movies_df, palette = 'hls')\n",
        "plt.show()\n",
        "plt.savefig('count-plot')"
      ],
      "execution_count": 34,
      "outputs": [
        {
          "output_type": "display_data",
          "data": {
            "image/png": "[encoded data removed]",
            "text/plain": [
              "<Figure size 432x288 with 1 Axes>"
            ]
          },
          "metadata": {
            "needs_background": "light"
          }
        },
        {
          "output_type": "display_data",
          "data": {
            "text/plain": [
              "<Figure size 432x288 with 0 Axes>"
            ]
          },
          "metadata": {}
        }
      ]
    },
    {
      "cell_type": "code",
      "metadata": {
        "colab": {
          "base_uri": "https://localhost:8080/"
        },
        "id": "096hIhJuSrpx",
        "outputId": "daaf6e33-427f-4f6f-c016-c4aca303eb13"
      },
      "source": [
        "count_action = len(movies_df[movies_df['genres']==1])\n",
        "count_horror = len(movies_df[movies_df['genres']==0])\n",
        "pct_action = count_action/(count_action+count_horror)\n",
        "print(\"percentage action\", pct_action*100)\n",
        "pct_horror = count_horror/(count_action+count_horror)\n",
        "print(\"percentage horror\", pct_horror*100)"
      ],
      "execution_count": 35,
      "outputs": [
        {
          "output_type": "stream",
          "name": "stdout",
          "text": [
            "percentage action 30.889281507656065\n",
            "percentage horror 69.11071849234393\n"
          ]
        }
      ]
    },
    {
      "cell_type": "code",
      "metadata": {
        "id": "4eGpc1N3iSQ6"
      },
      "source": [
        "movies_df.drop(movies_df.columns [[0,1]], axis = 1, inplace = True)"
      ],
      "execution_count": 36,
      "outputs": []
    },
    {
      "cell_type": "code",
      "metadata": {
        "colab": {
          "base_uri": "https://localhost:8080/"
        },
        "id": "ccoNcF2aZ1sA",
        "outputId": "18d3e2b0-dc6c-41ca-fbed-7d42dc053124"
      },
      "source": [
        "y = movies_df['genres']\n",
        "X = movies_df.drop('genres', axis=1)\n",
        "X_train, X_test, y_train, y_test = train_test_split(X, y, shuffle=True, test_size=0.3, random_state=21)\n",
        "X_train.shape, X_test.shape, y_train.shape, y_test.shape"
      ],
      "execution_count": 37,
      "outputs": [
        {
          "output_type": "execute_result",
          "data": {
            "text/plain": [
              "((19017, 1), (8151, 1), (19017,), (8151,))"
            ]
          },
          "metadata": {},
          "execution_count": 37
        }
      ]
    },
    {
      "cell_type": "code",
      "metadata": {
        "id": "odTFXBNxy9Xw"
      },
      "source": [
        "df_balanc = pd.concat([X_train, y_train], axis=1)\n",
        "df_balanc.head()\n",
        "\n",
        "df_balanced = balanset_by_column(df_balanc, 'genres', [1,0])"
      ],
      "execution_count": 38,
      "outputs": []
    },
    {
      "cell_type": "code",
      "metadata": {
        "colab": {
          "base_uri": "https://localhost:8080/"
        },
        "id": "qYuhKFoBkFEo",
        "outputId": "d295041b-aad5-47cc-f8ad-5142be6e10ed"
      },
      "source": [
        "import statsmodels.api as sm\n",
        "logit_model=sm.Logit(y,X)\n",
        "result=logit_model.fit()\n",
        "print(result.summary2())"
      ],
      "execution_count": 39,
      "outputs": [
        {
          "output_type": "stream",
          "name": "stderr",
          "text": [
            "/usr/local/lib/python3.7/dist-packages/statsmodels/tools/_testing.py:19: FutureWarning: pandas.util.testing is deprecated. Use the functions in the public API at pandas.testing instead.\n",
            "  import pandas.util.testing as tm\n"
          ]
        },
        {
          "output_type": "stream",
          "name": "stdout",
          "text": [
            "Optimization terminated successfully.\n",
            "         Current function value: 0.602352\n",
            "         Iterations 4\n",
            "                         Results: Logit\n",
            "=================================================================\n",
            "Model:              Logit            Pseudo R-squared: 0.026     \n",
            "Dependent Variable: genres           AIC:              32731.4251\n",
            "Date:               2021-10-08 18:52 BIC:              32739.6349\n",
            "No. Observations:   27168            Log-Likelihood:   -16365.   \n",
            "Df Model:           0                LL-Null:          -16796.   \n",
            "Df Residuals:       27167            LLR p-value:      nan       \n",
            "Converged:          1.0000           Scale:            1.0000    \n",
            "No. Iterations:     4.0000                                       \n",
            "-----------------------------------------------------------------\n",
            "                  Coef.  Std.Err.    z     P>|z|   [0.025  0.975]\n",
            "-----------------------------------------------------------------\n",
            "runtimeMinutes   -0.0081   0.0001 -66.3495 0.0000 -0.0084 -0.0079\n",
            "=================================================================\n",
            "\n"
          ]
        }
      ]
    },
    {
      "cell_type": "code",
      "metadata": {
        "id": "QC63-PvTp5gA",
        "colab": {
          "base_uri": "https://localhost:8080/"
        },
        "outputId": "f74ff708-de18-4982-bd5d-9270a0606ed8"
      },
      "source": [
        "from sklearn.linear_model import LogisticRegression\n",
        "from sklearn import metrics\n",
        "\n",
        "X_train, X_test, y_train, y_test = train_test_split(X, y, test_size=0.3, random_state=0)\n",
        "logreg = LogisticRegression()\n",
        "logreg.fit(X_train, y_train)"
      ],
      "execution_count": 40,
      "outputs": [
        {
          "output_type": "execute_result",
          "data": {
            "text/plain": [
              "LogisticRegression(C=1.0, class_weight=None, dual=False, fit_intercept=True,\n",
              "                   intercept_scaling=1, l1_ratio=None, max_iter=100,\n",
              "                   multi_class='auto', n_jobs=None, penalty='l2',\n",
              "                   random_state=None, solver='lbfgs', tol=0.0001, verbose=0,\n",
              "                   warm_start=False)"
            ]
          },
          "metadata": {},
          "execution_count": 40
        }
      ]
    },
    {
      "cell_type": "code",
      "metadata": {
        "id": "4oAbbRfkqaCW",
        "colab": {
          "base_uri": "https://localhost:8080/"
        },
        "outputId": "36ea56ca-4fab-4ad4-b2c9-4acedcec7683"
      },
      "source": [
        "y_pred = logreg.predict(X_test)\n",
        "print('Accuracy of logistic regression classifier on test set: {:.2f}'.format(logreg.score(X_test, y_test)))"
      ],
      "execution_count": 41,
      "outputs": [
        {
          "output_type": "stream",
          "name": "stdout",
          "text": [
            "Accuracy of logistic regression classifier on test set: 0.69\n"
          ]
        }
      ]
    },
    {
      "cell_type": "code",
      "metadata": {
        "id": "MU5yvmeOuAFg",
        "colab": {
          "base_uri": "https://localhost:8080/"
        },
        "outputId": "4d335300-4a7f-4817-9f70-acc9963b2841"
      },
      "source": [
        "metrics.f1_score(y_test, y_pred, average='weighted', labels=np.unique(y_pred))"
      ],
      "execution_count": 42,
      "outputs": [
        {
          "output_type": "execute_result",
          "data": {
            "text/plain": [
              "0.8178390137781002"
            ]
          },
          "metadata": {},
          "execution_count": 42
        }
      ]
    },
    {
      "cell_type": "markdown",
      "metadata": {
        "id": "hkS-bb5hPSdD"
      },
      "source": [
        "**Вывод:Согласно проведенному анализу мы принимаем гипотизу Н1: средняя продолжительность фильма зависит от жанра, для фильмов во времееной категории от 90-240 мин. и жанров ужасы, боевик.**"
      ]
    }
  ]
}