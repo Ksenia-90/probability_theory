{
  "nbformat": 4,
  "nbformat_minor": 0,
  "metadata": {
    "colab": {
      "name": "lesson_6.ipynb",
      "provenance": [],
      "collapsed_sections": [],
      "authorship_tag": "ABX9TyNDWG27+c131diVyQR93LIE",
      "include_colab_link": true
    },
    "kernelspec": {
      "name": "python3",
      "display_name": "Python 3"
    },
    "language_info": {
      "name": "python"
    }
  },
  "cells": [
    {
      "cell_type": "markdown",
      "metadata": {
        "id": "view-in-github",
        "colab_type": "text"
      },
      "source": [
        "<a href=\"https://colab.research.google.com/github/Ksenia-90/probability_theory/blob/lesson_6_1/lesson_6.ipynb\" target=\"_parent\"><img src=\"https://colab.research.google.com/assets/colab-badge.svg\" alt=\"Open In Colab\"/></a>"
      ]
    },
    {
      "cell_type": "markdown",
      "metadata": {
        "id": "hF4jwZN1NeYO"
      },
      "source": [
        "##**Урок 6. Взаимосвязь величин. Параметрические и непараметрические показатели корреляции. Корреляционный анализ**.##"
      ]
    },
    {
      "cell_type": "code",
      "metadata": {
        "id": "MaXciD_3MEYb"
      },
      "source": [
        "from scipy import stats\n",
        "import numpy as np\n",
        "import pandas as pd"
      ],
      "execution_count": null,
      "outputs": []
    },
    {
      "cell_type": "markdown",
      "metadata": {
        "id": "Xe8vDa1aNmi1"
      },
      "source": [
        "**Задача 1**\n",
        "\n",
        "Даны значения величины заработной платы заемщиков банка (salary) и значения их поведенческого кредитного скоринга (scoring):\n",
        "\n",
        "* salary = [35, 45, 190, 200, 40, 70, 54, 150, 120, 110]\n",
        "* scoring = [401, 574, 874, 919, 459, 739, 653, 902, 746, 832]\n",
        "\n",
        "1. Найдите ковариацию этих двух величин: сначала без использования специальных функций, а затем с помощью функции numpy.cov. Полученные значения должны быть равны.\n",
        "2. Найдите коэффициент корреляции Пирсона: с помощью ковариации и средних квадратических отклонений двух признаков, а затем с помощью специальных функций из библиотек numpy и pandas."
      ]
    },
    {
      "cell_type": "code",
      "metadata": {
        "id": "O2Wd6F7Jm7x3"
      },
      "source": [
        "salary = np.array([35, 45, 190, 200, 40, 70, 54, 150, 120, 110])\n",
        "scoring = np.array([401, 574, 874, 919, 459, 739, 653, 902, 746, 832])"
      ],
      "execution_count": null,
      "outputs": []
    },
    {
      "cell_type": "code",
      "metadata": {
        "id": "jeGW7xFhgwRq"
      },
      "source": [
        "def cov(X, Y, ddof=1):\n",
        "    X_mean = X.mean()\n",
        "    Y_mean = Y.mean()\n",
        "    return ((X - X_mean) * (Y - Y_mean)).sum() / (X.shape[0] - ddof)"
      ],
      "execution_count": null,
      "outputs": []
    },
    {
      "cell_type": "code",
      "metadata": {
        "colab": {
          "base_uri": "https://localhost:8080/"
        },
        "id": "_GugEdYpm4bM",
        "outputId": "e529fcd5-cbfc-4699-c7c2-a3c41e006390"
      },
      "source": [
        "print(f'Ковариация: {cov(salary, scoring)}')\n",
        "print(f'Ковариация np.cov: {np.cov(salary, scoring)[0,1]}')"
      ],
      "execution_count": null,
      "outputs": [
        {
          "output_type": "stream",
          "name": "stdout",
          "text": [
            "Ковариация: 10175.37777777778\n",
            "Ковариация np.cov: 10175.377777777776\n"
          ]
        }
      ]
    },
    {
      "cell_type": "code",
      "metadata": {
        "id": "LaKZjEgEg-Z-"
      },
      "source": [
        "def std(X, ddof=1):\n",
        "    X_mean = X.mean()\n",
        "    return np.sqrt(((X - X_mean)**2).sum() / (X.shape[0] - ddof))\n",
        "\n",
        "def corr(X,Y):\n",
        "    return cov(X, Y) / (std(X) * std(Y))"
      ],
      "execution_count": null,
      "outputs": []
    },
    {
      "cell_type": "code",
      "metadata": {
        "colab": {
          "base_uri": "https://localhost:8080/"
        },
        "id": "11iY4hY9jEEA",
        "outputId": "42276844-7bef-4cd9-f15f-b7e82a5f7f0a"
      },
      "source": [
        "print(f'Корреляции Пирсона: {corr(salary,  scoring)}')\n",
        "print(f'Коэффициент корреляции Пирсона np.corrcoef: {corr(salary,  scoring)}')\n",
        "d = {'salary': salary, 'scoring': scoring}\n",
        "df = pd.DataFrame(data = d)\n",
        "df_corr = df.corr()['scoring'][0]\n",
        "print(f'Коэффициент корреляции Пирсона df.corr(): {df_corr}')"
      ],
      "execution_count": null,
      "outputs": [
        {
          "output_type": "stream",
          "name": "stdout",
          "text": [
            "Корреляции Пирсона: 0.8874900920739164\n",
            "Коэффициент корреляции Пирсона np.corrcoef: 0.8874900920739164\n",
            "Коэффициент корреляции Пирсона df.corr(): 0.8874900920739162\n"
          ]
        }
      ]
    },
    {
      "cell_type": "markdown",
      "metadata": {
        "id": "nDMshRUONwTX"
      },
      "source": [
        "**Задача 2**\n",
        "\n",
        "Измерены значения IQ выборки студентов, обучающихся в местных технических вузах:\n",
        "\n",
        "131, 125, 115, 122, 131, 115, 107, 99, 125, 111\n",
        "* Известно, что в генеральной совокупности IQ распределен нормально. Найдите доверительный интервал для математического ожидания с надежностью 0.95."
      ]
    },
    {
      "cell_type": "markdown",
      "metadata": {
        "id": "aQRDiieFLPFY"
      },
      "source": [
        "Будем использовать распределение Стьюдента, тк нам известно только о нормальности распределения"
      ]
    },
    {
      "cell_type": "code",
      "metadata": {
        "colab": {
          "base_uri": "https://localhost:8080/"
        },
        "id": "nusNFpQ3LgZF",
        "outputId": "5d5db2a3-d4d6-4dc0-9fe1-6543204b4e4c"
      },
      "source": [
        "IQ = np.array([131, 125, 115, 122, 131, 115, 107, 99, 125, 111])\n",
        "X_mean = IQ.mean()\n",
        "n = 10\n",
        "t = stats.t.ppf(1-0.025,n-1)\n",
        "S = np.std(IQ, ddof=0)\n",
        "P = [X_mean- t * S / np.sqrt(n), X_mean + t * S / np.sqrt(n)]\n",
        "print(f'Выборочная средняя: {X_mean}')\n",
        "print(f'Распределения Стьюдента {t:.3}')\n",
        "print(f'Cреднеквадратичное отклонение: {S:.3}')\n",
        "print(f'Доверительный интервал: {P}')\n"
      ],
      "execution_count": null,
      "outputs": [
        {
          "output_type": "stream",
          "name": "stdout",
          "text": [
            "Выборочная средняя: 118.1\n",
            "Распределения Стьюдента 2.26\n",
            "Cреднеквадратичное отклонение: 10.0\n",
            "Доверительный интервал: [110.9432125583706, 125.25678744162938]\n"
          ]
        }
      ]
    },
    {
      "cell_type": "markdown",
      "metadata": {
        "id": "hUUN2TKcN6Vb"
      },
      "source": [
        "**Задача 3**\n",
        "\n",
        "Известно, что рост футболистов в сборной распределен нормально с известной дисперсией 25. На выборке объёма 27 выборочное среднее составило 174.2. Найдите доверительный интервал для математического ожидания с надежностью 0.95."
      ]
    },
    {
      "cell_type": "code",
      "metadata": {
        "colab": {
          "base_uri": "https://localhost:8080/"
        },
        "id": "nIGWiVH-Mm7o",
        "outputId": "7101935b-ce67-434e-dd38-0e39bb549061"
      },
      "source": [
        "D = 25\n",
        "X_mean = 174.2\n",
        "n = 27\n",
        "#  среднеквадратичное отклонение\n",
        "sigma = np.sqrt(D/n)\n",
        "P = [X_mean - 2 * sigma, X_mean + 2 * sigma]\n",
        "print(f'Доверительный интервал:{P}')\n"
      ],
      "execution_count": null,
      "outputs": [
        {
          "output_type": "stream",
          "name": "stdout",
          "text": [
            "Доверительный интервал:[172.27549910270125, 176.12450089729873]\n"
          ]
        }
      ]
    },
    {
      "cell_type": "markdown",
      "metadata": {
        "id": "YAw4EGjzPEWF"
      },
      "source": [
        "**Задача 4**\n",
        "\n",
        "Выберите тему для проектной работы по курсу Теории вероятностей и математической статистики и напишите ее в комментарии к Практическому заданию."
      ]
    }
  ]
}