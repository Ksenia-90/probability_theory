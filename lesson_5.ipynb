{
  "nbformat": 4,
  "nbformat_minor": 0,
  "metadata": {
    "colab": {
      "name": "lesson_5.ipynb",
      "provenance": [],
      "collapsed_sections": [],
      "authorship_tag": "ABX9TyMRjFtMNv28IPZVl+EgQh9a",
      "include_colab_link": true
    },
    "kernelspec": {
      "name": "python3",
      "display_name": "Python 3"
    },
    "language_info": {
      "name": "python"
    }
  },
  "cells": [
    {
      "cell_type": "markdown",
      "metadata": {
        "id": "view-in-github",
        "colab_type": "text"
      },
      "source": [
        "<a href=\"https://colab.research.google.com/github/Ksenia-90/probability_theory/blob/lesson_5/lesson_5.ipynb\" target=\"_parent\"><img src=\"https://colab.research.google.com/assets/colab-badge.svg\" alt=\"Open In Colab\"/></a>"
      ]
    },
    {
      "cell_type": "markdown",
      "metadata": {
        "id": "5h2F-PwskXOh"
      },
      "source": [
        "##**Урок 5. Проверка статистических гипотез. P-значения. Доверительные интервалы. A/B-тестирование**"
      ]
    },
    {
      "cell_type": "code",
      "metadata": {
        "id": "9QQCkgm1dX2M"
      },
      "source": [
        "import numpy as np\n",
        "from scipy import stats\n",
        "import numpy as np"
      ],
      "execution_count": 3,
      "outputs": []
    },
    {
      "cell_type": "markdown",
      "metadata": {
        "id": "RJz4k-n3kft1"
      },
      "source": [
        "**Задача 1**\n",
        "\n",
        "Известно, что генеральная совокупность распределена нормально с известным средним квадратическим отклонением 16. Найти доверительный интервал для оценки математического ожидания mu с надёжностью 0.95, если выборочное среднее равно 80, а объём равен 256."
      ]
    },
    {
      "cell_type": "code",
      "metadata": {
        "colab": {
          "base_uri": "https://localhost:8080/"
        },
        "id": "CBgXWdInMQu2",
        "outputId": "78db52d7-7ca7-4886-c9d7-9f629d689b24"
      },
      "source": [
        "t_obj = stats.t(256 - 1)\n",
        "t = t_obj.ppf(1 - 0.05 / 2)\n",
        "t"
      ],
      "execution_count": 28,
      "outputs": [
        {
          "output_type": "execute_result",
          "data": {
            "text/plain": [
              "1.9693105698491928"
            ]
          },
          "metadata": {},
          "execution_count": 28
        }
      ]
    },
    {
      "cell_type": "code",
      "metadata": {
        "colab": {
          "base_uri": "https://localhost:8080/"
        },
        "id": "iHkKVunMMen2",
        "outputId": "02b7ad56-1781-4c8d-f1b0-a48ef88acd26"
      },
      "source": [
        "s = 16\n",
        "n = 256\n",
        "m = 80\n",
        "print ('Доверительный интервал:', (m - t * s / np.sqrt(n), m + t * s / np.sqrt(n)))"
      ],
      "execution_count": 36,
      "outputs": [
        {
          "output_type": "stream",
          "name": "stdout",
          "text": [
            "Доверительный интервал: (78.0306894301508, 81.9693105698492)\n"
          ]
        }
      ]
    },
    {
      "cell_type": "markdown",
      "metadata": {
        "id": "ehUbUiqvkrmR"
      },
      "source": [
        "**Задача 2**\n",
        "\n",
        "Продавец утверждает, что средний вес пачки печенья составляет 200 г. Из партии извлечена выборка из 10 пачек. Вес каждой пачки составляет:\n",
        "\n",
        "202, 203, 199, 197, 195, 201, 200, 204, 194, 190\n",
        "\n",
        "\n",
        "Известно, что их веса распределены нормально.\n",
        "1. Верно ли утверждение продавца, если учитывать, что уровень значимости равен 1%?\n",
        "2. Найдите P-значение для данного теста."
      ]
    },
    {
      "cell_type": "markdown",
      "metadata": {
        "id": "sGkRPlfxddYH"
      },
      "source": [
        "Проверим утвержденеи продавца, что средний вес пачки печенья составляет 200 г."
      ]
    },
    {
      "cell_type": "code",
      "metadata": {
        "colab": {
          "base_uri": "https://localhost:8080/"
        },
        "id": "TStemDRwd8VZ",
        "outputId": "098b0e4f-e614-42e1-b207-ece69c4760b4"
      },
      "source": [
        "weight  = np.array([202, 203, 199, 197, 195, 201, 200, 204, 194, 190])\n",
        "m = weight.mean()\n",
        "print(m)"
      ],
      "execution_count": 41,
      "outputs": [
        {
          "output_type": "stream",
          "name": "stdout",
          "text": [
            "198.5\n"
          ]
        }
      ]
    },
    {
      "cell_type": "code",
      "metadata": {
        "colab": {
          "base_uri": "https://localhost:8080/"
        },
        "id": "OwjRrjrtey-n",
        "outputId": "806d5493-f8a0-4726-f3d1-b3d93ba5ebdf"
      },
      "source": [
        "n = 10\n",
        "sigma = np.sqrt(((weight - m)**2).sum()/(n-1))\n",
        "print ('sigma', sigma)"
      ],
      "execution_count": 42,
      "outputs": [
        {
          "output_type": "stream",
          "name": "stdout",
          "text": [
            "sigma 4.453463071962462\n"
          ]
        }
      ]
    },
    {
      "cell_type": "markdown",
      "metadata": {
        "id": "1dEbMpUEhqF5"
      },
      "source": [
        "Табличное значение коэффициента Стьюдента"
      ]
    },
    {
      "cell_type": "code",
      "metadata": {
        "id": "8i7fAPBghjQw"
      },
      "source": [
        "t_tabl = 3.250"
      ],
      "execution_count": 43,
      "outputs": []
    },
    {
      "cell_type": "code",
      "metadata": {
        "colab": {
          "base_uri": "https://localhost:8080/"
        },
        "id": "aWm3qFi0gWSb",
        "outputId": "658190ae-ad89-4812-d7ba-cbecb71c5d8d"
      },
      "source": [
        "t = stats.t(n-1)\n",
        "t.cdf(3.250)"
      ],
      "execution_count": 44,
      "outputs": [
        {
          "output_type": "execute_result",
          "data": {
            "text/plain": [
              "0.9950013154579892"
            ]
          },
          "metadata": {},
          "execution_count": 44
        }
      ]
    },
    {
      "cell_type": "code",
      "metadata": {
        "colab": {
          "base_uri": "https://localhost:8080/"
        },
        "id": "IzGxzAkXgNtu",
        "outputId": "55861a66-6f4c-459b-aa29-e9def7411221"
      },
      "source": [
        "print ('Доверительный интервал равен:', (m - t_tabl*sigma/np.sqrt(n), m + t_tabl*sigma/np.sqrt(n)))"
      ],
      "execution_count": 45,
      "outputs": [
        {
          "output_type": "stream",
          "name": "stdout",
          "text": [
            "Доверительный интервал равен: (193.9229967955732, 203.0770032044268)\n"
          ]
        }
      ]
    },
    {
      "cell_type": "markdown",
      "metadata": {
        "id": "i4K1WboFiQkc"
      },
      "source": [
        "Доверительный интервал, построенный с учётом вероятности 99,5%, включает значение предполагаемого среднего значения 200г., следовательно утверждение продавца, что средний вес пачки = 200 гр, верно."
      ]
    },
    {
      "cell_type": "markdown",
      "metadata": {
        "id": "GzD_HlPvk16i"
      },
      "source": [
        "**Задача 3**\n",
        "\n",
        "Утверждается, что шарики для подшипников, изготовленные автоматическим станком, имеют средний диаметр 17 мм. Используя уровень значимости 0.025 и правостороннюю критическую область, проверить данную гипотезу при условии, что в выборке из 100 шариков средний диаметр оказался равным 17.5 мм, а дисперсия известна и равна 4 мм."
      ]
    },
    {
      "cell_type": "markdown",
      "metadata": {
        "id": "sdR6nI8D9Sqh"
      },
      "source": [
        "выдвинем 2 гипотизы:\n",
        "*  $H_0$ : средний диаметр шарика для подшипникак 17 мм\n",
        "*  $H_1$ : средний диаметр шарика для подшипникак больше 17 мм\n",
        "\n"
      ]
    },
    {
      "cell_type": "markdown",
      "metadata": {
        "id": "fytJ15VNAB74"
      },
      "source": [
        "Предполагается, что количество шариков большое, то распределение диаметра шариков является нормальным или близким к нормальному. Найдем sigma"
      ]
    },
    {
      "cell_type": "code",
      "metadata": {
        "colab": {
          "base_uri": "https://localhost:8080/"
        },
        "id": "qbXlnYT8_GHy",
        "outputId": "4743c56e-bc1c-4596-9da1-faf6b1fd5e90"
      },
      "source": [
        "n = 100\n",
        "D = 4\n",
        "sigma = np.sqrt(D/n)\n",
        "sigma"
      ],
      "execution_count": 5,
      "outputs": [
        {
          "output_type": "execute_result",
          "data": {
            "text/plain": [
              "0.2"
            ]
          },
          "metadata": {},
          "execution_count": 5
        }
      ]
    },
    {
      "cell_type": "markdown",
      "metadata": {
        "id": "al8xlnVJARLw"
      },
      "source": [
        "установим уровень значимости 𝛼"
      ]
    },
    {
      "cell_type": "code",
      "metadata": {
        "id": "4PZFrI6FAXBz"
      },
      "source": [
        "alpha = 0.05"
      ],
      "execution_count": 21,
      "outputs": []
    },
    {
      "cell_type": "markdown",
      "metadata": {
        "id": "kmQAANxFBHoU"
      },
      "source": [
        "Выбранный уровень значимости $\\alpha = 0.025$ означает, что для проверки гипотезы о среднем значении alpha = 17 требуется, чтобы выборочное среднее попадало в правосторонний интервал, который равен $a - 2 \\cdot \\sigma,  a + 2 \\cdot \\sigma$ (по правилу 2-х сигм).\n",
        "\n"
      ]
    },
    {
      "cell_type": "markdown",
      "metadata": {
        "id": "0U6rcDrDApGY"
      },
      "source": [
        "Kритическая область лежит правее точки $a + 2 \\cdot \\sigma $ и если выборочное среднее 17.5 mm попадёт в критическую область, то  гипотеза $H_0$ отвергается."
      ]
    },
    {
      "cell_type": "code",
      "metadata": {
        "colab": {
          "base_uri": "https://localhost:8080/"
        },
        "id": "H_0kRNK0Azxk",
        "outputId": "9a40dc50-4c5c-4ffc-d454-2358d3a627c6"
      },
      "source": [
        "a = 17\n",
        "sigma = 0.2\n",
        "(a + 2 * sigma)"
      ],
      "execution_count": 46,
      "outputs": [
        {
          "output_type": "execute_result",
          "data": {
            "text/plain": [
              "17.4"
            ]
          },
          "metadata": {},
          "execution_count": 46
        }
      ]
    },
    {
      "cell_type": "markdown",
      "metadata": {
        "id": "ARMwZX4mCXpU"
      },
      "source": [
        "Доверительный интервал $\\left( 17.4, \\infty \\right)$ Гипотеза о том, что шарики для подшипников имеют средний диаметр 17 мм, при выбранном уровне значимости $\\alpha = 0.025$ отвергается.\n",
        "\n"
      ]
    },
    {
      "cell_type": "code",
      "metadata": {
        "colab": {
          "base_uri": "https://localhost:8080/"
        },
        "id": "_Jtv_FwiCloH",
        "outputId": "14fe304b-664d-49e9-e45f-1b4cfae84535"
      },
      "source": [
        "stats.norm.ppf(1 - 0.025, 17, 0.2)"
      ],
      "execution_count": 22,
      "outputs": [
        {
          "output_type": "execute_result",
          "data": {
            "text/plain": [
              "17.39199279690801"
            ]
          },
          "metadata": {},
          "execution_count": 22
        }
      ]
    },
    {
      "cell_type": "markdown",
      "metadata": {
        "id": "Ywckvk1hk6sl"
      },
      "source": [
        "**Задача 4 (Дополнительно)**\n",
        "\n",
        "Дана выборка диаметров подшипников из примера 1 с занятия 5:\n",
        "\n",
        "samples = [0.6603, 0.9466, 0.5968, 1.3792, 1.5481, 0.7515, 1.0681, 1.1134,\n",
        "1.2088, 1.701 , 1.0282, 1.3579, 1.0191, 1.1784, 1.1168, 1.1372,\n",
        "0.7273, 1.3958, 0.8665, 1.5112, 1.161 , 1.0232, 1.0865, 1.02 ]\n",
        "\n",
        "Предполагая, что диаметры подшипников распределены нормально, проверьте гипотезу о том, что дисперсия случайной величины равна 0.0625 при уровне значимости alpha = 0.05. Что для этого нужно знать:\n",
        "1. Альтернативная гипотеза двухсторонняя.\n",
        "2. Статистика для теста: H = (n - 1) * sample_variance / variance, где n - число элементов в выборке, sample_variance - несмещённая оценка дисперсии, variance - утверждаемая нулевой гипотезой дисперсия.\n",
        "3. Эта статистика в предположении верности нулевой гипотезы имеет распределение хи-квадрат с параметром df = n - 1. Её квантили можно найти с помощью функции scipy.stats.chi2.ppf."
      ]
    },
    {
      "cell_type": "code",
      "metadata": {
        "id": "7jOyE0doFVG7"
      },
      "source": [
        "samples = np.array([0.6603, 0.9466, 0.5968, 1.3792, 1.5481, 0.7515, 1.0681, 1.1134,\n",
        "                    1.2088, 1.701 , 1.0282, 1.3579, 1.0191, 1.1784, 1.1168, 1.1372,\n",
        "                    0.7273, 1.3958, 0.8665, 1.5112, 1.161 , 1.0232, 1.0865, 1.02  ])\n",
        "alpha = 0.05\n",
        "D = 0.0625\n",
        "n = 24 "
      ],
      "execution_count": 4,
      "outputs": []
    },
    {
      "cell_type": "code",
      "metadata": {
        "colab": {
          "base_uri": "https://localhost:8080/"
        },
        "id": "Gnx1MivHKUVz",
        "outputId": "610af05e-623b-4e34-e7b6-da2e4eba5a67"
      },
      "source": [
        "sigma = np.sqrt(D/n)\n",
        "sigma"
      ],
      "execution_count": 5,
      "outputs": [
        {
          "output_type": "execute_result",
          "data": {
            "text/plain": [
              "0.05103103630798288"
            ]
          },
          "metadata": {},
          "execution_count": 5
        }
      ]
    },
    {
      "cell_type": "code",
      "metadata": {
        "colab": {
          "base_uri": "https://localhost:8080/"
        },
        "id": "pgLU0SysiAoe",
        "outputId": "87f3384a-0118-4632-bdfc-79deceed91db"
      },
      "source": [
        "mean_ = samples.mean()\n",
        "print(mean_)"
      ],
      "execution_count": 8,
      "outputs": [
        {
          "output_type": "stream",
          "name": "stdout",
          "text": [
            "1.1084541666666665\n"
          ]
        }
      ]
    }
  ]
}