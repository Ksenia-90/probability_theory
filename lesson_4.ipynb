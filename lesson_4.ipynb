{
  "nbformat": 4,
  "nbformat_minor": 0,
  "metadata": {
    "colab": {
      "name": "lesson_4.ipynb",
      "provenance": [],
      "collapsed_sections": [],
      "authorship_tag": "ABX9TyPWDvhhgsUnPOrhsFBQ5WFQ",
      "include_colab_link": true
    },
    "kernelspec": {
      "name": "python3",
      "display_name": "Python 3"
    },
    "language_info": {
      "name": "python"
    }
  },
  "cells": [
    {
      "cell_type": "markdown",
      "metadata": {
        "id": "view-in-github",
        "colab_type": "text"
      },
      "source": [
        "<a href=\"https://colab.research.google.com/github/Ksenia-90/probability_theory/blob/lesson_4/lesson_4.ipynb\" target=\"_parent\"><img src=\"https://colab.research.google.com/assets/colab-badge.svg\" alt=\"Open In Colab\"/></a>"
      ]
    },
    {
      "cell_type": "markdown",
      "metadata": {
        "id": "j2LbKOBrr6x_"
      },
      "source": [
        "##**Урок 4. Непрерывные случайные величины. Функция распределения и плотность распределения вероятностей. Равномерное и нормальное распределение. Центральная предельная теорема**"
      ]
    },
    {
      "cell_type": "code",
      "metadata": {
        "id": "XWUMQ1GZjSFM"
      },
      "source": [
        "import pandas as pd\n",
        "import numpy as np\n",
        "import math\n",
        "from scipy.optimize import fsolve\n",
        "import scipy.stats as ss"
      ],
      "execution_count": 1,
      "outputs": []
    },
    {
      "cell_type": "markdown",
      "metadata": {
        "id": "LTm_tSmMsFS5"
      },
      "source": [
        "**Задача 1**\n",
        "\n",
        "О непрерывной равномерно распределенной случайной величине B известно, что ее дисперсия равна 0.2. Можно ли найти правую границу величины B и ее среднее значение зная, что левая граница равна 0.5? Если да, найдите ее.\n",
        "\n"
      ]
    },
    {
      "cell_type": "markdown",
      "metadata": {
        "id": "yjAtHL66kAT8"
      },
      "source": [
        "Найдем правую границу равномерного распределения, зная левую и дисперсию :\n",
        " 0.2 = ((b - 0.5)**2)/12"
      ]
    },
    {
      "cell_type": "code",
      "metadata": {
        "colab": {
          "base_uri": "https://localhost:8080/"
        },
        "id": "sHH1sUEgjz5o",
        "outputId": "aad2c76f-a351-438d-9802-441b18ae22ce"
      },
      "source": [
        "D = 0.2\n",
        "A = 0.5\n",
        "def function(x):\n",
        "    return ((x-A)**2/12-D)\n",
        "\n",
        "B = float(fsolve(function, (2))) \n",
        "M = (A + B)/2\n",
        "\n",
        "print(f'Правая граница B = {B:.3}')\n",
        "print(f' Математическое ожидание M = {M:.3}')"
      ],
      "execution_count": null,
      "outputs": [
        {
          "output_type": "stream",
          "name": "stdout",
          "text": [
            "Правая граница B = 2.05\n",
            " Математическое ожидание M = 1.27\n"
          ]
        }
      ]
    },
    {
      "cell_type": "markdown",
      "metadata": {
        "id": "iYJlWlhdsLlx"
      },
      "source": [
        "**Задача 2**\n",
        "\n",
        "Рост взрослого населения города X имеет нормальное распределение, причем, средний рост равен 174 см, а среднее квадратическое отклонение равно 8 см. посчитайте, какова вероятность того, что случайным образом выбранный взрослый человек имеет рост:\n",
        "1. больше 182 см?\n",
        "2. больше 190 см?\n",
        "3. от 166 см до 190 см?\n",
        "4. от 166 см до 182 см?\n",
        "5. от 158 см до 190 см?\n",
        "6. не выше 150 см или не ниже 190 см?\n",
        "7. не выше 150 см или не ниже 198 см?\n",
        "8. ниже 166 см?\n",
        "\n",
        "Задачу можно решить двумя способами: без использования сторонних библиотек (numpy, scipy, pandas и пр.), а затем проверить себя с помощью встроенных функций"
      ]
    },
    {
      "cell_type": "code",
      "metadata": {
        "colab": {
          "base_uri": "https://localhost:8080/"
        },
        "id": "nYZNiQ2JnMWs",
        "outputId": "74e08874-724e-44d4-c3d1-3fab2d930451"
      },
      "source": [
        "medium_height = 174\n",
        "Sigma = 8\n",
        "\n",
        "P_1 = 1 - ss.norm.cdf((182 - medium_height) / Sigma) - ss.norm.cdf((0 - medium_height) / Sigma)\n",
        "P_2 = 1 - ss.norm.cdf((190 - medium_height) / Sigma) - ss.norm.cdf((0 - medium_height) / Sigma)\n",
        "P_3 = ss.norm.cdf((190 - medium_height) / Sigma) - ss.norm.cdf((166 - medium_height) / Sigma)\n",
        "P_4 = ss.norm.cdf((182 - medium_height) / Sigma) - ss.norm.cdf((166 - medium_height) / Sigma)\n",
        "P_5 = ss.norm.cdf((190 - medium_height) / Sigma) - ss.norm.cdf((158 - medium_height) /Sigma)\n",
        "P_6 = (1 - ss.norm.cdf((190 - medium_height) / Sigma) - ss.norm.cdf((0 - medium_height) / Sigma)) + (ss.norm.cdf((150 - medium_height) / Sigma) - ss.norm.cdf((0 - medium_height) / Sigma))\n",
        "P_7 = (1 - ss.norm.cdf((198 - medium_height) / Sigma) - ss.norm.cdf((0 - medium_height) / Sigma)) + (ss.norm.cdf((150 - medium_height) / Sigma) - ss.norm.cdf((0 - medium_height) / Sigma))\n",
        "P_8 = ss.norm.cdf((166 - medium_height) / Sigma) - ss.norm.cdf((0 - medium_height) / Sigma)\n",
        "\n",
        "print(f'больше 182 см: {np.round(P_1, 3)}')\n",
        "print(f'больше 190 см: {np.round(P_2, 3)}')\n",
        "print(f'от 166 см до 190 см: {np.round(P_3, 3)}')\n",
        "print(f'от 166 см до 182 см: {np.round(P_4, 3)}')\n",
        "print(f'от 158 см до 190 см: {np.round(P_5, 3)}')\n",
        "print(f'не выше 150 см или не ниже 190 см: {np.round(P_6, 3)}')\n",
        "print(f'не выше 150 см или не ниже 198 см: {np.round(P_7, 3)}')\n",
        "print(f'ниже 166 см.: {np.round(P_8, 3)}')"
      ],
      "execution_count": null,
      "outputs": [
        {
          "output_type": "stream",
          "name": "stdout",
          "text": [
            "больше 182 см: 0.159\n",
            "больше 190 см: 0.023\n",
            "от 166 см до 190 см: 0.819\n",
            "от 166 см до 182 см: 0.683\n",
            "от 158 см до 190 см: 0.954\n",
            "не выше 150 см или не ниже 190 см: 0.024\n",
            "не выше 150 см или не ниже 198 см: 0.003\n",
            "ниже 166 см.: 0.159\n"
          ]
        }
      ]
    },
    {
      "cell_type": "markdown",
      "metadata": {
        "id": "g8C0tzsrsSsp"
      },
      "source": [
        "**Задача 3 (Дополнительно)**\n",
        "\n",
        "Коробки с шоколадом упаковываются автоматически. Их средняя масса равна 1.06 кг. Известно, что 5% коробок имеют массу, меньшую 1 кг. Найдите: а) среднее квадратическое отклонение массы коробки, б) процент коробок, имеющих массу больше 1.1 кг.\n",
        "\n",
        "Подсказка. 1. Можно считать, что распределение массы коробки нормальное. 2. Найдите такое значение scale, для которого значение cdf(x=1, loc=1.06, scale=scale) близко к 0.05. Точности 0.0001 будет достаточно."
      ]
    },
    {
      "cell_type": "markdown",
      "metadata": {
        "id": "-b_ZL6R1X5p8"
      },
      "source": [
        "* По формуле Лапласа (Табличные значения)\n",
        "\n",
        "* Используем условие 5% коробок имеют массу, меньшую 1 кг.\n",
        "* (Р-inf < X < 1) = Ф((1-1,06)/sigma) - Ф ((-inf -1.06)/sigma) = 0.05\n",
        "* Ф((0,06/sigma) = 0.45\n",
        "* sigma = 0.0365\n"
      ]
    },
    {
      "cell_type": "code",
      "metadata": {
        "colab": {
          "base_uri": "https://localhost:8080/"
        },
        "id": "5rN_e85-XI_P",
        "outputId": "b6c949b7-bdcd-4239-c9e0-96de277b1f49"
      },
      "source": [
        "P = (1 - ss.norm.cdf((1.1 - 1.06) / 0.0365) - ss.norm.cdf((0 - 1.06) / 0.0365))*100\n",
        "print(f'процент коробок, имеющих массу больше 1.1 кг.: {np.round(P, 2)}%')"
      ],
      "execution_count": 21,
      "outputs": [
        {
          "output_type": "stream",
          "name": "stdout",
          "text": [
            "процент коробок, имеющих массу больше 1.1 кг.: 13.66%\n"
          ]
        }
      ]
    }
  ]
}