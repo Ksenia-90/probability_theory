{
  "nbformat": 4,
  "nbformat_minor": 0,
  "metadata": {
    "colab": {
      "name": "lesson_8.ipynb",
      "provenance": [],
      "collapsed_sections": [],
      "authorship_tag": "ABX9TyNlQwiqI0yj3GBNCgQPQRcK",
      "include_colab_link": true
    },
    "kernelspec": {
      "name": "python3",
      "display_name": "Python 3"
    },
    "language_info": {
      "name": "python"
    }
  },
  "cells": [
    {
      "cell_type": "markdown",
      "metadata": {
        "id": "view-in-github",
        "colab_type": "text"
      },
      "source": [
        "<a href=\"https://colab.research.google.com/github/Ksenia-90/probability_theory/blob/lesson_8/lesson_8.ipynb\" target=\"_parent\"><img src=\"https://colab.research.google.com/assets/colab-badge.svg\" alt=\"Open In Colab\"/></a>"
      ]
    },
    {
      "cell_type": "markdown",
      "metadata": {
        "id": "T9fE1CMhzNrg"
      },
      "source": [
        "##**Урок 8. Дисперсионный анализ. Логистическая регрессия**"
      ]
    },
    {
      "cell_type": "code",
      "metadata": {
        "id": "C83yIBUL0Beg"
      },
      "source": [
        "import numpy as np\n",
        "import pandas as pd\n",
        "from scipy import stats\n",
        "%matplotlib inline"
      ],
      "execution_count": 52,
      "outputs": []
    },
    {
      "cell_type": "markdown",
      "metadata": {
        "id": "amVXp5Mezld1"
      },
      "source": [
        "**Задача 1**\n",
        "\n",
        "Провести дисперсионный анализ для определения того, есть ли различия среднего роста среди взрослых футболистов, хоккеистов и штангистов. Даны значения роста в трех группах случайно выбранных спортсменов:\n",
        "\n",
        "* football_players = [173, 175, 180, 178, 177, 185, 183, 182]\n",
        "* hockey_players = [177, 179, 180, 188, 177, 172, 171, 184, 180]\n",
        "* lifters = [172, 173, 169, 177, 166, 180, 178, 177, 172, 166, 170]\n"
      ]
    },
    {
      "cell_type": "code",
      "metadata": {
        "id": "Uf7sRZnTzxq2"
      },
      "source": [
        "football_players = np.array([173, 175, 180, 178, 177, 185, 183, 182])\n",
        "hockey_players = np.array([177, 179, 180, 188, 177, 172, 171, 184, 180]) \n",
        "lifters = np.array([172, 173, 169, 177, 166, 180, 178, 177, 172, 166, 170])"
      ],
      "execution_count": 3,
      "outputs": []
    },
    {
      "cell_type": "code",
      "metadata": {
        "colab": {
          "base_uri": "https://localhost:8080/"
        },
        "id": "TEJrlusV0b8P",
        "outputId": "78283f98-213b-4c3b-9d8f-980883457f94"
      },
      "source": [
        "football_players_mean = football_players.mean()\n",
        "hockey_players_mean = hockey_players.mean()\n",
        "lifters_mean = lifters.mean()\n",
        "print(f'Cреднее значение:') \n",
        "print(f'football_players = {fp_mean}')\n",
        "print(f'hockey_players =  {np.round(hp_mean, 3)}')\n",
        "print(f'lifters =  {np.round(lf_mean, 3)}')"
      ],
      "execution_count": 54,
      "outputs": [
        {
          "output_type": "stream",
          "name": "stdout",
          "text": [
            "Cреднее значение:\n",
            "football_players = 179.125\n",
            "hockey_players =  178.667\n",
            "lifters =  172.727\n"
          ]
        }
      ]
    },
    {
      "cell_type": "code",
      "metadata": {
        "colab": {
          "base_uri": "https://localhost:8080/"
        },
        "id": "by1HCv2q-ULE",
        "outputId": "49a2109e-4451-4548-8d18-586a6604fa94"
      },
      "source": [
        "n_1 = football_players.shape[0]\n",
        "n_2 = hockey_players.shape[0] \n",
        "n_3 = lifters.shape[0]\n",
        "n_1, n_2, n_3"
      ],
      "execution_count": 33,
      "outputs": [
        {
          "output_type": "execute_result",
          "data": {
            "text/plain": [
              "(8, 9, 11)"
            ]
          },
          "metadata": {},
          "execution_count": 33
        }
      ]
    },
    {
      "cell_type": "code",
      "metadata": {
        "colab": {
          "base_uri": "https://localhost:8080/"
        },
        "id": "j3e4JwXi3f3m",
        "outputId": "07954e77-8b15-41e1-c786-139e52f6904e"
      },
      "source": [
        "height = np.concatenate([football_players, hockey_players, lifters])\n",
        "height_mean = height.mean()\n",
        "print(f'Cреднее значение общее {np.round(height_mean, 3)}')"
      ],
      "execution_count": 55,
      "outputs": [
        {
          "output_type": "stream",
          "name": "stdout",
          "text": [
            "Cреднее значение общее 176.464\n"
          ]
        }
      ]
    },
    {
      "cell_type": "markdown",
      "metadata": {
        "id": "5YntkjvK7Ghs"
      },
      "source": [
        "Найдем значение S2_b и S2_w"
      ]
    },
    {
      "cell_type": "code",
      "metadata": {
        "colab": {
          "base_uri": "https://localhost:8080/"
        },
        "id": "oXvJQYGI7QM_",
        "outputId": "2d6a9ac7-b38b-408b-d8ce-69885239a4c3"
      },
      "source": [
        "S2_b = n_1 * (football_players_mean - height_mean) ** 2 + n_2 * (hockey_players_mean - height_mean) ** 2 + n_3 * (lifters_mean - height_mean) ** 2\n",
        "print(f'S2_b = {np.round(S2_b, 3)}')"
      ],
      "execution_count": 34,
      "outputs": [
        {
          "output_type": "stream",
          "name": "stdout",
          "text": [
            "S2_b = 253.907\n"
          ]
        }
      ]
    },
    {
      "cell_type": "code",
      "metadata": {
        "colab": {
          "base_uri": "https://localhost:8080/"
        },
        "id": "Z8s_yJDJ6v7m",
        "outputId": "efdc9d7b-29b0-4ec2-8e97-0d91cd99d528"
      },
      "source": [
        "#внутригрупповоеотклонение\n",
        "S2_w = ((football_players - football_players_mean)**2).sum() + ((hockey_players - hockey_players_mean) ** 2).sum() + ((lifters - lifters_mean) ** 2).sum()\n",
        "print(f'S2_w = {np.round(S2_w, 3)}')"
      ],
      "execution_count": 35,
      "outputs": [
        {
          "output_type": "stream",
          "name": "stdout",
          "text": [
            "S2_w = 577.057\n"
          ]
        }
      ]
    },
    {
      "cell_type": "code",
      "metadata": {
        "colab": {
          "base_uri": "https://localhost:8080/"
        },
        "id": "v1J8_qnA9Qar",
        "outputId": "c34b016b-cd40-47e0-c5ff-b3eb222ff165"
      },
      "source": [
        "S2_b + S2_w, ((height - height_mean) ** 2).sum()"
      ],
      "execution_count": 36,
      "outputs": [
        {
          "output_type": "execute_result",
          "data": {
            "text/plain": [
              "(830.964285714286, 830.9642857142854)"
            ]
          },
          "metadata": {},
          "execution_count": 36
        }
      ]
    },
    {
      "cell_type": "code",
      "metadata": {
        "colab": {
          "base_uri": "https://localhost:8080/"
        },
        "id": "2RSRmS0s5K9q",
        "outputId": "9df40909-ac92-4da9-c7f8-9535d8730a4d"
      },
      "source": [
        "k = 3\n",
        "n = n_1 + n_2 + n_3\n",
        "k_1 = k-1\n",
        "k_2 = n - k\n",
        "k_1, k_2, n"
      ],
      "execution_count": 45,
      "outputs": [
        {
          "output_type": "execute_result",
          "data": {
            "text/plain": [
              "(2, 25, 28)"
            ]
          },
          "metadata": {},
          "execution_count": 45
        }
      ]
    },
    {
      "cell_type": "code",
      "metadata": {
        "colab": {
          "base_uri": "https://localhost:8080/"
        },
        "id": "qf_sCe4i-Ojf",
        "outputId": "bcce3d89-01f4-453a-bbb4-c72bc055a3b9"
      },
      "source": [
        "sigma2_b = S2_b / (k - 1)\n",
        "sigma2_w = S2_w / (n - k)\n",
        "\n",
        "sigma2_b, sigma2_w"
      ],
      "execution_count": 40,
      "outputs": [
        {
          "output_type": "execute_result",
          "data": {
            "text/plain": [
              "(126.9537337662339, 23.08227272727273)"
            ]
          },
          "metadata": {},
          "execution_count": 40
        }
      ]
    },
    {
      "cell_type": "code",
      "metadata": {
        "colab": {
          "base_uri": "https://localhost:8080/"
        },
        "id": "lvJ8siDW_ZYe",
        "outputId": "0d1d4f7b-e4ce-4a6b-90ea-e9d832f8a8be"
      },
      "source": [
        "T = sigma2_b / sigma2_w\n",
        "T"
      ],
      "execution_count": 41,
      "outputs": [
        {
          "output_type": "execute_result",
          "data": {
            "text/plain": [
              "5.500053450812598"
            ]
          },
          "metadata": {},
          "execution_count": 41
        }
      ]
    },
    {
      "cell_type": "code",
      "metadata": {
        "colab": {
          "base_uri": "https://localhost:8080/"
        },
        "id": "-lx1QVFm_hVj",
        "outputId": "e9faddd4-01da-4058-d2bb-2fb48e0586f2"
      },
      "source": [
        "# возьмем уровень значимости 5% (или 0,05)\n",
        "alpha = 0.05\n",
        "F_crit = stats.f.ppf(1 - alpha, (k - 1), (n - k))\n",
        "F_crit\n"
      ],
      "execution_count": 42,
      "outputs": [
        {
          "output_type": "execute_result",
          "data": {
            "text/plain": [
              "3.3851899614491687"
            ]
          },
          "metadata": {},
          "execution_count": 42
        }
      ]
    },
    {
      "cell_type": "code",
      "metadata": {
        "colab": {
          "base_uri": "https://localhost:8080/"
        },
        "id": "8igsnutvAysM",
        "outputId": "054e3441-9be4-4c22-b984-2245ec68cdb3"
      },
      "source": [
        "p = 1 - stats.f.cdf(T, k_1,k_2)\n",
        "p"
      ],
      "execution_count": 49,
      "outputs": [
        {
          "output_type": "execute_result",
          "data": {
            "text/plain": [
              "0.010482206918698611"
            ]
          },
          "metadata": {},
          "execution_count": 49
        }
      ]
    },
    {
      "cell_type": "markdown",
      "metadata": {
        "id": "BwKHqHeq_9sw"
      },
      "source": [
        "T (5.5) > F_crit (3.4), можно сделать вывод, что отличие среднего роста среди взрослых футболистов, хоккеистов и штангистов является статистически значимым."
      ]
    },
    {
      "cell_type": "markdown",
      "metadata": {
        "id": "jAFooTC4zp-e"
      },
      "source": [
        "**Задача 2**\n",
        "\n",
        "Прикрепите ссылку на курсовой проект на github (см. выбор темы в ДЗ к Уроку 6)."
      ]
    }
  ]
}